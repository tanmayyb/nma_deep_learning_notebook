{
  "cells": [
    {
      "cell_type": "markdown",
      "metadata": {
        "id": "view-in-github",
        "colab_type": "text"
      },
      "source": [
        "<a href=\"https://colab.research.google.com/github/tanmayyb/nma_deep_learning_notebook/blob/main/week3/W3_D4-T1.ipynb\" target=\"_parent\"><img src=\"https://colab.research.google.com/assets/colab-badge.svg\" alt=\"Open In Colab\"/></a>"
      ]
    },
    {
      "cell_type": "markdown",
      "metadata": {
        "execution": {},
        "id": "gORwKgVQy6Gm"
      },
      "source": [
        "# Tutorial 1: Learning to Predict\n",
        "\n",
        "**Week 3, Day 4: Basic Reinforcement Learning (RL)**\n",
        "\n",
        "**By Neuromatch Academy**\n",
        "\n",
        "__Content creators:__ Marcelo G Mattar, Eric DeWitt, Matt Krause, Matthew Sargent, Anoop Kulkarni, Sowmya Parthiban, Feryal Behbahani, Jane Wang\n",
        "\n",
        "__Content reviewers:__ Ella Batty, Byron Galbraith, Michael Waskom, Ezekiel Williams, Mehul Rastogi, Lily Cheng, Roberto Guidotti, Arush Tagade, Kelson Shilling-Scrivo\n",
        "\n",
        "__Production editors:__ Gagana B, Spiros Chavlis"
      ]
    },
    {
      "cell_type": "markdown",
      "metadata": {
        "execution": {},
        "id": "BEvXoN2jy6Gq"
      },
      "source": [
        "<p align='center'><img src='https://github.com/NeuromatchAcademy/widgets/blob/master/sponsors.png?raw=True'/></p>"
      ]
    },
    {
      "cell_type": "markdown",
      "metadata": {
        "execution": {},
        "id": "1-HAapkVy6Gr"
      },
      "source": [
        "---\n",
        "\n",
        "# Tutorial objectives\n",
        "  \n",
        "*Estimated timing of tutorial: 50 min*\n",
        "\n",
        "Reinforcement Learning (RL) is a framework for defining and solving a problem where an agent learns to take actions that maximize reward. The problem setting is as follows: an agent, biological or artificial, observes the current state of the world and selects an action based on that state. Upon executing an action, the agent receives a reward and uses this information to improve its future actions. Reinforcement learning provides formal, optimal descriptions of learning. These descriptions were first derived from studies of animal behavior and then validated when the formal quantities used in the model were observed in the brain in humans and animals. \n",
        "\n",
        "Reinforcement learning is a broad framework and it has deep connections to many topics covered in NMA. For instance, most of reinforcement learning defines the world as a Markov Decision Problem, which is built on Hidden Dynamics and Optimal Control. More broadly, reinforcement learning can be seen as a framework that allows us to bring in many ideas and formalisms from other areas like economics, psychology, computer science, artificial intelligence, etc. to define algorithms or models that can solve large, complex problems with only a simple reward signal.\n",
        "\n",
        "In this tutorial, we will model the agent as an observer that learns to predict future rewards. This agent takes no actions and thus cannot influence how much reward it receives. By predicting how much reward follows from each state, the agent can learn to identify the best states of the world -- i.e. the ones that tend to be followed by the most reward. \n",
        "\n",
        "More specifically, we will learn how to estimate state-value functions in a classical conditioning paradigm using Temporal Difference (TD) learning and examine TD-errors at the presentation of the conditioned and unconditioned stimulus (CS and US) under different CS-US contingencies. These exercises will provide you with an understanding of both how reward prediction errors (RPEs) behave in classical conditioning and what we should expect to see if Dopamine represents a \"canonical\" model-free RPE. \n",
        "\n",
        "At the end of this tutorial:    \n",
        "* You will learn to use the standard tapped delay line conditioning model\n",
        "* You will understand how RPEs move to CS\n",
        "* You will understand how variability in reward size effects RPEs\n",
        "* You will understand how differences in US-CS timing effect RPEs"
      ]
    },
    {
      "cell_type": "markdown",
      "metadata": {
        "execution": {},
        "id": "4LvHzW3-y6Gs"
      },
      "source": [
        "Tutorials 1-4 should take a 3+ hours to complete, though it could take longer if you're completely new to this material and/or if you are interested in studying all of the extra material. If you have extra time and/or are interested in going beyond the basics, you may consider doing Tutorial 5, which covers more advanced (and practical) topics in RL such as function approximation and deepRL, though Tutorial 5 is entirely optional."
      ]
    },
    {
      "cell_type": "code",
      "execution_count": 1,
      "metadata": {
        "cellView": "form",
        "execution": {},
        "id": "e4imlwpUy6Gs",
        "outputId": "d9862cd1-091e-4c61-8781-b15c9a6893f6",
        "colab": {
          "base_uri": "https://localhost:8080/",
          "height": 501
        }
      },
      "outputs": [
        {
          "output_type": "execute_result",
          "data": {
            "text/plain": [
              "<IPython.lib.display.IFrame at 0x7f8227640710>"
            ],
            "text/html": [
              "\n",
              "        <iframe\n",
              "            width=\"854\"\n",
              "            height=\"480\"\n",
              "            src=\"https://mfr.ca-1.osf.io/render?url=https://osf.io/2jzdu/?direct%26mode=render%26action=download%26mode=render\"\n",
              "            frameborder=\"0\"\n",
              "            allowfullscreen\n",
              "        ></iframe>\n",
              "        "
            ]
          },
          "metadata": {},
          "execution_count": 1
        }
      ],
      "source": [
        "# @title Tutorial slides\n",
        "\n",
        "# @markdown These are the slides for all videos in this tutorial.\n",
        "from IPython.display import IFrame\n",
        "IFrame(src=f\"https://mfr.ca-1.osf.io/render?url=https://osf.io/2jzdu/?direct%26mode=render%26action=download%26mode=render\", width=854, height=480)"
      ]
    },
    {
      "cell_type": "markdown",
      "metadata": {
        "execution": {},
        "id": "7wXvqo5cy6Gu"
      },
      "source": [
        "These are the slides for all videos in this tutorial. If you want to locally download the slides, click [here](https://osf.io/2jzdu/download)."
      ]
    },
    {
      "cell_type": "markdown",
      "metadata": {
        "execution": {},
        "id": "e1TFyeNcy6Gv"
      },
      "source": [
        "---\n",
        "# Setup"
      ]
    },
    {
      "cell_type": "code",
      "execution_count": 2,
      "metadata": {
        "cellView": "form",
        "execution": {},
        "id": "cNW_NID1y6Gv",
        "outputId": "0fb430df-b6bb-4b73-9e87-2de6ec006d61",
        "colab": {
          "base_uri": "https://localhost:8080/"
        }
      },
      "outputs": [
        {
          "output_type": "stream",
          "name": "stdout",
          "text": [
            "  Building wheel for evaltools (setup.py) ... \u001b[?25l\u001b[?25hdone\n"
          ]
        }
      ],
      "source": [
        "# @title Install dependencies\n",
        "!pip install git+https://github.com/NeuromatchAcademy/evaltools --quiet\n",
        "\n",
        "from evaltools.airtable import AirtableForm\n",
        "atform = AirtableForm('appn7VdPRseSoMXEG', 'W3D4_T1', 'https://portal.neuromatchacademy.org/api/redirect/to/9c55f6cb-cdf9-4429-ac1c-ec44fe64c303')"
      ]
    },
    {
      "cell_type": "code",
      "execution_count": 3,
      "metadata": {
        "cellView": "code",
        "execution": {},
        "id": "3tYTJsEfy6Gw"
      },
      "outputs": [],
      "source": [
        "# Imports\n",
        "import numpy as np\n",
        "import matplotlib.pyplot as plt"
      ]
    },
    {
      "cell_type": "code",
      "execution_count": 4,
      "metadata": {
        "cellView": "form",
        "execution": {},
        "id": "2sIA8-cZy6Gx"
      },
      "outputs": [],
      "source": [
        "# @title Figure Settings\n",
        "import ipywidgets as widgets  # interactive display\n",
        "%config InlineBackend.figure_format = 'retina'\n",
        "plt.style.use(\"https://raw.githubusercontent.com/NeuromatchAcademy/content-creation/main/nma.mplstyle\")"
      ]
    },
    {
      "cell_type": "code",
      "execution_count": 5,
      "metadata": {
        "cellView": "form",
        "execution": {},
        "id": "Xg_8f1NXy6Gx"
      },
      "outputs": [],
      "source": [
        "# @title Plotting Functions\n",
        "from matplotlib import ticker\n",
        "\n",
        "def plot_value_function(V, ax=None, show=True):\n",
        "  \"\"\"Plot V(s), the value function\"\"\"\n",
        "  if not ax:\n",
        "    fig, ax = plt.subplots()\n",
        "\n",
        "  ax.stem(V, use_line_collection=True)\n",
        "  ax.set_ylabel('Value')\n",
        "  ax.set_xlabel('State')\n",
        "  ax.set_title(\"Value function: $V(s)$\")\n",
        "\n",
        "  if show:\n",
        "    plt.show()\n",
        "\n",
        "\n",
        "def plot_tde_trace(TDE, ax=None, show=True, skip=400):\n",
        "  \"\"\"Plot the TD Error across trials\"\"\"\n",
        "  if not ax:\n",
        "    fig, ax = plt.subplots()\n",
        "\n",
        "  indx = np.arange(0, TDE.shape[1], skip)\n",
        "  im = ax.imshow(TDE[:,indx])\n",
        "  positions = ax.get_xticks()\n",
        "  # Avoid warning when setting string tick labels\n",
        "  ax.xaxis.set_major_locator(ticker.FixedLocator(positions))\n",
        "  ax.set_xticklabels([f\"{int(skip * x)}\" for x in positions])\n",
        "  ax.set_title('TD-error over learning')\n",
        "  ax.set_ylabel('State')\n",
        "  ax.set_xlabel('Iterations')\n",
        "  ax.figure.colorbar(im)\n",
        "  if show:\n",
        "    plt.show()\n",
        "\n",
        "\n",
        "def learning_summary_plot(V, TDE):\n",
        "  \"\"\"Summary plot for Ex1\"\"\"\n",
        "  fig, (ax1, ax2) = plt.subplots(nrows = 2, gridspec_kw={'height_ratios': [1, 2]})\n",
        "\n",
        "  plot_value_function(V, ax=ax1, show=False)\n",
        "  plot_tde_trace(TDE, ax=ax2, show=False)\n",
        "  plt.tight_layout()"
      ]
    },
    {
      "cell_type": "code",
      "execution_count": 6,
      "metadata": {
        "cellView": "form",
        "execution": {},
        "id": "ERQpKR_9y6Gx"
      },
      "outputs": [],
      "source": [
        "# @title Helper Functions and Classes\n",
        "\n",
        "def reward_guesser_title_hint(r1, r2):\n",
        "  \"\"\"\"Provide a mildly obfuscated hint for a demo.\"\"\"\n",
        "  if (r1==14 and r2==6) or (r1==6 and r2==14):\n",
        "    return \"Technically correct...(the best kind of correct)\"\n",
        "\n",
        "  if  ~(~(r1+r2) ^ 11) - 1 == (6 | 24): # Don't spoil the fun :-)\n",
        "    return \"Congratulations! You solved it!\"\n",
        "\n",
        "  return \"Keep trying....\"\n",
        "\n",
        "\n",
        "class ClassicalConditioning:\n",
        "\n",
        "    def __init__(self, n_steps, reward_magnitude, reward_time):\n",
        "\n",
        "        # Task variables\n",
        "        self.n_steps = n_steps\n",
        "        self.n_actions = 0\n",
        "        self.cs_time = int(n_steps/4) - 1\n",
        "\n",
        "        # Reward variables\n",
        "        self.reward_state = [0,0]\n",
        "        self.reward_magnitude = None\n",
        "        self.reward_probability = None\n",
        "        self.reward_time = None\n",
        "\n",
        "        # Time step at which the conditioned stimulus is presented\n",
        "        self.set_reward(reward_magnitude, reward_time)\n",
        "\n",
        "        # Create a state dictionary\n",
        "        self._create_state_dictionary()\n",
        "\n",
        "    def set_reward(self, reward_magnitude, reward_time):\n",
        "\n",
        "        \"\"\"\n",
        "        Determine reward state and magnitude of reward\n",
        "        \"\"\"\n",
        "        if reward_time >= self.n_steps - self.cs_time:\n",
        "            self.reward_magnitude = 0\n",
        "\n",
        "        else:\n",
        "            self.reward_magnitude = reward_magnitude\n",
        "            self.reward_state = [1, reward_time]\n",
        "\n",
        "    def get_outcome(self, current_state):\n",
        "\n",
        "        \"\"\"\n",
        "        Determine next state and reward\n",
        "        \"\"\"\n",
        "        # Update state\n",
        "        if current_state < self.n_steps - 1:\n",
        "            next_state = current_state + 1\n",
        "        else:\n",
        "            next_state = 0\n",
        "\n",
        "        # Check for reward\n",
        "        if self.reward_state == self.state_dict[current_state]:\n",
        "            reward = self.reward_magnitude\n",
        "        else:\n",
        "            reward = 0\n",
        "\n",
        "        return next_state, reward\n",
        "\n",
        "    def _create_state_dictionary(self):\n",
        "\n",
        "        \"\"\"\n",
        "        This dictionary maps number of time steps/ state identities\n",
        "        in each episode to some useful state attributes:\n",
        "\n",
        "        state      - 0 1 2 3 4 5 (cs) 6 7 8 9 10 11 12 ...\n",
        "        is_delay   - 0 0 0 0 0 0 (cs) 1 1 1 1  1  1  1 ...\n",
        "        t_in_delay - 0 0 0 0 0 0 (cs) 1 2 3 4  5  6  7 ...\n",
        "        \"\"\"\n",
        "        d = 0\n",
        "\n",
        "        self.state_dict = {}\n",
        "        for s in range(self.n_steps):\n",
        "            if s <= self.cs_time:\n",
        "                self.state_dict[s] = [0,0]\n",
        "            else:\n",
        "                d += 1 # Time in delay\n",
        "                self.state_dict[s] = [1,d]\n",
        "\n",
        "\n",
        "class MultiRewardCC(ClassicalConditioning):\n",
        "  \"\"\"Classical conditioning paradigm, except that one randomly selected reward,\n",
        "    magnitude, from a list, is delivered of a single fixed reward.\"\"\"\n",
        "  def __init__(self, n_steps, reward_magnitudes, reward_time=None):\n",
        "    \"\"\"\"Build a multi-reward classical conditioning environment\n",
        "      Args:\n",
        "        - nsteps: Maximum number of steps\n",
        "        - reward_magnitudes: LIST of possible reward magnitudes.\n",
        "        - reward_time: Single fixed reward time\n",
        "      Uses numpy global random state.\n",
        "      \"\"\"\n",
        "    super().__init__(n_steps, 1, reward_time)\n",
        "    self.reward_magnitudes = reward_magnitudes\n",
        "\n",
        "  def get_outcome(self, current_state):\n",
        "    next_state, reward = super().get_outcome(current_state)\n",
        "    if reward:\n",
        "      reward=np.random.choice(self.reward_magnitudes)\n",
        "    return next_state, reward\n",
        "\n",
        "\n",
        "class ProbabilisticCC(ClassicalConditioning):\n",
        "  \"\"\"Classical conditioning paradigm, except that rewards are stochastically omitted.\"\"\"\n",
        "  def __init__(self, n_steps, reward_magnitude, reward_time=None, p_reward=0.75):\n",
        "    \"\"\"\"Build a multi-reward classical conditioning environment\n",
        "      Args:\n",
        "        - nsteps: Maximum number of steps\n",
        "        - reward_magnitudes: Reward magnitudes.\n",
        "        - reward_time: Single fixed reward time.\n",
        "        - p_reward: probability that reward is actually delivered in rewarding state\n",
        "      Uses numpy global random state.\n",
        "      \"\"\"\n",
        "    super().__init__(n_steps, reward_magnitude, reward_time)\n",
        "    self.p_reward = p_reward\n",
        "\n",
        "  def get_outcome(self, current_state):\n",
        "    next_state, reward = super().get_outcome(current_state)\n",
        "    if reward:\n",
        "      reward*= int(np.random.uniform(size=1)[0] < self.p_reward)\n",
        "    return next_state, reward"
      ]
    },
    {
      "cell_type": "markdown",
      "metadata": {
        "execution": {},
        "id": "pXAEHr0oy6Gy"
      },
      "source": [
        "---\n",
        "# Section 1: Temporal difference learning"
      ]
    },
    {
      "cell_type": "code",
      "execution_count": 7,
      "metadata": {
        "cellView": "form",
        "execution": {},
        "id": "zl8BRfq2y6Gz",
        "outputId": "f35a1429-174d-4163-ebc5-13eb4bf18359",
        "colab": {
          "base_uri": "https://localhost:8080/",
          "height": 581,
          "referenced_widgets": [
            "54bbb4ecb96c4a84a74fa3dd10f6b195",
            "aa9d3f2b9f274ddcb74a72f4bfae5cfb",
            "f2795d9d02e746b5a2ac34d910e3fe8f",
            "1aa6191f897a451d89d4b680c7a49710",
            "8f1539de6ca44871af599752faf351bd",
            "0955550dda1c43a4a04bb6447e43d9cd"
          ]
        }
      },
      "outputs": [
        {
          "output_type": "display_data",
          "data": {
            "text/plain": [
              "Tab(children=(Output(), Output()), _titles={'0': 'Youtube', '1': 'Bilibili'})"
            ],
            "application/vnd.jupyter.widget-view+json": {
              "version_major": 2,
              "version_minor": 0,
              "model_id": "54bbb4ecb96c4a84a74fa3dd10f6b195"
            }
          },
          "metadata": {}
        }
      ],
      "source": [
        "# @title Video 1: Introduction\n",
        "from ipywidgets import widgets\n",
        "\n",
        "out2 = widgets.Output()\n",
        "with out2:\n",
        "  from IPython.display import IFrame\n",
        "  class BiliVideo(IFrame):\n",
        "    def __init__(self, id, page=1, width=400, height=300, **kwargs):\n",
        "      self.id=id\n",
        "      src = 'https://player.bilibili.com/player.html?bvid={0}&page={1}'.format(id, page)\n",
        "      super(BiliVideo, self).__init__(src, width, height, **kwargs)\n",
        "\n",
        "  video = BiliVideo(id=\"BV13f4y1d7om\", width=854, height=480, fs=1)\n",
        "  print('Video available at https://www.bilibili.com/video/{0}'.format(video.id))\n",
        "  display(video)\n",
        "\n",
        "out1 = widgets.Output()\n",
        "with out1:\n",
        "  from IPython.display import YouTubeVideo\n",
        "  video = YouTubeVideo(id=\"YoNbc9M92YY\", width=854, height=480, fs=1, rel=0)\n",
        "  print('Video available at https://youtube.com/watch?v=' + video.id)\n",
        "  display(video)\n",
        "\n",
        "out = widgets.Tab([out1, out2])\n",
        "out.set_title(0, 'Youtube')\n",
        "out.set_title(1, 'Bilibili')\n",
        "\n",
        "# add event to airtable\n",
        "atform.add_event('Video 1: Introduction')\n",
        "\n",
        "display(out)"
      ]
    },
    {
      "cell_type": "markdown",
      "metadata": {
        "execution": {},
        "id": "oO5BYXF8y6Gz"
      },
      "source": [
        "__Environment:__\n",
        "\n",
        "- The agent experiences the environment in episodes (also known as trials). \n",
        "- Episodes terminate by transitioning to the inter-trial-interval (ITI) state and they are initiated from the ITI state as well. We clamp the value of the terminal/ITI states to zero. \n",
        "- The classical conditioning environment is composed of a sequence of states that the agent deterministically transitions through. Starting at State 0, the agent moves to State 1 in the first step, from State 1 to State 2 in the second, and so on.  These states represent time in what is called \"tapped delay line\" representation\n",
        "- Within each episode, the agent is presented with a CS (cue) and US (reward). \n",
        "- The CS (cue) is presented at the end of the first quarter the trial. The US (reward) is delivered shortly afterwards. The interval between the CS and US is specified by `reward_time`.\n",
        "- The agent's goal is to learn to predict expected rewards from each state in the trial. \n",
        "\n",
        "<br>\n",
        "\n",
        "**General concepts**\n",
        "\n",
        "Reference: McClelland, J. L., Rumelhart, D. E. (1989). Explorations in parallel distributed processing: A handbook of models, programs, and exercises. Chapter 9, MIT press. url: [web.stanford.edu/group/pdplab/pdphandbook/handbookch10.html](https://web.stanford.edu/group/pdplab/pdphandbook/handbookch10.html)\n",
        "\n",
        "<br>\n",
        "\n",
        "* Return $G_{t}$: future cumulative reward at time $t$:\n",
        "\\begin{equation}\n",
        "G_{t} = \\sum \\limits_{k = 0}^{\\infty} \\gamma^{k} r_{t+k+1}\n",
        "\\end{equation}\n",
        "where $r_{t}$ is the amount of reward received at time $t$, and $\\gamma \\in [0, 1]$ is a discount factor that specifies the relevance in the present of future rewards. \n",
        "Note that the return $G_{t}$ can be written in a recursive form:\n",
        "\\begin{equation}\n",
        "G_{t} = r_{t+1} + \\gamma G_{t+1}\n",
        "\\end{equation}\n",
        "\n",
        "* State $s$ describes the current state or situation, typically obtained from observations that the agent receives from the environment.\n",
        "\n",
        "* Policy $\\pi$ is a specification of how the agent acts. $\\pi(a|s)$ gives the probability of taking action $a$ when in state $s$.\n",
        "\n",
        "* The value function $V_{\\pi}(s_t=s)$ is defined as the expected return starting with state $s$ and successively following policy $\\pi$. Roughly speaking, the value function estimates \"how good\" it is to be in state $s$ when following policy $\\pi$.\n",
        "\\begin{align}\n",
        "V_{\\pi}(s_t=s) &= \\mathbb{E} [ G_{t}\\; | \\; s_t=s, a_{t:\\infty}\\sim\\pi] \\\\\n",
        "& = \\mathbb{E} [ r_{t+1} + \\gamma G_{t+1}\\; | \\; s_t=s, a_{t:\\infty}\\sim\\pi]\n",
        "\\end{align}\n",
        "\n",
        "* Combining the above, we have:\n",
        "\\begin{align}\n",
        "V_{\\pi}(s_t=s) &= \\mathbb{E} [ r_{t+1} + \\gamma V_{\\pi}(s_{t+1})\\; | \\; s_t=s, a_{t:\\infty}\\sim\\pi] \\\\\n",
        "&= \\sum_a \\pi(a|s) \\sum_{r, s'}p(s', r)(r + V_{\\pi}(s_{t+1}=s'))\n",
        "\\end{align}\n",
        "\n",
        "<br>\n",
        "\n",
        "**Temporal difference (TD) learning**\n",
        "\n",
        "* With a [Markovian assumption](https://en.wikipedia.org/wiki/Markov_property), we can use $V(s_{t+1})$ as a proxy for the true value of the return $G_{t+1}$. Thus, we obtain a generalized equation to calculate the TD-error:\n",
        "\\begin{align}\n",
        "\\delta_{t} = r_{t+1} + \\gamma V(s_{t+1}) - V(s_{t})\n",
        "\\end{align}\n",
        "\n",
        "* The TD-error measures the discrepancy between the values at time $t$ and $t+1$. Once the TD-error is calculated, we can perform a \"value update\" to to reduce the value discrepancy: \n",
        "\n",
        "\\begin{align}\n",
        "V(s_{t}) \\leftarrow V(s_{t}) + \\alpha \\delta_{t}\n",
        "\\end{align}\n",
        "\n",
        "* The speed by which the discrepancy is reduced is specified by a constant (aka hyperparameter) $\\alpha$, called learning rate. \n",
        "\n",
        "<br>\n",
        "\n",
        "__Definitions (tl;dr):__\n",
        "\n",
        "* Return:\n",
        "\\begin{equation}\n",
        "G_{t} = \\sum \\limits_{k = 0}^{\\infty} \\gamma^{k} r_{t+k+1} = r_{t+1} + \\gamma G_{t+1}\n",
        "\\end{equation}\n",
        "\n",
        "* TD-error:\n",
        "\\begin{equation}\n",
        "\\delta_{t} = r_{t+1} + \\gamma V(s_{t+1}) - V(s_{t})\n",
        "\\end{equation}\n",
        "\n",
        "* Value updates:\n",
        "\\begin{equation}\n",
        "V(s_{t}) \\leftarrow V(s_{t}) + \\alpha \\delta_{t}\n",
        "\\end{equation}"
      ]
    },
    {
      "cell_type": "markdown",
      "metadata": {
        "execution": {},
        "id": "XGNZ2VDoy6G0"
      },
      "source": [
        "## Coding Exercise 1: TD-learning with guaranteed rewards\n",
        "   \n",
        "In this exercise, you will implement TD-learning to estimate the state-value function in the classical conditioning paradigm. Rewards have fixed magnitude and are delivered at a fixed delay after the conditioned stimulus, CS. You should save the TD-errors over learning (i.e., over trials) so we can visualize them afterwards. \n",
        "\n",
        "In order to simulate the effect of the CS, you should update $V(s_{t})$ only during the delay period after CS. This period is indicated by the boolean variable `is_delay`. This can be implemented by multiplying the expression for updating the value function by `is_delay`.\n",
        "\n",
        "Use the provided code to estimate the value function. We will use helper class `ClassicalConditioning`."
      ]
    },
    {
      "cell_type": "code",
      "execution_count": 14,
      "metadata": {
        "execution": {},
        "id": "n44OSuOLy6G1",
        "outputId": "84ba2009-c806-49b0-8810-6d77ace251e6",
        "colab": {
          "base_uri": "https://localhost:8080/",
          "height": 431
        }
      },
      "outputs": [
        {
          "output_type": "display_data",
          "data": {
            "text/plain": [
              "<Figure size 576x432 with 3 Axes>"
            ],
            "image/png": "[encoded data removed]"
          },
          "metadata": {
            "image/png": {
              "width": 558,
              "height": 414
            },
            "needs_background": "light"
          }
        }
      ],
      "source": [
        "def td_learner(env, n_trials, gamma=0.98, alpha=0.001):\n",
        "  \"\"\" Temporal Difference learning\n",
        "\n",
        "  Args:\n",
        "    env (object): the environment to be learned\n",
        "    n_trials (int): the number of trials to run\n",
        "    gamma (float): temporal discount factor\n",
        "    alpha (float): learning rate\n",
        "\n",
        "  Returns:\n",
        "    ndarray, ndarray: the value function and temporal difference error arrays\n",
        "  \"\"\"\n",
        "  V = np.zeros(env.n_steps) # Array to store values over states (time)\n",
        "  TDE = np.zeros((env.n_steps, n_trials)) # Array to store TD errors\n",
        "\n",
        "  for n in range(n_trials):\n",
        "\n",
        "    state = 0 # Initial state\n",
        "\n",
        "    for t in range(env.n_steps):\n",
        "\n",
        "      # Get next state and next reward\n",
        "      next_state, reward = env.get_outcome(state)\n",
        "\n",
        "      # Is the current state in the delay period (after CS)?\n",
        "      is_delay = env.state_dict[state][0]\n",
        "\n",
        "      ########################################################################\n",
        "      ## TODO for students: implement TD error and value function update\n",
        "      # Fill out function and remove\n",
        "      #raise NotImplementedError(\"Student exercise: implement TD error and value function update\")\n",
        "      #################################################################################\n",
        "      # Write an expression to compute the TD-error\n",
        "      TDE[state, n] = reward + gamma*V[next_state] - V[state]\n",
        "\n",
        "      # Write an expression to update the value function\n",
        "      V[state] += alpha*TDE[state,n]*is_delay\n",
        "\n",
        "      # Update state\n",
        "      state = next_state\n",
        "\n",
        "  return V, TDE\n",
        "\n",
        "\n",
        "# Add event to airtable\n",
        "atform.add_event('Coding Exercise 1: TD-learning with guaranteed rewards')\n",
        "\n",
        "# Initialize classical conditioning class\n",
        "env = ClassicalConditioning(n_steps=40, reward_magnitude=10, reward_time=10)\n",
        "\n",
        "#Perform temporal difference learning\n",
        "V, TDE = td_learner(env, n_trials=20000)\n",
        "\n",
        "#Visualize\n",
        "learning_summary_plot(V, TDE)"
      ]
    },
    {
      "cell_type": "markdown",
      "metadata": {
        "execution": {},
        "id": "I3cDhPXxy6G1"
      },
      "source": [
        "[*Click for solution*](https://github.com/NeuromatchAcademy/course-content-dl/tree/main//tutorials/W3D4_BasicReinforcementLearning/solutions/W3D4_Tutorial1_Solution_2b5a4020.py)\n",
        "\n",
        "*Example output:*\n",
        "\n",
        "<img alt='Solution hint' align='left' width=828.0 height=539.0 src=https://raw.githubusercontent.com/NeuromatchAcademy/course-content-dl/main/tutorials/W3D4_BasicReinforcementLearning/static/W3D4_Tutorial1_Solution_2b5a4020_0.png>\n",
        "\n"
      ]
    },
    {
      "cell_type": "markdown",
      "metadata": {
        "execution": {},
        "id": "H8biNLKhy6G1"
      },
      "source": [
        "## Interactive Demo 1.1: US to CS Transfer \n",
        "\n",
        "During classical conditioning, the subject's behavioral response (e.g., salivating) transfers from the unconditioned stimulus (US; like the smell of tasty food) to the conditioned stimulus (CS; like Pavlov ringing his bell) that predicts it. Reward prediction errors play an important role in this process by adjusting the value of states according to their expected, discounted return.\n",
        "\n",
        "Recall that TD-errors are given by:\n",
        "\n",
        "\\begin{equation}\n",
        "\\delta_{t} = r_{t+1} + \\gamma V(s_{t+1}) - V(s_{t})\n",
        "\\end{equation}\n",
        "\n",
        "The delay period has zero reward, so throughout the learning phase, the TD-errors result from inconsistencies between $V(s_{t+1})$ and $V(s_{t})$ (note that the discount factor is set to zero in this example). The TD-errors for a given time point diminish once $V(s_{t})$ approaches $V(s_{t+1})$, but that causes the TD-error for the preceding time point to increase. Thus, throughout learning, the TD-errors will tend to move backwards in time.\n",
        "\n",
        "Use the widget below to examine how reward prediction errors change over time. \n",
        "\n",
        "Before training (orange line), only the reward state has high reward prediction error (blue line). As training progresses (slider), the reward prediction errors shift to the conditioned stimulus, where they end up when the trial is complete (green line). \n",
        "\n",
        "Dopamine neurons, which are thought to carry reward prediction errors _in vivo_, show exactly the same behavior!"
      ]
    },
    {
      "cell_type": "code",
      "execution_count": 15,
      "metadata": {
        "cellView": "form",
        "execution": {},
        "id": "epnbGhfZy6G2",
        "outputId": "d7603441-64bc-4e34-8399-c38e3ad0b2ba",
        "colab": {
          "base_uri": "https://localhost:8080/",
          "height": 462,
          "referenced_widgets": [
            "76b45a2fbeed4cc8bb6bfa55b8ea135d",
            "6a246768b7c44ccfba654e47ea263844",
            "390170a444214fa9a00165d55366eed1",
            "2ca95b89751a44328633ed7d44605c84",
            "807b069923e54e3c86723fb1c99a9322",
            "e63e92f3719242798dc6e1b7a0eded55",
            "e33b0470860e47188e1a03c51f7f3cc0"
          ]
        }
      },
      "outputs": [
        {
          "output_type": "display_data",
          "data": {
            "text/plain": [
              "interactive(children=(IntSlider(value=5000, description='Trial #', max=19999), Output()), _dom_classes=('widge…"
            ],
            "application/vnd.jupyter.widget-view+json": {
              "version_major": 2,
              "version_minor": 0,
              "model_id": "76b45a2fbeed4cc8bb6bfa55b8ea135d"
            }
          },
          "metadata": {}
        }
      ],
      "source": [
        "#@title\n",
        "\n",
        "#@markdown Make sure you execute this cell to enable the widget!\n",
        "\n",
        "n_trials = 20000\n",
        "\n",
        "@widgets.interact\n",
        "def plot_tde_by_trial(trial = widgets.IntSlider(value=5000, min=0, max=n_trials-1 , step=1, description=\"Trial #\")):\n",
        "  if 'TDE' not in globals():\n",
        "    print(\"Complete Exercise 1 to enable this interactive demo!\")\n",
        "  else:\n",
        "\n",
        "    fig, ax = plt.subplots()\n",
        "    ax.axhline(0, color='k') # Use this + basefmt=' ' to keep the legend clean.\n",
        "    ax.stem(TDE[:, 0], linefmt='C1-', markerfmt='C1d', basefmt=' ',\n",
        "            label=\"Before Learning (Trial 0)\",\n",
        "            use_line_collection=True)\n",
        "    ax.stem(TDE[:, -1], linefmt='C2-', markerfmt='C2s', basefmt=' ',\n",
        "            label=\"After Learning (Trial $\\infty$)\",\n",
        "            use_line_collection=True)\n",
        "    ax.stem(TDE[:, trial], linefmt='C0-', markerfmt='C0o', basefmt=' ',\n",
        "            label=f\"Trial {trial}\",\n",
        "            use_line_collection=True)\n",
        "\n",
        "    ax.set_xlabel(\"State in trial\")\n",
        "    ax.set_ylabel(\"TD Error\")\n",
        "    ax.set_title(\"Temporal Difference Error by Trial\")\n",
        "    ax.legend()"
      ]
    },
    {
      "cell_type": "markdown",
      "metadata": {
        "execution": {},
        "id": "OEqWlJxHy6G2"
      },
      "source": [
        "## Interactive Demo 1.2: Learning Rates and Discount Factors\n",
        "\n",
        "Our TD-learning agent has two parameters that control how it learns: $\\alpha$, the learning rate, and $\\gamma$, the discount factor. In Exercise 1, we set these parameters to $\\alpha=0.001$ and $\\gamma=0.98$ for you. Here, you'll investigate how changing these parameters alters the model that TD-learning learns.\n",
        "\n",
        "Before enabling the interactive demo below, take a moment to think about the functions of these two parameters. $\\alpha$ controls the size of the Value function updates produced by each TD-error. In our simple, deterministic world, will this affect the final model we learn? Is a larger $\\alpha$ necessarily better in more complex, realistic environments?\n",
        "\n",
        "The discount rate $\\gamma$ applies an exponentially-decaying weight to returns occuring in the future, rather than the present timestep. How does this affect the model we learn? What happens when $\\gamma=0$ or $\\gamma \\geq 1$?\n",
        "\n",
        "Use the widget to test your hypotheses.\n",
        "\n",
        "\n"
      ]
    },
    {
      "cell_type": "code",
      "execution_count": 18,
      "metadata": {
        "cellView": "form",
        "execution": {},
        "id": "zvji7FKGy6G2",
        "outputId": "767fb77c-510a-416e-ae90-443c6dfd0443",
        "colab": {
          "base_uri": "https://localhost:8080/",
          "height": 495,
          "referenced_widgets": [
            "981ea9ed01a94cd88bf96045ce4b3b43",
            "530ab4d622b9458eadaabbbac477df45",
            "d948253a858145858df617e0926ebaf8",
            "d276ce62c8e3410086f76aec5b039d12",
            "bcadb7e082824b189d720064f3e5a283",
            "a95151d8192f4e09a579b9cd098a4f46",
            "de898d5f2f664da3948ca638762fbc80",
            "f0851dda176f47648cc1ba2dc51c6478",
            "420c96f8de824716a34afd9a55e5cf4e",
            "b06f936779fd438f8dd1c2d3365659af"
          ]
        }
      },
      "outputs": [
        {
          "output_type": "display_data",
          "data": {
            "text/plain": [
              "interactive(children=(FloatSlider(value=0.0001, description='alpha', max=0.1, min=0.0001, readout_format='.4f'…"
            ],
            "application/vnd.jupyter.widget-view+json": {
              "version_major": 2,
              "version_minor": 0,
              "model_id": "981ea9ed01a94cd88bf96045ce4b3b43"
            }
          },
          "metadata": {}
        }
      ],
      "source": [
        "#@title\n",
        "\n",
        "#@markdown Make sure you execute this cell to enable the widget!\n",
        "\n",
        "@widgets.interact\n",
        "def plot_summary_alpha_gamma(alpha = widgets.FloatSlider(value=0.0001, min=0.0001, max=0.1, step=0.0001, readout_format='.4f', description=\"alpha\"),\n",
        "                             gamma = widgets.FloatSlider(value=0.980, min=0, max=1.1, step=0.010, description=\"gamma\")):\n",
        "  env = ClassicalConditioning(n_steps=40, reward_magnitude=10, reward_time=10)\n",
        "  try:\n",
        "    V_params, TDE_params = td_learner(env, n_trials=20000, gamma=gamma, alpha=alpha)\n",
        "  except NotImplementedError:\n",
        "    print(\"Finish Exercise 1 to enable this interactive demo\")\n",
        "\n",
        "  learning_summary_plot(V_params,TDE_params)"
      ]
    },
    {
      "cell_type": "code",
      "execution_count": 11,
      "metadata": {
        "cellView": "form",
        "execution": {},
        "id": "azpf082ay6G3",
        "outputId": "c55d0aee-7937-4975-fcb1-0f86f5c0bfc7",
        "colab": {
          "base_uri": "https://localhost:8080/",
          "height": 93,
          "referenced_widgets": [
            "1db35e5e31624c76b06fc81a05d24d92",
            "9e6134ed1cc342b78db63b359993b27b",
            "defbba18ddad4e79a043beb1dc4413ea",
            "51160a8dffe24a219ae219177f3cd45b",
            "064ce6fb505947a099abc24c051c5b09",
            "724cd3948a58497b88e9243d39ee2726"
          ]
        }
      },
      "outputs": [
        {
          "output_type": "display_data",
          "data": {
            "text/plain": [
              "Textarea(value='Type your answer here and click on `Submit!`', placeholder='Type something')"
            ],
            "application/vnd.jupyter.widget-view+json": {
              "version_major": 2,
              "version_minor": 0,
              "model_id": "1db35e5e31624c76b06fc81a05d24d92"
            }
          },
          "metadata": {}
        },
        {
          "output_type": "display_data",
          "data": {
            "text/plain": [
              "Button(description='Submit!', style=ButtonStyle())"
            ],
            "application/vnd.jupyter.widget-view+json": {
              "version_major": 2,
              "version_minor": 0,
              "model_id": "51160a8dffe24a219ae219177f3cd45b"
            }
          },
          "metadata": {}
        }
      ],
      "source": [
        "# @title Student Response\n",
        "from ipywidgets import widgets\n",
        "\n",
        "text=widgets.Textarea(\n",
        "   value='Type your answer here and click on `Submit!`',\n",
        "   placeholder='Type something',\n",
        "   description='',\n",
        "   disabled=False\n",
        ")\n",
        "\n",
        "button = widgets.Button(description=\"Submit!\")\n",
        "\n",
        "display(text,button)\n",
        "\n",
        "def on_button_clicked(b):\n",
        "   atform.add_answer('q1' , text.value)\n",
        "   print(\"Submission successful!\")"
      ]
    },
    {
      "cell_type": "markdown",
      "metadata": {
        "execution": {},
        "id": "y8LqAVCRy6G3"
      },
      "source": [
        "[*Click for solution*](https://github.com/NeuromatchAcademy/course-content-dl/tree/main//tutorials/W3D4_BasicReinforcementLearning/solutions/W3D4_Tutorial1_Solution_80376f94.py)\n",
        "\n"
      ]
    },
    {
      "cell_type": "markdown",
      "metadata": {
        "execution": {},
        "id": "yoLzHecdy6G3"
      },
      "source": [
        "---\n",
        "# Section 2: TD-learning with varying reward magnitudes\n",
        "\n",
        "*Estimated timing to here from start of tutorial: 30 min*\n",
        "\n",
        "In the previous exercise, the environment was as simple as possible. On every trial, the CS predicted the same reward, at the same time, with 100% certainty. In the next few exercises, we will make the environment more progressively more complicated and examine the TD-learner's behavior. \n"
      ]
    },
    {
      "cell_type": "markdown",
      "metadata": {
        "execution": {},
        "id": "HCDkU2Ozy6G4"
      },
      "source": [
        "## Interactive Demo 2: Match the Value Functions\n",
        "\n",
        "First, will replace the environment with one that dispenses one of several rewards, chosen at random. Shown below is the final value function $V$ for a TD learner that was trained in an environment where the CS predicted a reward of 6 or 14 units; both rewards were equally likely). \n",
        "\n",
        "Can you find another pair of rewards that cause the agent to learn the same value function? Assume each reward will be dispensed 50% of the time. \n",
        "\n",
        "Hints:\n",
        "* Carefully consider the definition of the value function $V$. This can be solved analytically.\n",
        "* There is no need to change $\\alpha$ or $\\gamma$. \n",
        "* Due to the randomness, there may be a small amount of variation."
      ]
    },
    {
      "cell_type": "code",
      "execution_count": 19,
      "metadata": {
        "cellView": "form",
        "execution": {},
        "id": "Y2KmL8lgy6G4",
        "outputId": "d24924bb-9212-4680-cbc6-93020d43a22d",
        "colab": {
          "base_uri": "https://localhost:8080/",
          "height": 494,
          "referenced_widgets": [
            "fdc351180e6e43ff9e10aea141c357ec",
            "b89630c7b1b449f9934d53e9867c0003",
            "7c4008ce28f44e4fbe5ab245e2220225",
            "77330e24234b44eca81ae29af42529dd",
            "4915c9dbe0c84811b203568e074c09fb",
            "026fa499f71b45d0ad95645780403063",
            "aacab392aa374a95b640b89dac15888e",
            "a395ae0ee349441eb802cd4c34c0c54e",
            "dce36057ab22459ba8add845ade06523",
            "178399f8e61242baa816de95e84d3730"
          ]
        }
      },
      "outputs": [
        {
          "output_type": "display_data",
          "data": {
            "text/plain": [
              "interactive(children=(IntText(value=0, description='Reward 1'), IntText(value=0, description='Reward 2'), Outp…"
            ],
            "application/vnd.jupyter.widget-view+json": {
              "version_major": 2,
              "version_minor": 0,
              "model_id": "fdc351180e6e43ff9e10aea141c357ec"
            }
          },
          "metadata": {}
        }
      ],
      "source": [
        "# @markdown Make sure you execute this cell to enable the widget! Please allow some time for the new figure to load\n",
        "\n",
        "n_trials = 20000\n",
        "np.random.seed(2020)\n",
        "rng_state = np.random.get_state()\n",
        "env = MultiRewardCC(40, [6, 14], reward_time=10)\n",
        "V_multi, TDE_multi = td_learner(env, n_trials, gamma=0.98, alpha=0.001)\n",
        "\n",
        "@widgets.interact\n",
        "def reward_guesser_interaction(r1 = widgets.IntText(value=0, min=0, max=50, description=\"Reward 1\"),\n",
        "                               r2 = widgets.IntText(value=0, min=0, max=50, description=\"Reward 2\")):\n",
        "  try:\n",
        "    env2 = MultiRewardCC(40, [r1, r2], reward_time=10)\n",
        "    V_guess, _ = td_learner(env2, n_trials, gamma=0.98, alpha=0.001)\n",
        "    fig, ax = plt.subplots()\n",
        "    m, l, _ = ax.stem(V_multi, linefmt='y-', markerfmt='yo', basefmt=' ', label=\"Target\",\n",
        "            use_line_collection=True)\n",
        "    m.set_markersize(15)\n",
        "    m.set_markerfacecolor('none')\n",
        "    l.set_linewidth(4)\n",
        "    m, _, _ = ax.stem(V_guess, linefmt='r', markerfmt='rx', basefmt=' ', label=\"Guess\",\n",
        "                      use_line_collection=True)\n",
        "    m.set_markersize(15)\n",
        "\n",
        "    ax.set_xlabel(\"State\")\n",
        "    ax.set_ylabel(\"Value\")\n",
        "    ax.set_title(\"Guess V(s)\\n\" + reward_guesser_title_hint(r1, r2))\n",
        "    ax.legend()\n",
        "  except NotImplementedError:\n",
        "    print(\"Please finish Exercise 1 first!\")"
      ]
    },
    {
      "cell_type": "markdown",
      "metadata": {
        "execution": {},
        "id": "wKs9hRnhy6G4"
      },
      "source": [
        "## Think! 2: Examining the TD Error\n",
        "\n",
        "Run the cell below to plot the TD errors from our multi-reward environment. A new feature appears in this plot? What is it? Why does it happen?"
      ]
    },
    {
      "cell_type": "code",
      "execution_count": 20,
      "metadata": {
        "execution": {},
        "id": "Gis1Aivwy6G4",
        "outputId": "3424097f-7fff-4c65-8f0f-c402902237a6",
        "colab": {
          "base_uri": "https://localhost:8080/",
          "height": 421
        }
      },
      "outputs": [
        {
          "output_type": "display_data",
          "data": {
            "text/plain": [
              "<Figure size 576x432 with 2 Axes>"
            ],
            "image/png": "[encoded data removed]"
          },
          "metadata": {
            "image/png": {
              "width": 528,
              "height": 404
            },
            "needs_background": "light"
          }
        }
      ],
      "source": [
        "plot_tde_trace(TDE_multi)"
      ]
    },
    {
      "cell_type": "code",
      "execution_count": 21,
      "metadata": {
        "cellView": "form",
        "execution": {},
        "id": "Oa7LXiBpy6G4",
        "outputId": "878d8c52-e5ad-44c8-f97d-a16e49a23624",
        "colab": {
          "base_uri": "https://localhost:8080/",
          "height": 93,
          "referenced_widgets": [
            "5ef4d3d7d37f4ce4a57bb2bb20d49f13",
            "4767487234cc4338a96722d19c4f9b40",
            "8e371a9438a6479c93f8b45619104d65",
            "79074bc589254c58bc614c046a83721d",
            "85021c95d90c4250a930b7b9ba14d54d",
            "e3208bb93e7b47ed8622b187f4aaa40d"
          ]
        }
      },
      "outputs": [
        {
          "output_type": "display_data",
          "data": {
            "text/plain": [
              "Textarea(value='Type your answer here and click on `Submit!`', placeholder='Type something')"
            ],
            "application/vnd.jupyter.widget-view+json": {
              "version_major": 2,
              "version_minor": 0,
              "model_id": "5ef4d3d7d37f4ce4a57bb2bb20d49f13"
            }
          },
          "metadata": {}
        },
        {
          "output_type": "display_data",
          "data": {
            "text/plain": [
              "Button(description='Submit!', style=ButtonStyle())"
            ],
            "application/vnd.jupyter.widget-view+json": {
              "version_major": 2,
              "version_minor": 0,
              "model_id": "79074bc589254c58bc614c046a83721d"
            }
          },
          "metadata": {}
        }
      ],
      "source": [
        "# @title Student Response\n",
        "from ipywidgets import widgets\n",
        "\n",
        "text=widgets.Textarea(\n",
        "   value='Type your answer here and click on `Submit!`',\n",
        "   placeholder='Type something',\n",
        "   description='',\n",
        "   disabled=False\n",
        ")\n",
        "\n",
        "button = widgets.Button(description=\"Submit!\")\n",
        "\n",
        "display(text,button)\n",
        "\n",
        "def on_button_clicked(b):\n",
        "   atform.add_answer('q2', text.value)\n",
        "   print(\"Submission successful!\")"
      ]
    },
    {
      "cell_type": "markdown",
      "metadata": {
        "execution": {},
        "id": "MKVrvdNhy6G5"
      },
      "source": [
        "[*Click for solution*](https://github.com/NeuromatchAcademy/course-content-dl/tree/main//tutorials/W3D4_BasicReinforcementLearning/solutions/W3D4_Tutorial1_Solution_9fd42e7d.py)\n",
        "\n"
      ]
    },
    {
      "cell_type": "markdown",
      "metadata": {
        "execution": {},
        "id": "gXa9vMxAy6G5"
      },
      "source": [
        "---\n",
        "# Section 3: TD-learning with probabilistic rewards\n",
        "*Estimated timing to here from start of tutorial: 40 min*"
      ]
    },
    {
      "cell_type": "markdown",
      "metadata": {
        "execution": {},
        "id": "bIjpeM2Xy6G5"
      },
      "source": [
        "## Think! 3: Probabilistic rewards\n",
        "\n",
        "\n",
        "In this environment, we'll return to delivering a single reward of ten units. However, it will be delivered intermittently: on 20 percent of trials, the CS will be shown but the agent will not receive the usual reward; the remaining 80% will proceed as usual.\n",
        "\n",
        "Run the cell below to simulate. Recall that earlier in the notebook, we saw that changing $\\alpha$ had little effect on learning in a deterministic environment. In the simulation below, $\\alpha$ is set to 1. What happens when the learning rate is set to such a large value in a probability reward setting? Does it seem like it will _ever_ converge? \n",
        "\n",
        "With a high learning rate, the value function tracks each observed reward, changing quickly whenever there is a reward prediction error. In a probabilistic scenario case, this behavior results in the value function changing too quickly and never stabilizing (converging). Using a low learning rate can stabilize the value function by smoothing out any variation in the reward signal, leading the value function to converge to the average reward over time. However, using a low learning rate can result in slow learning.\n",
        "\n",
        "To get the best of all worls, it is often useful to use a high learning rate early on (producing fast learning), and to reduce the learning rate gradually throughout learning (so that the value function converges to the average reward). This is sometimes called \"learning rate schedule\"."
      ]
    },
    {
      "cell_type": "code",
      "execution_count": 22,
      "metadata": {
        "cellView": "form",
        "execution": {},
        "id": "X30S8xqLy6G5",
        "outputId": "77c5f67b-4062-4ca7-e55f-8e3f7056b219",
        "colab": {
          "base_uri": "https://localhost:8080/",
          "height": 430
        }
      },
      "outputs": [
        {
          "output_type": "display_data",
          "data": {
            "text/plain": [
              "<Figure size 576x432 with 3 Axes>"
            ],
            "image/png": "[encoded data removed]"
          },
          "metadata": {
            "image/png": {
              "width": 558,
              "height": 413
            },
            "needs_background": "light"
          }
        }
      ],
      "source": [
        "# @markdown Execute this cell to visualize the value function and TD-errors when alpha=1\n",
        "np.random.set_state(rng_state) # Resynchronize everyone's notebooks\n",
        "n_trials = 20000\n",
        "try:\n",
        "  env = ProbabilisticCC(n_steps=40, reward_magnitude=10, reward_time=10,\n",
        "                        p_reward=0.8)\n",
        "  V_stochastic, TDE_stochastic = td_learner(env, n_trials*2, alpha=1)\n",
        "  learning_summary_plot(V_stochastic, TDE_stochastic)\n",
        "except NotImplementedError:\n",
        "  print(\"Please finish Exercise 1 first\")"
      ]
    },
    {
      "cell_type": "code",
      "execution_count": 23,
      "metadata": {
        "cellView": "form",
        "execution": {},
        "id": "mJIlTDr5y6G5",
        "outputId": "be69b6e2-80b7-4c5f-bb03-481cc30eed6e",
        "colab": {
          "base_uri": "https://localhost:8080/",
          "height": 430
        }
      },
      "outputs": [
        {
          "output_type": "display_data",
          "data": {
            "text/plain": [
              "<Figure size 576x432 with 3 Axes>"
            ],
            "image/png": "[encoded data removed]"
          },
          "metadata": {
            "image/png": {
              "width": 558,
              "height": 413
            },
            "needs_background": "light"
          }
        }
      ],
      "source": [
        "# @markdown Execute this cell to visualize the value function and TD-errors when alpha=0.2\n",
        "np.random.set_state(rng_state) # Resynchronize everyone's notebooks\n",
        "n_trials = 20000\n",
        "try:\n",
        "  env = ProbabilisticCC(n_steps=40, reward_magnitude=10, reward_time=10,\n",
        "                        p_reward=0.8)\n",
        "  V_stochastic, TDE_stochastic = td_learner(env, n_trials*2, alpha=.2)\n",
        "  learning_summary_plot(V_stochastic, TDE_stochastic)\n",
        "except NotImplementedError:\n",
        "  print(\"Please finish Exercise 1 first\")"
      ]
    },
    {
      "cell_type": "code",
      "execution_count": 24,
      "metadata": {
        "cellView": "form",
        "execution": {},
        "id": "a0ufzy6py6G5",
        "outputId": "51f0aa1c-e577-48fb-e842-4d1a6cd7672a",
        "colab": {
          "base_uri": "https://localhost:8080/",
          "height": 93,
          "referenced_widgets": [
            "50a1d5df4b19434093912d8d935ccdbc",
            "48598e566db7478dbafdbbb1fb0b344a",
            "7be273c0c5524e2aabee06e50246f225",
            "d379d81eeee74f6fb721b38d66e1c3d0",
            "efc20c1c8fa642579bb8d978d60a1730",
            "2b12ae30810c4efd818f06d35cf87b54"
          ]
        }
      },
      "outputs": [
        {
          "output_type": "display_data",
          "data": {
            "text/plain": [
              "Textarea(value='Type your answer here and click on `Submit!`', placeholder='Type something')"
            ],
            "application/vnd.jupyter.widget-view+json": {
              "version_major": 2,
              "version_minor": 0,
              "model_id": "50a1d5df4b19434093912d8d935ccdbc"
            }
          },
          "metadata": {}
        },
        {
          "output_type": "display_data",
          "data": {
            "text/plain": [
              "Button(description='Submit!', style=ButtonStyle())"
            ],
            "application/vnd.jupyter.widget-view+json": {
              "version_major": 2,
              "version_minor": 0,
              "model_id": "d379d81eeee74f6fb721b38d66e1c3d0"
            }
          },
          "metadata": {}
        }
      ],
      "source": [
        "# @title Student Response\n",
        "from ipywidgets import widgets\n",
        "\n",
        "\n",
        "text=widgets.Textarea(\n",
        "   value='Type your answer here and click on `Submit!`',\n",
        "   placeholder='Type something',\n",
        "   description='',\n",
        "   disabled=False\n",
        ")\n",
        "\n",
        "button = widgets.Button(description=\"Submit!\")\n",
        "\n",
        "display(text,button)\n",
        "\n",
        "def on_button_clicked(b):\n",
        "   atform.add_answer('q3', text.value)\n",
        "   print(\"Submission successful!\")"
      ]
    },
    {
      "cell_type": "markdown",
      "metadata": {
        "execution": {},
        "id": "78xFNql8y6G6"
      },
      "source": [
        "[*Click for solution*](https://github.com/NeuromatchAcademy/course-content-dl/tree/main//tutorials/W3D4_BasicReinforcementLearning/solutions/W3D4_Tutorial1_Solution_6e708fa1.py)\n",
        "\n"
      ]
    },
    {
      "cell_type": "markdown",
      "metadata": {
        "execution": {},
        "id": "ENep6UsZy6G6"
      },
      "source": [
        "---\n",
        "# Summary\n",
        "\n",
        "*Estimated timing of tutorial: 50 min*\n",
        "\n",
        "In this notebook, we have developed a simple TD Learner and examined how its state representations and reward prediction errors evolve during training. By manipulating its environment and parameters ($\\alpha$, $\\gamma$), you developed an intuition for how it behaves. \n",
        "\n",
        "This simple model closely resembles the behavior of subjects undergoing classical conditioning tasks and the dopamine neurons that may underlie that behavior. You may have implemented TD-reset or used the model to recreate a common experimental error. The update rule used here has been extensively studied for [more than 70 years](https://www.pnas.org/content/108/Supplement_3/15647) as a possible explanation for artificial and biological learning. \n",
        "\n",
        "However, you may have noticed that something is missing from this notebook. We carefully calculated the value of each state, but did not use it to actually do anything. Using values to plan _**Actions**_ is coming up next!"
      ]
    },
    {
      "cell_type": "code",
      "execution_count": 25,
      "metadata": {
        "cellView": "form",
        "execution": {},
        "id": "SPPB6RNZy6G6",
        "outputId": "d2aad7dd-a1e0-4459-a124-467b91847d0f",
        "colab": {
          "base_uri": "https://localhost:8080/",
          "height": 159
        }
      },
      "outputs": [
        {
          "output_type": "execute_result",
          "data": {
            "text/plain": [
              "<IPython.core.display.HTML object>"
            ],
            "text/html": [
              "\n",
              "  <div>\n",
              "    <a href= \"https://portal.neuromatchacademy.org/api/redirect/to/9c55f6cb-cdf9-4429-ac1c-ec44fe64c303?data=eyJmb3JtX2lkIjogImFwcG43VmRQUnNlU29NWEVHIiwgInRhYmxlX25hbWUiOiAiVzNENF9UMSIsICJhbnN3ZXJzIjoge30sICJldmVudHMiOiBbeyJldmVudCI6ICJpbml0IiwgInRzIjogMTY1OTAyODQyMi42MjgxMTYxfSwgeyJldmVudCI6ICJWaWRlbyAxOiBJbnRyb2R1Y3Rpb24iLCAidHMiOiAxNjU5MDI4NDIyLjk0MjIzN30sIHsiZXZlbnQiOiAiQ29kaW5nIEV4ZXJjaXNlIDE6IFRELWxlYXJuaW5nIHdpdGggZ3VhcmFudGVlZCByZXdhcmRzIiwgInRzIjogMTY1OTAyODQyMi45OTMxMzM4fSwgeyJldmVudCI6ICJDb2RpbmcgRXhlcmNpc2UgMTogVEQtbGVhcm5pbmcgd2l0aCBndWFyYW50ZWVkIHJld2FyZHMiLCAidHMiOiAxNjU5MDI5NDk3LjI0NjI2NjF9LCB7ImV2ZW50IjogIkNvZGluZyBFeGVyY2lzZSAxOiBURC1sZWFybmluZyB3aXRoIGd1YXJhbnRlZWQgcmV3YXJkcyIsICJ0cyI6IDE2NTkwMjk1ODEuODY3Mjg1NX0sIHsiZXZlbnQiOiAidXJsIGdlbmVyYXRlZCIsICJ0cyI6IDE2NTkwMzE5NjUuMzgwNTgzNX1dfQ%3D%3D\" target=\"_blank\">\n",
              "    <img src=\"https://github.com/NeuromatchAcademy/course-content-dl/blob/main/tutorials/static/AirtableSubmissionButton.png?raw=1\"\n",
              "  alt=\"button link to Airtable\" style=\"width:410px\"></a>\n",
              "    </div>"
            ]
          },
          "metadata": {},
          "execution_count": 25
        }
      ],
      "source": [
        "# @title Airtable Submission Link\n",
        "from IPython import display as IPyDisplay\n",
        "IPyDisplay.HTML(\n",
        "    f\"\"\"\n",
        "  <div>\n",
        "    <a href= \"{atform.url()}\" target=\"_blank\">\n",
        "    <img src=\"https://github.com/NeuromatchAcademy/course-content-dl/blob/main/tutorials/static/AirtableSubmissionButton.png?raw=1\"\n",
        "  alt=\"button link to Airtable\" style=\"width:410px\"></a>\n",
        "    </div>\"\"\" )"
      ]
    },
    {
      "cell_type": "markdown",
      "metadata": {
        "execution": {},
        "id": "CVoZ1dn5y6G6"
      },
      "source": [
        "---\n",
        "# Bonus"
      ]
    },
    {
      "cell_type": "markdown",
      "metadata": {
        "execution": {},
        "id": "qRSXkkoZy6G6"
      },
      "source": [
        "## Bonus Think! 1: Removing the CS\n",
        "\n",
        "In Coding Exercise 1, you (should have) included a term that depends on the conditioned stimulus. Remove it and see what happens. Do you understand why?\n",
        "This phenomena often fools people attempting to train animals--beware!"
      ]
    },
    {
      "cell_type": "markdown",
      "metadata": {
        "execution": {},
        "id": "gb29zBX0y6G6"
      },
      "source": [
        "[*Click for solution*](https://github.com/NeuromatchAcademy/course-content-dl/tree/main//tutorials/W3D4_BasicReinforcementLearning/solutions/W3D4_Tutorial1_Solution_5e1c3185.py)\n",
        "\n"
      ]
    }
  ],
  "metadata": {
    "colab": {
      "collapsed_sections": [],
      "name": "W3D4_Tutorial1",
      "provenance": [],
      "include_colab_link": true
    },
    "kernel": {
      "display_name": "Python 3",
      "language": "python",
      "name": "python3"
    },
    "kernelspec": {
      "display_name": "Python 3",
      "language": "python",
      "name": "python3"
    },
    "language_info": {
      "codemirror_mode": {
        "name": "ipython",
        "version": 3
      },
      "file_extension": ".py",
      "mimetype": "text/x-python",
      "name": "python",
      "nbconvert_exporter": "python",
      "pygments_lexer": "ipython3",
      "version": "3.7.13"
    },
    "widgets": {
      "application/vnd.jupyter.widget-state+json": {
        "54bbb4ecb96c4a84a74fa3dd10f6b195": {
          "model_module": "@jupyter-widgets/controls",
          "model_name": "TabModel",
          "model_module_version": "1.5.0",
          "state": {
            "_dom_classes": [],
            "_model_module": "@jupyter-widgets/controls",
            "_model_module_version": "1.5.0",
            "_model_name": "TabModel",
            "_titles": {
              "0": "Youtube",
              "1": "Bilibili"
            },
            "_view_count": null,
            "_view_module": "@jupyter-widgets/controls",
            "_view_module_version": "1.5.0",
            "_view_name": "TabView",
            "box_style": "",
            "children": [
              "IPY_MODEL_aa9d3f2b9f274ddcb74a72f4bfae5cfb",
              "IPY_MODEL_f2795d9d02e746b5a2ac34d910e3fe8f"
            ],
            "layout": "IPY_MODEL_1aa6191f897a451d89d4b680c7a49710",
            "selected_index": 0
          }
        },
        "aa9d3f2b9f274ddcb74a72f4bfae5cfb": {
          "model_module": "@jupyter-widgets/output",
          "model_name": "OutputModel",
          "model_module_version": "1.0.0",
          "state": {
            "_dom_classes": [],
            "_model_module": "@jupyter-widgets/output",
            "_model_module_version": "1.0.0",
            "_model_name": "OutputModel",
            "_view_count": null,
            "_view_module": "@jupyter-widgets/output",
            "_view_module_version": "1.0.0",
            "_view_name": "OutputView",
            "layout": "IPY_MODEL_8f1539de6ca44871af599752faf351bd",
            "msg_id": "",
            "outputs": [
              {
                "output_type": "stream",
                "name": "stdout",
                "text": [
                  "Video available at https://youtube.com/watch?v=YoNbc9M92YY\n"
                ]
              },
              {
                "output_type": "display_data",
                "data": {
                  "text/plain": "<IPython.lib.display.YouTubeVideo at 0x7f822311e210>",
                  "text/html": "\n        <iframe\n            width=\"854\"\n            height=\"480\"\n            src=\"https://www.youtube.com/embed/YoNbc9M92YY?fs=1&rel=0\"\n            frameborder=\"0\"\n            allowfullscreen\n        ></iframe>\n        ",
                  "image/jpeg": "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\n"
                },
                "metadata": {}
              }
            ]
          }
        },
        "f2795d9d02e746b5a2ac34d910e3fe8f": {
          "model_module": "@jupyter-widgets/output",
          "model_name": "OutputModel",
          "model_module_version": "1.0.0",
          "state": {
            "_dom_classes": [],
            "_model_module": "@jupyter-widgets/output",
            "_model_module_version": "1.0.0",
            "_model_name": "OutputModel",
            "_view_count": null,
            "_view_module": "@jupyter-widgets/output",
            "_view_module_version": "1.0.0",
            "_view_name": "OutputView",
            "layout": "IPY_MODEL_0955550dda1c43a4a04bb6447e43d9cd",
            "msg_id": "",
            "outputs": [
              {
                "output_type": "stream",
                "name": "stdout",
                "text": [
                  "Video available at https://www.bilibili.com/video/BV13f4y1d7om\n"
                ]
              },
              {
                "output_type": "display_data",
                "data": {
                  "text/plain": "<__main__.BiliVideo at 0x7f82235b0b50>",
                  "text/html": "\n        <iframe\n            width=\"854\"\n            height=\"480\"\n            src=\"https://player.bilibili.com/player.html?bvid=BV13f4y1d7om&page=1?fs=1\"\n            frameborder=\"0\"\n            allowfullscreen\n        ></iframe>\n        "
                },
                "metadata": {}
              }
            ]
          }
        },
        "1aa6191f897a451d89d4b680c7a49710": {
          "model_module": "@jupyter-widgets/base",
          "model_name": "LayoutModel",
          "model_module_version": "1.2.0",
          "state": {
            "_model_module": "@jupyter-widgets/base",
            "_model_module_version": "1.2.0",
            "_model_name": "LayoutModel",
            "_view_count": null,
            "_view_module": "@jupyter-widgets/base",
            "_view_module_version": "1.2.0",
            "_view_name": "LayoutView",
            "align_content": null,
            "align_items": null,
            "align_self": null,
            "border": null,
            "bottom": null,
            "display": null,
            "flex": null,
            "flex_flow": null,
            "grid_area": null,
            "grid_auto_columns": null,
            "grid_auto_flow": null,
            "grid_auto_rows": null,
            "grid_column": null,
            "grid_gap": null,
            "grid_row": null,
            "grid_template_areas": null,
            "grid_template_columns": null,
            "grid_template_rows": null,
            "height": null,
            "justify_content": null,
            "justify_items": null,
            "left": null,
            "margin": null,
            "max_height": null,
            "max_width": null,
            "min_height": null,
            "min_width": null,
            "object_fit": null,
            "object_position": null,
            "order": null,
            "overflow": null,
            "overflow_x": null,
            "overflow_y": null,
            "padding": null,
            "right": null,
            "top": null,
            "visibility": null,
            "width": null
          }
        },
        "8f1539de6ca44871af599752faf351bd": {
          "model_module": "@jupyter-widgets/base",
          "model_name": "LayoutModel",
          "model_module_version": "1.2.0",
          "state": {
            "_model_module": "@jupyter-widgets/base",
            "_model_module_version": "1.2.0",
            "_model_name": "LayoutModel",
            "_view_count": null,
            "_view_module": "@jupyter-widgets/base",
            "_view_module_version": "1.2.0",
            "_view_name": "LayoutView",
            "align_content": null,
            "align_items": null,
            "align_self": null,
            "border": null,
            "bottom": null,
            "display": null,
            "flex": null,
            "flex_flow": null,
            "grid_area": null,
            "grid_auto_columns": null,
            "grid_auto_flow": null,
            "grid_auto_rows": null,
            "grid_column": null,
            "grid_gap": null,
            "grid_row": null,
            "grid_template_areas": null,
            "grid_template_columns": null,
            "grid_template_rows": null,
            "height": null,
            "justify_content": null,
            "justify_items": null,
            "left": null,
            "margin": null,
            "max_height": null,
            "max_width": null,
            "min_height": null,
            "min_width": null,
            "object_fit": null,
            "object_position": null,
            "order": null,
            "overflow": null,
            "overflow_x": null,
            "overflow_y": null,
            "padding": null,
            "right": null,
            "top": null,
            "visibility": null,
            "width": null
          }
        },
        "0955550dda1c43a4a04bb6447e43d9cd": {
          "model_module": "@jupyter-widgets/base",
          "model_name": "LayoutModel",
          "model_module_version": "1.2.0",
          "state": {
            "_model_module": "@jupyter-widgets/base",
            "_model_module_version": "1.2.0",
            "_model_name": "LayoutModel",
            "_view_count": null,
            "_view_module": "@jupyter-widgets/base",
            "_view_module_version": "1.2.0",
            "_view_name": "LayoutView",
            "align_content": null,
            "align_items": null,
            "align_self": null,
            "border": null,
            "bottom": null,
            "display": null,
            "flex": null,
            "flex_flow": null,
            "grid_area": null,
            "grid_auto_columns": null,
            "grid_auto_flow": null,
            "grid_auto_rows": null,
            "grid_column": null,
            "grid_gap": null,
            "grid_row": null,
            "grid_template_areas": null,
            "grid_template_columns": null,
            "grid_template_rows": null,
            "height": null,
            "justify_content": null,
            "justify_items": null,
            "left": null,
            "margin": null,
            "max_height": null,
            "max_width": null,
            "min_height": null,
            "min_width": null,
            "object_fit": null,
            "object_position": null,
            "order": null,
            "overflow": null,
            "overflow_x": null,
            "overflow_y": null,
            "padding": null,
            "right": null,
            "top": null,
            "visibility": null,
            "width": null
          }
        },
        "76b45a2fbeed4cc8bb6bfa55b8ea135d": {
          "model_module": "@jupyter-widgets/controls",
          "model_name": "VBoxModel",
          "model_module_version": "1.5.0",
          "state": {
            "_dom_classes": [
              "widget-interact"
            ],
            "_model_module": "@jupyter-widgets/controls",
            "_model_module_version": "1.5.0",
            "_model_name": "VBoxModel",
            "_view_count": null,
            "_view_module": "@jupyter-widgets/controls",
            "_view_module_version": "1.5.0",
            "_view_name": "VBoxView",
            "box_style": "",
            "children": [
              "IPY_MODEL_6a246768b7c44ccfba654e47ea263844",
              "IPY_MODEL_390170a444214fa9a00165d55366eed1"
            ],
            "layout": "IPY_MODEL_2ca95b89751a44328633ed7d44605c84"
          }
        },
        "6a246768b7c44ccfba654e47ea263844": {
          "model_module": "@jupyter-widgets/controls",
          "model_name": "IntSliderModel",
          "model_module_version": "1.5.0",
          "state": {
            "_dom_classes": [],
            "_model_module": "@jupyter-widgets/controls",
            "_model_module_version": "1.5.0",
            "_model_name": "IntSliderModel",
            "_view_count": null,
            "_view_module": "@jupyter-widgets/controls",
            "_view_module_version": "1.5.0",
            "_view_name": "IntSliderView",
            "continuous_update": true,
            "description": "Trial #",
            "description_tooltip": null,
            "disabled": false,
            "layout": "IPY_MODEL_807b069923e54e3c86723fb1c99a9322",
            "max": 19999,
            "min": 0,
            "orientation": "horizontal",
            "readout": true,
            "readout_format": "d",
            "step": 1,
            "style": "IPY_MODEL_e63e92f3719242798dc6e1b7a0eded55",
            "value": 810
          }
        },
        "390170a444214fa9a00165d55366eed1": {
          "model_module": "@jupyter-widgets/output",
          "model_name": "OutputModel",
          "model_module_version": "1.0.0",
          "state": {
            "_dom_classes": [],
            "_model_module": "@jupyter-widgets/output",
            "_model_module_version": "1.0.0",
            "_model_name": "OutputModel",
            "_view_count": null,
            "_view_module": "@jupyter-widgets/output",
            "_view_module_version": "1.0.0",
            "_view_name": "OutputView",
            "layout": "IPY_MODEL_e33b0470860e47188e1a03c51f7f3cc0",
            "msg_id": "",
            "outputs": [
              {
                "output_type": "display_data",
                "data": {
                  "text/plain": "<Figure size 576x432 with 1 Axes>",
                  "image/png": "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\n"
                },
                "metadata": {
                  "image/png": {
                    "width": 558,
                    "height": 413
                  },
                  "needs_background": "light"
                }
              }
            ]
          }
        },
        "2ca95b89751a44328633ed7d44605c84": {
          "model_module": "@jupyter-widgets/base",
          "model_name": "LayoutModel",
          "model_module_version": "1.2.0",
          "state": {
            "_model_module": "@jupyter-widgets/base",
            "_model_module_version": "1.2.0",
            "_model_name": "LayoutModel",
            "_view_count": null,
            "_view_module": "@jupyter-widgets/base",
            "_view_module_version": "1.2.0",
            "_view_name": "LayoutView",
            "align_content": null,
            "align_items": null,
            "align_self": null,
            "border": null,
            "bottom": null,
            "display": null,
            "flex": null,
            "flex_flow": null,
            "grid_area": null,
            "grid_auto_columns": null,
            "grid_auto_flow": null,
            "grid_auto_rows": null,
            "grid_column": null,
            "grid_gap": null,
            "grid_row": null,
            "grid_template_areas": null,
            "grid_template_columns": null,
            "grid_template_rows": null,
            "height": null,
            "justify_content": null,
            "justify_items": null,
            "left": null,
            "margin": null,
            "max_height": null,
            "max_width": null,
            "min_height": null,
            "min_width": null,
            "object_fit": null,
            "object_position": null,
            "order": null,
            "overflow": null,
            "overflow_x": null,
            "overflow_y": null,
            "padding": null,
            "right": null,
            "top": null,
            "visibility": null,
            "width": null
          }
        },
        "807b069923e54e3c86723fb1c99a9322": {
          "model_module": "@jupyter-widgets/base",
          "model_name": "LayoutModel",
          "model_module_version": "1.2.0",
          "state": {
            "_model_module": "@jupyter-widgets/base",
            "_model_module_version": "1.2.0",
            "_model_name": "LayoutModel",
            "_view_count": null,
            "_view_module": "@jupyter-widgets/base",
            "_view_module_version": "1.2.0",
            "_view_name": "LayoutView",
            "align_content": null,
            "align_items": null,
            "align_self": null,
            "border": null,
            "bottom": null,
            "display": null,
            "flex": null,
            "flex_flow": null,
            "grid_area": null,
            "grid_auto_columns": null,
            "grid_auto_flow": null,
            "grid_auto_rows": null,
            "grid_column": null,
            "grid_gap": null,
            "grid_row": null,
            "grid_template_areas": null,
            "grid_template_columns": null,
            "grid_template_rows": null,
            "height": null,
            "justify_content": null,
            "justify_items": null,
            "left": null,
            "margin": null,
            "max_height": null,
            "max_width": null,
            "min_height": null,
            "min_width": null,
            "object_fit": null,
            "object_position": null,
            "order": null,
            "overflow": null,
            "overflow_x": null,
            "overflow_y": null,
            "padding": null,
            "right": null,
            "top": null,
            "visibility": null,
            "width": null
          }
        },
        "e63e92f3719242798dc6e1b7a0eded55": {
          "model_module": "@jupyter-widgets/controls",
          "model_name": "SliderStyleModel",
          "model_module_version": "1.5.0",
          "state": {
            "_model_module": "@jupyter-widgets/controls",
            "_model_module_version": "1.5.0",
            "_model_name": "SliderStyleModel",
            "_view_count": null,
            "_view_module": "@jupyter-widgets/base",
            "_view_module_version": "1.2.0",
            "_view_name": "StyleView",
            "description_width": "",
            "handle_color": null
          }
        },
        "e33b0470860e47188e1a03c51f7f3cc0": {
          "model_module": "@jupyter-widgets/base",
          "model_name": "LayoutModel",
          "model_module_version": "1.2.0",
          "state": {
            "_model_module": "@jupyter-widgets/base",
            "_model_module_version": "1.2.0",
            "_model_name": "LayoutModel",
            "_view_count": null,
            "_view_module": "@jupyter-widgets/base",
            "_view_module_version": "1.2.0",
            "_view_name": "LayoutView",
            "align_content": null,
            "align_items": null,
            "align_self": null,
            "border": null,
            "bottom": null,
            "display": null,
            "flex": null,
            "flex_flow": null,
            "grid_area": null,
            "grid_auto_columns": null,
            "grid_auto_flow": null,
            "grid_auto_rows": null,
            "grid_column": null,
            "grid_gap": null,
            "grid_row": null,
            "grid_template_areas": null,
            "grid_template_columns": null,
            "grid_template_rows": null,
            "height": null,
            "justify_content": null,
            "justify_items": null,
            "left": null,
            "margin": null,
            "max_height": null,
            "max_width": null,
            "min_height": null,
            "min_width": null,
            "object_fit": null,
            "object_position": null,
            "order": null,
            "overflow": null,
            "overflow_x": null,
            "overflow_y": null,
            "padding": null,
            "right": null,
            "top": null,
            "visibility": null,
            "width": null
          }
        },
        "981ea9ed01a94cd88bf96045ce4b3b43": {
          "model_module": "@jupyter-widgets/controls",
          "model_name": "VBoxModel",
          "model_module_version": "1.5.0",
          "state": {
            "_dom_classes": [
              "widget-interact"
            ],
            "_model_module": "@jupyter-widgets/controls",
            "_model_module_version": "1.5.0",
            "_model_name": "VBoxModel",
            "_view_count": null,
            "_view_module": "@jupyter-widgets/controls",
            "_view_module_version": "1.5.0",
            "_view_name": "VBoxView",
            "box_style": "",
            "children": [
              "IPY_MODEL_530ab4d622b9458eadaabbbac477df45",
              "IPY_MODEL_d948253a858145858df617e0926ebaf8",
              "IPY_MODEL_d276ce62c8e3410086f76aec5b039d12"
            ],
            "layout": "IPY_MODEL_bcadb7e082824b189d720064f3e5a283"
          }
        },
        "530ab4d622b9458eadaabbbac477df45": {
          "model_module": "@jupyter-widgets/controls",
          "model_name": "FloatSliderModel",
          "model_module_version": "1.5.0",
          "state": {
            "_dom_classes": [],
            "_model_module": "@jupyter-widgets/controls",
            "_model_module_version": "1.5.0",
            "_model_name": "FloatSliderModel",
            "_view_count": null,
            "_view_module": "@jupyter-widgets/controls",
            "_view_module_version": "1.5.0",
            "_view_name": "FloatSliderView",
            "continuous_update": true,
            "description": "alpha",
            "description_tooltip": null,
            "disabled": false,
            "layout": "IPY_MODEL_a95151d8192f4e09a579b9cd098a4f46",
            "max": 0.1,
            "min": 0.0001,
            "orientation": "horizontal",
            "readout": true,
            "readout_format": ".4f",
            "step": 0.0001,
            "style": "IPY_MODEL_de898d5f2f664da3948ca638762fbc80",
            "value": 0.0001
          }
        },
        "d948253a858145858df617e0926ebaf8": {
          "model_module": "@jupyter-widgets/controls",
          "model_name": "FloatSliderModel",
          "model_module_version": "1.5.0",
          "state": {
            "_dom_classes": [],
            "_model_module": "@jupyter-widgets/controls",
            "_model_module_version": "1.5.0",
            "_model_name": "FloatSliderModel",
            "_view_count": null,
            "_view_module": "@jupyter-widgets/controls",
            "_view_module_version": "1.5.0",
            "_view_name": "FloatSliderView",
            "continuous_update": true,
            "description": "gamma",
            "description_tooltip": null,
            "disabled": false,
            "layout": "IPY_MODEL_f0851dda176f47648cc1ba2dc51c6478",
            "max": 1.1,
            "min": 0,
            "orientation": "horizontal",
            "readout": true,
            "readout_format": ".2f",
            "step": 0.01,
            "style": "IPY_MODEL_420c96f8de824716a34afd9a55e5cf4e",
            "value": 1.1
          }
        },
        "d276ce62c8e3410086f76aec5b039d12": {
          "model_module": "@jupyter-widgets/output",
          "model_name": "OutputModel",
          "model_module_version": "1.0.0",
          "state": {
            "_dom_classes": [],
            "_model_module": "@jupyter-widgets/output",
            "_model_module_version": "1.0.0",
            "_model_name": "OutputModel",
            "_view_count": null,
            "_view_module": "@jupyter-widgets/output",
            "_view_module_version": "1.0.0",
            "_view_name": "OutputView",
            "layout": "IPY_MODEL_b06f936779fd438f8dd1c2d3365659af",
            "msg_id": "",
            "outputs": [
              {
                "output_type": "display_data",
                "data": {
                  "text/plain": "<Figure size 576x432 with 3 Axes>",
                  "image/png": "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\n"
                },
                "metadata": {
                  "image/png": {
                    "width": 557,
                    "height": 414
                  },
                  "needs_background": "light"
                }
              }
            ]
          }
        },
        "bcadb7e082824b189d720064f3e5a283": {
          "model_module": "@jupyter-widgets/base",
          "model_name": "LayoutModel",
          "model_module_version": "1.2.0",
          "state": {
            "_model_module": "@jupyter-widgets/base",
            "_model_module_version": "1.2.0",
            "_model_name": "LayoutModel",
            "_view_count": null,
            "_view_module": "@jupyter-widgets/base",
            "_view_module_version": "1.2.0",
            "_view_name": "LayoutView",
            "align_content": null,
            "align_items": null,
            "align_self": null,
            "border": null,
            "bottom": null,
            "display": null,
            "flex": null,
            "flex_flow": null,
            "grid_area": null,
            "grid_auto_columns": null,
            "grid_auto_flow": null,
            "grid_auto_rows": null,
            "grid_column": null,
            "grid_gap": null,
            "grid_row": null,
            "grid_template_areas": null,
            "grid_template_columns": null,
            "grid_template_rows": null,
            "height": null,
            "justify_content": null,
            "justify_items": null,
            "left": null,
            "margin": null,
            "max_height": null,
            "max_width": null,
            "min_height": null,
            "min_width": null,
            "object_fit": null,
            "object_position": null,
            "order": null,
            "overflow": null,
            "overflow_x": null,
            "overflow_y": null,
            "padding": null,
            "right": null,
            "top": null,
            "visibility": null,
            "width": null
          }
        },
        "a95151d8192f4e09a579b9cd098a4f46": {
          "model_module": "@jupyter-widgets/base",
          "model_name": "LayoutModel",
          "model_module_version": "1.2.0",
          "state": {
            "_model_module": "@jupyter-widgets/base",
            "_model_module_version": "1.2.0",
            "_model_name": "LayoutModel",
            "_view_count": null,
            "_view_module": "@jupyter-widgets/base",
            "_view_module_version": "1.2.0",
            "_view_name": "LayoutView",
            "align_content": null,
            "align_items": null,
            "align_self": null,
            "border": null,
            "bottom": null,
            "display": null,
            "flex": null,
            "flex_flow": null,
            "grid_area": null,
            "grid_auto_columns": null,
            "grid_auto_flow": null,
            "grid_auto_rows": null,
            "grid_column": null,
            "grid_gap": null,
            "grid_row": null,
            "grid_template_areas": null,
            "grid_template_columns": null,
            "grid_template_rows": null,
            "height": null,
            "justify_content": null,
            "justify_items": null,
            "left": null,
            "margin": null,
            "max_height": null,
            "max_width": null,
            "min_height": null,
            "min_width": null,
            "object_fit": null,
            "object_position": null,
            "order": null,
            "overflow": null,
            "overflow_x": null,
            "overflow_y": null,
            "padding": null,
            "right": null,
            "top": null,
            "visibility": null,
            "width": null
          }
        },
        "de898d5f2f664da3948ca638762fbc80": {
          "model_module": "@jupyter-widgets/controls",
          "model_name": "SliderStyleModel",
          "model_module_version": "1.5.0",
          "state": {
            "_model_module": "@jupyter-widgets/controls",
            "_model_module_version": "1.5.0",
            "_model_name": "SliderStyleModel",
            "_view_count": null,
            "_view_module": "@jupyter-widgets/base",
            "_view_module_version": "1.2.0",
            "_view_name": "StyleView",
            "description_width": "",
            "handle_color": null
          }
        },
        "f0851dda176f47648cc1ba2dc51c6478": {
          "model_module": "@jupyter-widgets/base",
          "model_name": "LayoutModel",
          "model_module_version": "1.2.0",
          "state": {
            "_model_module": "@jupyter-widgets/base",
            "_model_module_version": "1.2.0",
            "_model_name": "LayoutModel",
            "_view_count": null,
            "_view_module": "@jupyter-widgets/base",
            "_view_module_version": "1.2.0",
            "_view_name": "LayoutView",
            "align_content": null,
            "align_items": null,
            "align_self": null,
            "border": null,
            "bottom": null,
            "display": null,
            "flex": null,
            "flex_flow": null,
            "grid_area": null,
            "grid_auto_columns": null,
            "grid_auto_flow": null,
            "grid_auto_rows": null,
            "grid_column": null,
            "grid_gap": null,
            "grid_row": null,
            "grid_template_areas": null,
            "grid_template_columns": null,
            "grid_template_rows": null,
            "height": null,
            "justify_content": null,
            "justify_items": null,
            "left": null,
            "margin": null,
            "max_height": null,
            "max_width": null,
            "min_height": null,
            "min_width": null,
            "object_fit": null,
            "object_position": null,
            "order": null,
            "overflow": null,
            "overflow_x": null,
            "overflow_y": null,
            "padding": null,
            "right": null,
            "top": null,
            "visibility": null,
            "width": null
          }
        },
        "420c96f8de824716a34afd9a55e5cf4e": {
          "model_module": "@jupyter-widgets/controls",
          "model_name": "SliderStyleModel",
          "model_module_version": "1.5.0",
          "state": {
            "_model_module": "@jupyter-widgets/controls",
            "_model_module_version": "1.5.0",
            "_model_name": "SliderStyleModel",
            "_view_count": null,
            "_view_module": "@jupyter-widgets/base",
            "_view_module_version": "1.2.0",
            "_view_name": "StyleView",
            "description_width": "",
            "handle_color": null
          }
        },
        "b06f936779fd438f8dd1c2d3365659af": {
          "model_module": "@jupyter-widgets/base",
          "model_name": "LayoutModel",
          "model_module_version": "1.2.0",
          "state": {
            "_model_module": "@jupyter-widgets/base",
            "_model_module_version": "1.2.0",
            "_model_name": "LayoutModel",
            "_view_count": null,
            "_view_module": "@jupyter-widgets/base",
            "_view_module_version": "1.2.0",
            "_view_name": "LayoutView",
            "align_content": null,
            "align_items": null,
            "align_self": null,
            "border": null,
            "bottom": null,
            "display": null,
            "flex": null,
            "flex_flow": null,
            "grid_area": null,
            "grid_auto_columns": null,
            "grid_auto_flow": null,
            "grid_auto_rows": null,
            "grid_column": null,
            "grid_gap": null,
            "grid_row": null,
            "grid_template_areas": null,
            "grid_template_columns": null,
            "grid_template_rows": null,
            "height": null,
            "justify_content": null,
            "justify_items": null,
            "left": null,
            "margin": null,
            "max_height": null,
            "max_width": null,
            "min_height": null,
            "min_width": null,
            "object_fit": null,
            "object_position": null,
            "order": null,
            "overflow": null,
            "overflow_x": null,
            "overflow_y": null,
            "padding": null,
            "right": null,
            "top": null,
            "visibility": null,
            "width": null
          }
        },
        "1db35e5e31624c76b06fc81a05d24d92": {
          "model_module": "@jupyter-widgets/controls",
          "model_name": "TextareaModel",
          "model_module_version": "1.5.0",
          "state": {
            "_dom_classes": [],
            "_model_module": "@jupyter-widgets/controls",
            "_model_module_version": "1.5.0",
            "_model_name": "TextareaModel",
            "_view_count": null,
            "_view_module": "@jupyter-widgets/controls",
            "_view_module_version": "1.5.0",
            "_view_name": "TextareaView",
            "continuous_update": true,
            "description": "",
            "description_tooltip": null,
            "disabled": false,
            "layout": "IPY_MODEL_9e6134ed1cc342b78db63b359993b27b",
            "placeholder": "Type something",
            "rows": null,
            "style": "IPY_MODEL_defbba18ddad4e79a043beb1dc4413ea",
            "value": ""
          }
        },
        "9e6134ed1cc342b78db63b359993b27b": {
          "model_module": "@jupyter-widgets/base",
          "model_name": "LayoutModel",
          "model_module_version": "1.2.0",
          "state": {
            "_model_module": "@jupyter-widgets/base",
            "_model_module_version": "1.2.0",
            "_model_name": "LayoutModel",
            "_view_count": null,
            "_view_module": "@jupyter-widgets/base",
            "_view_module_version": "1.2.0",
            "_view_name": "LayoutView",
            "align_content": null,
            "align_items": null,
            "align_self": null,
            "border": null,
            "bottom": null,
            "display": null,
            "flex": null,
            "flex_flow": null,
            "grid_area": null,
            "grid_auto_columns": null,
            "grid_auto_flow": null,
            "grid_auto_rows": null,
            "grid_column": null,
            "grid_gap": null,
            "grid_row": null,
            "grid_template_areas": null,
            "grid_template_columns": null,
            "grid_template_rows": null,
            "height": null,
            "justify_content": null,
            "justify_items": null,
            "left": null,
            "margin": null,
            "max_height": null,
            "max_width": null,
            "min_height": null,
            "min_width": null,
            "object_fit": null,
            "object_position": null,
            "order": null,
            "overflow": null,
            "overflow_x": null,
            "overflow_y": null,
            "padding": null,
            "right": null,
            "top": null,
            "visibility": null,
            "width": null
          }
        },
        "defbba18ddad4e79a043beb1dc4413ea": {
          "model_module": "@jupyter-widgets/controls",
          "model_name": "DescriptionStyleModel",
          "model_module_version": "1.5.0",
          "state": {
            "_model_module": "@jupyter-widgets/controls",
            "_model_module_version": "1.5.0",
            "_model_name": "DescriptionStyleModel",
            "_view_count": null,
            "_view_module": "@jupyter-widgets/base",
            "_view_module_version": "1.2.0",
            "_view_name": "StyleView",
            "description_width": ""
          }
        },
        "51160a8dffe24a219ae219177f3cd45b": {
          "model_module": "@jupyter-widgets/controls",
          "model_name": "ButtonModel",
          "model_module_version": "1.5.0",
          "state": {
            "_dom_classes": [],
            "_model_module": "@jupyter-widgets/controls",
            "_model_module_version": "1.5.0",
            "_model_name": "ButtonModel",
            "_view_count": null,
            "_view_module": "@jupyter-widgets/controls",
            "_view_module_version": "1.5.0",
            "_view_name": "ButtonView",
            "button_style": "",
            "description": "Submit!",
            "disabled": false,
            "icon": "",
            "layout": "IPY_MODEL_064ce6fb505947a099abc24c051c5b09",
            "style": "IPY_MODEL_724cd3948a58497b88e9243d39ee2726",
            "tooltip": ""
          }
        },
        "064ce6fb505947a099abc24c051c5b09": {
          "model_module": "@jupyter-widgets/base",
          "model_name": "LayoutModel",
          "model_module_version": "1.2.0",
          "state": {
            "_model_module": "@jupyter-widgets/base",
            "_model_module_version": "1.2.0",
            "_model_name": "LayoutModel",
            "_view_count": null,
            "_view_module": "@jupyter-widgets/base",
            "_view_module_version": "1.2.0",
            "_view_name": "LayoutView",
            "align_content": null,
            "align_items": null,
            "align_self": null,
            "border": null,
            "bottom": null,
            "display": null,
            "flex": null,
            "flex_flow": null,
            "grid_area": null,
            "grid_auto_columns": null,
            "grid_auto_flow": null,
            "grid_auto_rows": null,
            "grid_column": null,
            "grid_gap": null,
            "grid_row": null,
            "grid_template_areas": null,
            "grid_template_columns": null,
            "grid_template_rows": null,
            "height": null,
            "justify_content": null,
            "justify_items": null,
            "left": null,
            "margin": null,
            "max_height": null,
            "max_width": null,
            "min_height": null,
            "min_width": null,
            "object_fit": null,
            "object_position": null,
            "order": null,
            "overflow": null,
            "overflow_x": null,
            "overflow_y": null,
            "padding": null,
            "right": null,
            "top": null,
            "visibility": null,
            "width": null
          }
        },
        "724cd3948a58497b88e9243d39ee2726": {
          "model_module": "@jupyter-widgets/controls",
          "model_name": "ButtonStyleModel",
          "model_module_version": "1.5.0",
          "state": {
            "_model_module": "@jupyter-widgets/controls",
            "_model_module_version": "1.5.0",
            "_model_name": "ButtonStyleModel",
            "_view_count": null,
            "_view_module": "@jupyter-widgets/base",
            "_view_module_version": "1.2.0",
            "_view_name": "StyleView",
            "button_color": null,
            "font_weight": ""
          }
        },
        "fdc351180e6e43ff9e10aea141c357ec": {
          "model_module": "@jupyter-widgets/controls",
          "model_name": "VBoxModel",
          "model_module_version": "1.5.0",
          "state": {
            "_dom_classes": [
              "widget-interact"
            ],
            "_model_module": "@jupyter-widgets/controls",
            "_model_module_version": "1.5.0",
            "_model_name": "VBoxModel",
            "_view_count": null,
            "_view_module": "@jupyter-widgets/controls",
            "_view_module_version": "1.5.0",
            "_view_name": "VBoxView",
            "box_style": "",
            "children": [
              "IPY_MODEL_b89630c7b1b449f9934d53e9867c0003",
              "IPY_MODEL_7c4008ce28f44e4fbe5ab245e2220225",
              "IPY_MODEL_77330e24234b44eca81ae29af42529dd"
            ],
            "layout": "IPY_MODEL_4915c9dbe0c84811b203568e074c09fb"
          }
        },
        "b89630c7b1b449f9934d53e9867c0003": {
          "model_module": "@jupyter-widgets/controls",
          "model_name": "IntTextModel",
          "model_module_version": "1.5.0",
          "state": {
            "_dom_classes": [],
            "_model_module": "@jupyter-widgets/controls",
            "_model_module_version": "1.5.0",
            "_model_name": "IntTextModel",
            "_view_count": null,
            "_view_module": "@jupyter-widgets/controls",
            "_view_module_version": "1.5.0",
            "_view_name": "IntTextView",
            "continuous_update": false,
            "description": "Reward 1",
            "description_tooltip": null,
            "disabled": false,
            "layout": "IPY_MODEL_026fa499f71b45d0ad95645780403063",
            "step": 1,
            "style": "IPY_MODEL_aacab392aa374a95b640b89dac15888e",
            "value": 0
          }
        },
        "7c4008ce28f44e4fbe5ab245e2220225": {
          "model_module": "@jupyter-widgets/controls",
          "model_name": "IntTextModel",
          "model_module_version": "1.5.0",
          "state": {
            "_dom_classes": [],
            "_model_module": "@jupyter-widgets/controls",
            "_model_module_version": "1.5.0",
            "_model_name": "IntTextModel",
            "_view_count": null,
            "_view_module": "@jupyter-widgets/controls",
            "_view_module_version": "1.5.0",
            "_view_name": "IntTextView",
            "continuous_update": false,
            "description": "Reward 2",
            "description_tooltip": null,
            "disabled": false,
            "layout": "IPY_MODEL_a395ae0ee349441eb802cd4c34c0c54e",
            "step": 1,
            "style": "IPY_MODEL_dce36057ab22459ba8add845ade06523",
            "value": 20
          }
        },
        "77330e24234b44eca81ae29af42529dd": {
          "model_module": "@jupyter-widgets/output",
          "model_name": "OutputModel",
          "model_module_version": "1.0.0",
          "state": {
            "_dom_classes": [],
            "_model_module": "@jupyter-widgets/output",
            "_model_module_version": "1.0.0",
            "_model_name": "OutputModel",
            "_view_count": null,
            "_view_module": "@jupyter-widgets/output",
            "_view_module_version": "1.0.0",
            "_view_name": "OutputView",
            "layout": "IPY_MODEL_178399f8e61242baa816de95e84d3730",
            "msg_id": "",
            "outputs": [
              {
                "output_type": "display_data",
                "data": {
                  "text/plain": "<Figure size 576x432 with 1 Axes>",
                  "image/png": "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\n"
                },
                "metadata": {
                  "image/png": {
                    "width": 558,
                    "height": 413
                  },
                  "needs_background": "light"
                }
              }
            ]
          }
        },
        "4915c9dbe0c84811b203568e074c09fb": {
          "model_module": "@jupyter-widgets/base",
          "model_name": "LayoutModel",
          "model_module_version": "1.2.0",
          "state": {
            "_model_module": "@jupyter-widgets/base",
            "_model_module_version": "1.2.0",
            "_model_name": "LayoutModel",
            "_view_count": null,
            "_view_module": "@jupyter-widgets/base",
            "_view_module_version": "1.2.0",
            "_view_name": "LayoutView",
            "align_content": null,
            "align_items": null,
            "align_self": null,
            "border": null,
            "bottom": null,
            "display": null,
            "flex": null,
            "flex_flow": null,
            "grid_area": null,
            "grid_auto_columns": null,
            "grid_auto_flow": null,
            "grid_auto_rows": null,
            "grid_column": null,
            "grid_gap": null,
            "grid_row": null,
            "grid_template_areas": null,
            "grid_template_columns": null,
            "grid_template_rows": null,
            "height": null,
            "justify_content": null,
            "justify_items": null,
            "left": null,
            "margin": null,
            "max_height": null,
            "max_width": null,
            "min_height": null,
            "min_width": null,
            "object_fit": null,
            "object_position": null,
            "order": null,
            "overflow": null,
            "overflow_x": null,
            "overflow_y": null,
            "padding": null,
            "right": null,
            "top": null,
            "visibility": null,
            "width": null
          }
        },
        "026fa499f71b45d0ad95645780403063": {
          "model_module": "@jupyter-widgets/base",
          "model_name": "LayoutModel",
          "model_module_version": "1.2.0",
          "state": {
            "_model_module": "@jupyter-widgets/base",
            "_model_module_version": "1.2.0",
            "_model_name": "LayoutModel",
            "_view_count": null,
            "_view_module": "@jupyter-widgets/base",
            "_view_module_version": "1.2.0",
            "_view_name": "LayoutView",
            "align_content": null,
            "align_items": null,
            "align_self": null,
            "border": null,
            "bottom": null,
            "display": null,
            "flex": null,
            "flex_flow": null,
            "grid_area": null,
            "grid_auto_columns": null,
            "grid_auto_flow": null,
            "grid_auto_rows": null,
            "grid_column": null,
            "grid_gap": null,
            "grid_row": null,
            "grid_template_areas": null,
            "grid_template_columns": null,
            "grid_template_rows": null,
            "height": null,
            "justify_content": null,
            "justify_items": null,
            "left": null,
            "margin": null,
            "max_height": null,
            "max_width": null,
            "min_height": null,
            "min_width": null,
            "object_fit": null,
            "object_position": null,
            "order": null,
            "overflow": null,
            "overflow_x": null,
            "overflow_y": null,
            "padding": null,
            "right": null,
            "top": null,
            "visibility": null,
            "width": null
          }
        },
        "aacab392aa374a95b640b89dac15888e": {
          "model_module": "@jupyter-widgets/controls",
          "model_name": "DescriptionStyleModel",
          "model_module_version": "1.5.0",
          "state": {
            "_model_module": "@jupyter-widgets/controls",
            "_model_module_version": "1.5.0",
            "_model_name": "DescriptionStyleModel",
            "_view_count": null,
            "_view_module": "@jupyter-widgets/base",
            "_view_module_version": "1.2.0",
            "_view_name": "StyleView",
            "description_width": ""
          }
        },
        "a395ae0ee349441eb802cd4c34c0c54e": {
          "model_module": "@jupyter-widgets/base",
          "model_name": "LayoutModel",
          "model_module_version": "1.2.0",
          "state": {
            "_model_module": "@jupyter-widgets/base",
            "_model_module_version": "1.2.0",
            "_model_name": "LayoutModel",
            "_view_count": null,
            "_view_module": "@jupyter-widgets/base",
            "_view_module_version": "1.2.0",
            "_view_name": "LayoutView",
            "align_content": null,
            "align_items": null,
            "align_self": null,
            "border": null,
            "bottom": null,
            "display": null,
            "flex": null,
            "flex_flow": null,
            "grid_area": null,
            "grid_auto_columns": null,
            "grid_auto_flow": null,
            "grid_auto_rows": null,
            "grid_column": null,
            "grid_gap": null,
            "grid_row": null,
            "grid_template_areas": null,
            "grid_template_columns": null,
            "grid_template_rows": null,
            "height": null,
            "justify_content": null,
            "justify_items": null,
            "left": null,
            "margin": null,
            "max_height": null,
            "max_width": null,
            "min_height": null,
            "min_width": null,
            "object_fit": null,
            "object_position": null,
            "order": null,
            "overflow": null,
            "overflow_x": null,
            "overflow_y": null,
            "padding": null,
            "right": null,
            "top": null,
            "visibility": null,
            "width": null
          }
        },
        "dce36057ab22459ba8add845ade06523": {
          "model_module": "@jupyter-widgets/controls",
          "model_name": "DescriptionStyleModel",
          "model_module_version": "1.5.0",
          "state": {
            "_model_module": "@jupyter-widgets/controls",
            "_model_module_version": "1.5.0",
            "_model_name": "DescriptionStyleModel",
            "_view_count": null,
            "_view_module": "@jupyter-widgets/base",
            "_view_module_version": "1.2.0",
            "_view_name": "StyleView",
            "description_width": ""
          }
        },
        "178399f8e61242baa816de95e84d3730": {
          "model_module": "@jupyter-widgets/base",
          "model_name": "LayoutModel",
          "model_module_version": "1.2.0",
          "state": {
            "_model_module": "@jupyter-widgets/base",
            "_model_module_version": "1.2.0",
            "_model_name": "LayoutModel",
            "_view_count": null,
            "_view_module": "@jupyter-widgets/base",
            "_view_module_version": "1.2.0",
            "_view_name": "LayoutView",
            "align_content": null,
            "align_items": null,
            "align_self": null,
            "border": null,
            "bottom": null,
            "display": null,
            "flex": null,
            "flex_flow": null,
            "grid_area": null,
            "grid_auto_columns": null,
            "grid_auto_flow": null,
            "grid_auto_rows": null,
            "grid_column": null,
            "grid_gap": null,
            "grid_row": null,
            "grid_template_areas": null,
            "grid_template_columns": null,
            "grid_template_rows": null,
            "height": null,
            "justify_content": null,
            "justify_items": null,
            "left": null,
            "margin": null,
            "max_height": null,
            "max_width": null,
            "min_height": null,
            "min_width": null,
            "object_fit": null,
            "object_position": null,
            "order": null,
            "overflow": null,
            "overflow_x": null,
            "overflow_y": null,
            "padding": null,
            "right": null,
            "top": null,
            "visibility": null,
            "width": null
          }
        },
        "5ef4d3d7d37f4ce4a57bb2bb20d49f13": {
          "model_module": "@jupyter-widgets/controls",
          "model_name": "TextareaModel",
          "model_module_version": "1.5.0",
          "state": {
            "_dom_classes": [],
            "_model_module": "@jupyter-widgets/controls",
            "_model_module_version": "1.5.0",
            "_model_name": "TextareaModel",
            "_view_count": null,
            "_view_module": "@jupyter-widgets/controls",
            "_view_module_version": "1.5.0",
            "_view_name": "TextareaView",
            "continuous_update": true,
            "description": "",
            "description_tooltip": null,
            "disabled": false,
            "layout": "IPY_MODEL_4767487234cc4338a96722d19c4f9b40",
            "placeholder": "Type something",
            "rows": null,
            "style": "IPY_MODEL_8e371a9438a6479c93f8b45619104d65",
            "value": "Type your answer here and click on `Submit!`"
          }
        },
        "4767487234cc4338a96722d19c4f9b40": {
          "model_module": "@jupyter-widgets/base",
          "model_name": "LayoutModel",
          "model_module_version": "1.2.0",
          "state": {
            "_model_module": "@jupyter-widgets/base",
            "_model_module_version": "1.2.0",
            "_model_name": "LayoutModel",
            "_view_count": null,
            "_view_module": "@jupyter-widgets/base",
            "_view_module_version": "1.2.0",
            "_view_name": "LayoutView",
            "align_content": null,
            "align_items": null,
            "align_self": null,
            "border": null,
            "bottom": null,
            "display": null,
            "flex": null,
            "flex_flow": null,
            "grid_area": null,
            "grid_auto_columns": null,
            "grid_auto_flow": null,
            "grid_auto_rows": null,
            "grid_column": null,
            "grid_gap": null,
            "grid_row": null,
            "grid_template_areas": null,
            "grid_template_columns": null,
            "grid_template_rows": null,
            "height": null,
            "justify_content": null,
            "justify_items": null,
            "left": null,
            "margin": null,
            "max_height": null,
            "max_width": null,
            "min_height": null,
            "min_width": null,
            "object_fit": null,
            "object_position": null,
            "order": null,
            "overflow": null,
            "overflow_x": null,
            "overflow_y": null,
            "padding": null,
            "right": null,
            "top": null,
            "visibility": null,
            "width": null
          }
        },
        "8e371a9438a6479c93f8b45619104d65": {
          "model_module": "@jupyter-widgets/controls",
          "model_name": "DescriptionStyleModel",
          "model_module_version": "1.5.0",
          "state": {
            "_model_module": "@jupyter-widgets/controls",
            "_model_module_version": "1.5.0",
            "_model_name": "DescriptionStyleModel",
            "_view_count": null,
            "_view_module": "@jupyter-widgets/base",
            "_view_module_version": "1.2.0",
            "_view_name": "StyleView",
            "description_width": ""
          }
        },
        "79074bc589254c58bc614c046a83721d": {
          "model_module": "@jupyter-widgets/controls",
          "model_name": "ButtonModel",
          "model_module_version": "1.5.0",
          "state": {
            "_dom_classes": [],
            "_model_module": "@jupyter-widgets/controls",
            "_model_module_version": "1.5.0",
            "_model_name": "ButtonModel",
            "_view_count": null,
            "_view_module": "@jupyter-widgets/controls",
            "_view_module_version": "1.5.0",
            "_view_name": "ButtonView",
            "button_style": "",
            "description": "Submit!",
            "disabled": false,
            "icon": "",
            "layout": "IPY_MODEL_85021c95d90c4250a930b7b9ba14d54d",
            "style": "IPY_MODEL_e3208bb93e7b47ed8622b187f4aaa40d",
            "tooltip": ""
          }
        },
        "85021c95d90c4250a930b7b9ba14d54d": {
          "model_module": "@jupyter-widgets/base",
          "model_name": "LayoutModel",
          "model_module_version": "1.2.0",
          "state": {
            "_model_module": "@jupyter-widgets/base",
            "_model_module_version": "1.2.0",
            "_model_name": "LayoutModel",
            "_view_count": null,
            "_view_module": "@jupyter-widgets/base",
            "_view_module_version": "1.2.0",
            "_view_name": "LayoutView",
            "align_content": null,
            "align_items": null,
            "align_self": null,
            "border": null,
            "bottom": null,
            "display": null,
            "flex": null,
            "flex_flow": null,
            "grid_area": null,
            "grid_auto_columns": null,
            "grid_auto_flow": null,
            "grid_auto_rows": null,
            "grid_column": null,
            "grid_gap": null,
            "grid_row": null,
            "grid_template_areas": null,
            "grid_template_columns": null,
            "grid_template_rows": null,
            "height": null,
            "justify_content": null,
            "justify_items": null,
            "left": null,
            "margin": null,
            "max_height": null,
            "max_width": null,
            "min_height": null,
            "min_width": null,
            "object_fit": null,
            "object_position": null,
            "order": null,
            "overflow": null,
            "overflow_x": null,
            "overflow_y": null,
            "padding": null,
            "right": null,
            "top": null,
            "visibility": null,
            "width": null
          }
        },
        "e3208bb93e7b47ed8622b187f4aaa40d": {
          "model_module": "@jupyter-widgets/controls",
          "model_name": "ButtonStyleModel",
          "model_module_version": "1.5.0",
          "state": {
            "_model_module": "@jupyter-widgets/controls",
            "_model_module_version": "1.5.0",
            "_model_name": "ButtonStyleModel",
            "_view_count": null,
            "_view_module": "@jupyter-widgets/base",
            "_view_module_version": "1.2.0",
            "_view_name": "StyleView",
            "button_color": null,
            "font_weight": ""
          }
        },
        "50a1d5df4b19434093912d8d935ccdbc": {
          "model_module": "@jupyter-widgets/controls",
          "model_name": "TextareaModel",
          "model_module_version": "1.5.0",
          "state": {
            "_dom_classes": [],
            "_model_module": "@jupyter-widgets/controls",
            "_model_module_version": "1.5.0",
            "_model_name": "TextareaModel",
            "_view_count": null,
            "_view_module": "@jupyter-widgets/controls",
            "_view_module_version": "1.5.0",
            "_view_name": "TextareaView",
            "continuous_update": true,
            "description": "",
            "description_tooltip": null,
            "disabled": false,
            "layout": "IPY_MODEL_48598e566db7478dbafdbbb1fb0b344a",
            "placeholder": "Type something",
            "rows": null,
            "style": "IPY_MODEL_7be273c0c5524e2aabee06e50246f225",
            "value": "Type your answer here and click on `Submit!`"
          }
        },
        "48598e566db7478dbafdbbb1fb0b344a": {
          "model_module": "@jupyter-widgets/base",
          "model_name": "LayoutModel",
          "model_module_version": "1.2.0",
          "state": {
            "_model_module": "@jupyter-widgets/base",
            "_model_module_version": "1.2.0",
            "_model_name": "LayoutModel",
            "_view_count": null,
            "_view_module": "@jupyter-widgets/base",
            "_view_module_version": "1.2.0",
            "_view_name": "LayoutView",
            "align_content": null,
            "align_items": null,
            "align_self": null,
            "border": null,
            "bottom": null,
            "display": null,
            "flex": null,
            "flex_flow": null,
            "grid_area": null,
            "grid_auto_columns": null,
            "grid_auto_flow": null,
            "grid_auto_rows": null,
            "grid_column": null,
            "grid_gap": null,
            "grid_row": null,
            "grid_template_areas": null,
            "grid_template_columns": null,
            "grid_template_rows": null,
            "height": null,
            "justify_content": null,
            "justify_items": null,
            "left": null,
            "margin": null,
            "max_height": null,
            "max_width": null,
            "min_height": null,
            "min_width": null,
            "object_fit": null,
            "object_position": null,
            "order": null,
            "overflow": null,
            "overflow_x": null,
            "overflow_y": null,
            "padding": null,
            "right": null,
            "top": null,
            "visibility": null,
            "width": null
          }
        },
        "7be273c0c5524e2aabee06e50246f225": {
          "model_module": "@jupyter-widgets/controls",
          "model_name": "DescriptionStyleModel",
          "model_module_version": "1.5.0",
          "state": {
            "_model_module": "@jupyter-widgets/controls",
            "_model_module_version": "1.5.0",
            "_model_name": "DescriptionStyleModel",
            "_view_count": null,
            "_view_module": "@jupyter-widgets/base",
            "_view_module_version": "1.2.0",
            "_view_name": "StyleView",
            "description_width": ""
          }
        },
        "d379d81eeee74f6fb721b38d66e1c3d0": {
          "model_module": "@jupyter-widgets/controls",
          "model_name": "ButtonModel",
          "model_module_version": "1.5.0",
          "state": {
            "_dom_classes": [],
            "_model_module": "@jupyter-widgets/controls",
            "_model_module_version": "1.5.0",
            "_model_name": "ButtonModel",
            "_view_count": null,
            "_view_module": "@jupyter-widgets/controls",
            "_view_module_version": "1.5.0",
            "_view_name": "ButtonView",
            "button_style": "",
            "description": "Submit!",
            "disabled": false,
            "icon": "",
            "layout": "IPY_MODEL_efc20c1c8fa642579bb8d978d60a1730",
            "style": "IPY_MODEL_2b12ae30810c4efd818f06d35cf87b54",
            "tooltip": ""
          }
        },
        "efc20c1c8fa642579bb8d978d60a1730": {
          "model_module": "@jupyter-widgets/base",
          "model_name": "LayoutModel",
          "model_module_version": "1.2.0",
          "state": {
            "_model_module": "@jupyter-widgets/base",
            "_model_module_version": "1.2.0",
            "_model_name": "LayoutModel",
            "_view_count": null,
            "_view_module": "@jupyter-widgets/base",
            "_view_module_version": "1.2.0",
            "_view_name": "LayoutView",
            "align_content": null,
            "align_items": null,
            "align_self": null,
            "border": null,
            "bottom": null,
            "display": null,
            "flex": null,
            "flex_flow": null,
            "grid_area": null,
            "grid_auto_columns": null,
            "grid_auto_flow": null,
            "grid_auto_rows": null,
            "grid_column": null,
            "grid_gap": null,
            "grid_row": null,
            "grid_template_areas": null,
            "grid_template_columns": null,
            "grid_template_rows": null,
            "height": null,
            "justify_content": null,
            "justify_items": null,
            "left": null,
            "margin": null,
            "max_height": null,
            "max_width": null,
            "min_height": null,
            "min_width": null,
            "object_fit": null,
            "object_position": null,
            "order": null,
            "overflow": null,
            "overflow_x": null,
            "overflow_y": null,
            "padding": null,
            "right": null,
            "top": null,
            "visibility": null,
            "width": null
          }
        },
        "2b12ae30810c4efd818f06d35cf87b54": {
          "model_module": "@jupyter-widgets/controls",
          "model_name": "ButtonStyleModel",
          "model_module_version": "1.5.0",
          "state": {
            "_model_module": "@jupyter-widgets/controls",
            "_model_module_version": "1.5.0",
            "_model_name": "ButtonStyleModel",
            "_view_count": null,
            "_view_module": "@jupyter-widgets/base",
            "_view_module_version": "1.2.0",
            "_view_name": "StyleView",
            "button_color": null,
            "font_weight": ""
          }
        }
      }
    }
  },
  "nbformat": 4,
  "nbformat_minor": 0
}