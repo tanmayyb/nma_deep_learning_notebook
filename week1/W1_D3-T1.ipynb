{
  "cells": [
    {
      "cell_type": "markdown",
      "metadata": {
        "id": "view-in-github",
        "colab_type": "text"
      },
      "source": [
        "<a href=\"https://colab.research.google.com/github/tanmayyb/nma_deep_learning_notebook/blob/main/week1/W1_D3-T1.ipynb.ipynb\" target=\"_parent\"><img src=\"https://colab.research.google.com/assets/colab-badge.svg\" alt=\"Open In Colab\"/></a>"
      ]
    },
    {
      "cell_type": "markdown",
      "metadata": {
        "execution": {},
        "id": "KQ40ghZpkmzz"
      },
      "source": [
        "# Tutorial 1: Biological vs. Artificial Neural Networks\n",
        "\n",
        "**Week 1, Day 3: Multi Layer Perceptrons**\n",
        "\n",
        "**By Neuromatch Academy**\n",
        "\n",
        "__Content creators:__ Arash Ash, Surya Ganguli\n",
        "\n",
        "__Content reviewers:__ Saeed Salehi, Felix Bartsch, Yu-Fang Yang, Antoine De Comite, Melvin Selim Atay, Kelson Shilling-Scrivo\n",
        "\n",
        "__Content editors:__ Gagana B, Kelson Shilling-Scrivo, Spiros Chavlis\n",
        "\n",
        "__Production editors:__ Anoop Kulkarni, Kelson Shilling-Scrivo, Gagana B, Spiros Chavlis"
      ]
    },
    {
      "cell_type": "markdown",
      "metadata": {
        "execution": {},
        "id": "1siv48r1kmz6"
      },
      "source": [
        "<p align='center'><img src='https://github.com/NeuromatchAcademy/widgets/blob/master/sponsors.png?raw=True'/></p>"
      ]
    },
    {
      "cell_type": "markdown",
      "metadata": {
        "execution": {},
        "id": "_wISnB5Lkmz6"
      },
      "source": [
        "---\n",
        "# Tutorial objectives\n",
        "\n",
        "In this tutorial, we will explore the Multi-layer Perceptrons (MLPs). MLPs are arguably one of the most tractable models (due to their flexibility) that we can use to study deep learning fundamentals. Here we will learn why they are: \n",
        "\n",
        "* Similar to biological networks\n",
        "* Good at function approximation\n",
        "* Implemented the way they are in PyTorch"
      ]
    },
    {
      "cell_type": "code",
      "execution_count": 31,
      "metadata": {
        "cellView": "form",
        "execution": {},
        "id": "ii3I-Ktckmz7",
        "outputId": "db760ae0-290e-4a05-a5af-47dba7a8fbf5",
        "colab": {
          "base_uri": "https://localhost:8080/",
          "height": 501
        }
      },
      "outputs": [
        {
          "output_type": "execute_result",
          "data": {
            "text/plain": [
              "<IPython.lib.display.IFrame at 0x7f7e90528050>"
            ],
            "text/html": [
              "\n",
              "        <iframe\n",
              "            width=\"854\"\n",
              "            height=\"480\"\n",
              "            src=\"https://mfr.ca-1.osf.io/render?url=https://osf.io/4ye56/?direct%26mode=render%26action=download%26mode=render\"\n",
              "            frameborder=\"0\"\n",
              "            allowfullscreen\n",
              "        ></iframe>\n",
              "        "
            ]
          },
          "metadata": {},
          "execution_count": 31
        }
      ],
      "source": [
        "# @title Tutorial slides\n",
        "\n",
        "from IPython.display import IFrame\n",
        "IFrame(src=f\"https://mfr.ca-1.osf.io/render?url=https://osf.io/4ye56/?direct%26mode=render%26action=download%26mode=render\", width=854, height=480)"
      ]
    },
    {
      "cell_type": "markdown",
      "metadata": {
        "execution": {},
        "id": "7Um2Ik1mkmz8"
      },
      "source": [
        "These are the slides for all videos in the tutorial. If you want to locally download the slides, click [here](https://osf.io/4ye56/download)."
      ]
    },
    {
      "cell_type": "markdown",
      "metadata": {
        "execution": {},
        "id": "yjlJ1FjVkmz8"
      },
      "source": [
        "---\n",
        "# Setup\n",
        "\n",
        "This is a GPU free notebook!"
      ]
    },
    {
      "cell_type": "code",
      "execution_count": 32,
      "metadata": {
        "cellView": "form",
        "execution": {},
        "id": "CxRrVOwPkmz9"
      },
      "outputs": [],
      "source": [
        "# @title Install dependencies\n",
        "!pip install git+https://github.com/NeuromatchAcademy/evaltools --quiet\n",
        "from evaltools.airtable import AirtableForm\n",
        "\n",
        "# Generate airtable form\n",
        "atform = AirtableForm('appn7VdPRseSoMXEG','W1D3_T1','https://portal.neuromatchacademy.org/api/redirect/to/9c55f6cb-cdf9-4429-ac1c-ec44fe64c303')"
      ]
    },
    {
      "cell_type": "code",
      "execution_count": 33,
      "metadata": {
        "execution": {},
        "id": "HXfIJd_Ekmz-"
      },
      "outputs": [],
      "source": [
        "# Imports\n",
        "import random\n",
        "\n",
        "import torch\n",
        "import numpy as np\n",
        "import matplotlib.pyplot as plt\n",
        "\n",
        "import torch.nn as nn\n",
        "import torch.optim as optim\n",
        "from tqdm.auto import tqdm\n",
        "from IPython.display import display\n",
        "from torch.utils.data import DataLoader, TensorDataset"
      ]
    },
    {
      "cell_type": "code",
      "execution_count": 34,
      "metadata": {
        "cellView": "form",
        "execution": {},
        "id": "qsBVGlMMkmz-"
      },
      "outputs": [],
      "source": [
        "# @title Figure settings\n",
        "import ipywidgets as widgets       # Interactive display\n",
        "%config InlineBackend.figure_format = 'retina'\n",
        "plt.style.use(\"https://raw.githubusercontent.com/NeuromatchAcademy/content-creation/main/nma.mplstyle\")"
      ]
    },
    {
      "cell_type": "code",
      "execution_count": 35,
      "metadata": {
        "cellView": "form",
        "execution": {},
        "id": "PmrvsoxDkmz_"
      },
      "outputs": [],
      "source": [
        "# @title Plotting functions\n",
        "\n",
        "def imshow(img):\n",
        "  \"\"\"\n",
        "  Helper function to plot unnormalised image\n",
        "\n",
        "  Args:\n",
        "    img: torch.tensor\n",
        "      Image to be displayed\n",
        "\n",
        "  Returns:\n",
        "    Nothing\n",
        "  \"\"\"\n",
        "  img = img / 2 + 0.5     # Unnormalize\n",
        "  npimg = img.numpy()\n",
        "  plt.imshow(np.transpose(npimg, (1, 2, 0)))\n",
        "  plt.axis(False)\n",
        "  plt.show()\n",
        "\n",
        "\n",
        "def plot_function_approximation(x, relu_acts, y_hat):\n",
        "  \"\"\"\n",
        "  Helper function to plot ReLU activations and\n",
        "  function approximations\n",
        "\n",
        "  Args:\n",
        "    x: torch.tensor\n",
        "      Incoming Data\n",
        "    relu_acts: torch.tensor\n",
        "      Computed ReLU activations for each point along the x axis (x)\n",
        "    y_hat: torch.tensor\n",
        "      Estimated labels/class predictions\n",
        "      Weighted sum of ReLU activations for every point along x axis\n",
        "\n",
        "  Returns:\n",
        "    Nothing\n",
        "  \"\"\"\n",
        "  fig, axes = plt.subplots(2, 1)\n",
        "\n",
        "  # Plot ReLU Activations\n",
        "  axes[0].plot(x, relu_acts.T);\n",
        "  axes[0].set(xlabel='x',\n",
        "              ylabel='Activation',\n",
        "              title='ReLU Activations - Basis Functions')\n",
        "  labels = [f\"ReLU {i + 1}\" for i in range(relu_acts.shape[0])]\n",
        "  axes[0].legend(labels, ncol = 2)\n",
        "\n",
        "  # Plot Function Approximation\n",
        "  axes[1].plot(x, torch.sin(x), label='truth')\n",
        "  axes[1].plot(x, y_hat, label='estimated')\n",
        "  axes[1].legend()\n",
        "  axes[1].set(xlabel='x',\n",
        "              ylabel='y(x)',\n",
        "              title='Function Approximation')\n",
        "\n",
        "  plt.tight_layout()\n",
        "  plt.show()"
      ]
    },
    {
      "cell_type": "code",
      "execution_count": 36,
      "metadata": {
        "cellView": "form",
        "execution": {},
        "id": "uRD3noGJkm0A"
      },
      "outputs": [],
      "source": [
        "# @title Set random seed\n",
        "\n",
        "# @markdown Executing `set_seed(seed=seed)` you are setting the seed\n",
        "\n",
        "# For DL its critical to set the random seed so that students can have a\n",
        "# baseline to compare their results to expected results.\n",
        "# Read more here: https://pytorch.org/docs/stable/notes/randomness.html\n",
        "\n",
        "# Call `set_seed` function in the exercises to ensure reproducibility.\n",
        "import random\n",
        "import torch\n",
        "\n",
        "def set_seed(seed=None, seed_torch=True):\n",
        "  \"\"\"\n",
        "  Function that controls randomness. NumPy and random modules must be imported.\n",
        "\n",
        "  Args:\n",
        "    seed : Integer\n",
        "      A non-negative integer that defines the random state. Default is `None`.\n",
        "    seed_torch : Boolean\n",
        "      If `True` sets the random seed for pytorch tensors, so pytorch module\n",
        "      must be imported. Default is `True`.\n",
        "\n",
        "  Returns:\n",
        "    Nothing.\n",
        "  \"\"\"\n",
        "  if seed is None:\n",
        "    seed = np.random.choice(2 ** 32)\n",
        "  random.seed(seed)\n",
        "  np.random.seed(seed)\n",
        "  if seed_torch:\n",
        "    torch.manual_seed(seed)\n",
        "    torch.cuda.manual_seed_all(seed)\n",
        "    torch.cuda.manual_seed(seed)\n",
        "    torch.backends.cudnn.benchmark = False\n",
        "    torch.backends.cudnn.deterministic = True\n",
        "\n",
        "  print(f'Random seed {seed} has been set.')\n",
        "\n",
        "\n",
        "# In case that `DataLoader` is used\n",
        "def seed_worker(worker_id):\n",
        "  \"\"\"\n",
        "  DataLoader will reseed workers following randomness in\n",
        "  multi-process data loading algorithm.\n",
        "\n",
        "  Args:\n",
        "    worker_id: integer\n",
        "      ID of subprocess to seed. 0 means that\n",
        "      the data will be loaded in the main process\n",
        "      Refer: https://pytorch.org/docs/stable/data.html#data-loading-randomness for more details\n",
        "\n",
        "  Returns:\n",
        "    Nothing\n",
        "  \"\"\"\n",
        "  worker_seed = torch.initial_seed() % 2**32\n",
        "  np.random.seed(worker_seed)\n",
        "  random.seed(worker_seed)"
      ]
    },
    {
      "cell_type": "code",
      "execution_count": 37,
      "metadata": {
        "cellView": "form",
        "execution": {},
        "id": "ecLfLz4Wkm0B"
      },
      "outputs": [],
      "source": [
        "# @title Set device (GPU or CPU). Execute `set_device()`\n",
        "# especially if torch modules used.\n",
        "\n",
        "# Inform the user if the notebook uses GPU or CPU.\n",
        "# NOTE: This is mostly a GPU free tutorial.\n",
        "\n",
        "def set_device():\n",
        "  \"\"\"\n",
        "  Set the device. CUDA if available, CPU otherwise\n",
        "\n",
        "  Args:\n",
        "    None\n",
        "\n",
        "  Returns:\n",
        "    Nothing\n",
        "  \"\"\"\n",
        "  device = \"cuda\" if torch.cuda.is_available() else \"cpu\"\n",
        "  if device != \"cuda\":\n",
        "    print(\"GPU is not enabled in this notebook. \\n\"\n",
        "          \"If you want to enable it, in the menu under `Runtime` -> \\n\"\n",
        "          \"`Hardware accelerator.` and select `GPU` from the dropdown menu\")\n",
        "  else:\n",
        "    print(\"GPU is enabled in this notebook. \\n\"\n",
        "          \"If you want to disable it, in the menu under `Runtime` -> \\n\"\n",
        "          \"`Hardware accelerator.` and select `None` from the dropdown menu\")\n",
        "\n",
        "  return device"
      ]
    },
    {
      "cell_type": "code",
      "execution_count": 38,
      "metadata": {
        "execution": {},
        "id": "UTMTf3Vokm0D",
        "outputId": "6535c6be-6271-4c3b-e88b-d7e95cb68ca7",
        "colab": {
          "base_uri": "https://localhost:8080/"
        }
      },
      "outputs": [
        {
          "output_type": "stream",
          "name": "stdout",
          "text": [
            "Random seed 2021 has been set.\n",
            "GPU is not enabled in this notebook. \n",
            "If you want to enable it, in the menu under `Runtime` -> \n",
            "`Hardware accelerator.` and select `GPU` from the dropdown menu\n"
          ]
        }
      ],
      "source": [
        "SEED = 2021\n",
        "set_seed(seed=SEED)\n",
        "DEVICE = set_device()"
      ]
    },
    {
      "cell_type": "markdown",
      "metadata": {
        "execution": {},
        "id": "Sldodhx2km0E"
      },
      "source": [
        "---\n",
        "# Section 0: Introduction to MLPs"
      ]
    },
    {
      "cell_type": "code",
      "execution_count": 39,
      "metadata": {
        "cellView": "form",
        "execution": {},
        "id": "haF2rioAkm0E",
        "outputId": "7b2d8299-4012-43f3-e58a-1444afe00196",
        "colab": {
          "base_uri": "https://localhost:8080/",
          "height": 581,
          "referenced_widgets": [
            "7c06fe52b9ec4d23b884f4238a1b35dc",
            "f84f0ffa675f4f878a6917b9171bd1f1",
            "cf3dca68b1d7433bb5c520cda6822a99",
            "ee1f9e3ea62746579f54c4e66dd63e95",
            "900297c3d7af46608c354907a337ee08",
            "b2b87f92246949f49037b077ebc76d22"
          ]
        }
      },
      "outputs": [
        {
          "output_type": "display_data",
          "data": {
            "text/plain": [
              "Tab(children=(Output(), Output()), _titles={'0': 'Youtube', '1': 'Bilibili'})"
            ],
            "application/vnd.jupyter.widget-view+json": {
              "version_major": 2,
              "version_minor": 0,
              "model_id": "7c06fe52b9ec4d23b884f4238a1b35dc"
            }
          },
          "metadata": {}
        }
      ],
      "source": [
        "# @title Video 0: Introduction\n",
        "from ipywidgets import widgets\n",
        "\n",
        "out2 = widgets.Output()\n",
        "with out2:\n",
        "  from IPython.display import IFrame\n",
        "  class BiliVideo(IFrame):\n",
        "    def __init__(self, id, page=1, width=400, height=300, **kwargs):\n",
        "      self.id=id\n",
        "      src = \"https://player.bilibili.com/player.html?bvid={0}&page={1}\".format(id, page)\n",
        "      super(BiliVideo, self).__init__(src, width, height, **kwargs)\n",
        "\n",
        "  video = BiliVideo(id=f\"BV1E3411r7TL\", width=854, height=480, fs=1)\n",
        "  print(\"Video available at https://www.bilibili.com/video/{0}\".format(video.id))\n",
        "  display(video)\n",
        "\n",
        "out1 = widgets.Output()\n",
        "with out1:\n",
        "  from IPython.display import YouTubeVideo\n",
        "  video = YouTubeVideo(id=f\"Gh0KYl7ViAc\", width=854, height=480, fs=1, rel=0)\n",
        "  print(\"Video available at https://youtube.com/watch?v=\" + video.id)\n",
        "  display(video)\n",
        "\n",
        "out = widgets.Tab([out1, out2])\n",
        "out.set_title(0, 'Youtube')\n",
        "out.set_title(1, 'Bilibili')\n",
        "\n",
        "#add event to airtable\n",
        "atform.add_event('Video 0: Introduction')\n",
        "\n",
        "display(out)"
      ]
    },
    {
      "cell_type": "markdown",
      "metadata": {
        "execution": {},
        "id": "OOjcV8dqkm0E"
      },
      "source": [
        "---\n",
        "# Section 1: The Need for MLPs\n",
        "\n",
        "*Time estimate: ~35 mins*"
      ]
    },
    {
      "cell_type": "code",
      "execution_count": 40,
      "metadata": {
        "cellView": "form",
        "execution": {},
        "id": "vDeMhrq1km0F",
        "outputId": "3b2b8ee8-0c45-44f4-c8dc-448caf98db14",
        "colab": {
          "base_uri": "https://localhost:8080/",
          "height": 581,
          "referenced_widgets": [
            "fe1853f6750d4710a6600db44e76c558",
            "0e7eb2afc21b41d2a9fb217c531cd957",
            "e90b9baa4a5549239c00b558a8d47294",
            "07b3eaf9df6b4f8ead1544c1162fede1",
            "9c4077af9bbd41f39cc7fae959fd0455",
            "12f708e269224bae9f601f0d218752ec"
          ]
        }
      },
      "outputs": [
        {
          "output_type": "display_data",
          "data": {
            "text/plain": [
              "Tab(children=(Output(), Output()), _titles={'0': 'Youtube', '1': 'Bilibili'})"
            ],
            "application/vnd.jupyter.widget-view+json": {
              "version_major": 2,
              "version_minor": 0,
              "model_id": "fe1853f6750d4710a6600db44e76c558"
            }
          },
          "metadata": {}
        }
      ],
      "source": [
        "# @title Video 1: Universal Approximation Theorem\n",
        "from ipywidgets import widgets\n",
        "\n",
        "out2 = widgets.Output()\n",
        "with out2:\n",
        "  from IPython.display import IFrame\n",
        "  class BiliVideo(IFrame):\n",
        "    def __init__(self, id, page=1, width=400, height=300, **kwargs):\n",
        "      self.id=id\n",
        "      src = \"https://player.bilibili.com/player.html?bvid={0}&page={1}\".format(id, page)\n",
        "      super(BiliVideo, self).__init__(src, width, height, **kwargs)\n",
        "\n",
        "  video = BiliVideo(id=f\"BV1SP4y147Uv\", width=854, height=480, fs=1)\n",
        "  print(\"Video available at https://www.bilibili.com/video/{0}\".format(video.id))\n",
        "  display(video)\n",
        "\n",
        "out1 = widgets.Output()\n",
        "with out1:\n",
        "  from IPython.display import YouTubeVideo\n",
        "  video = YouTubeVideo(id=f\"tg8HHKo1aH4\", width=854, height=480, fs=1, rel=0)\n",
        "  print(\"Video available at https://youtube.com/watch?v=\" + video.id)\n",
        "  display(video)\n",
        "\n",
        "out = widgets.Tab([out1, out2])\n",
        "out.set_title(0, 'Youtube')\n",
        "out.set_title(1, 'Bilibili')\n",
        "\n",
        "# add event to airtable\n",
        "atform.add_event('Video 1: Universal Approximation Theorem')\n",
        "\n",
        "display(out)"
      ]
    },
    {
      "cell_type": "markdown",
      "metadata": {
        "execution": {},
        "id": "F_QebV-ikm0F"
      },
      "source": [
        "## Coding Exercise 1: Function approximation with ReLU\n",
        "Through the Universal Approximation Algorithm, we learned that one hidden layer MLPs are enough to approximate any smooth function! Now let's manually fit a sine function using ReLU activation. \n",
        "\n",
        "We will approximate the sine function using a linear combination (a weighted sum) of ReLUs with slope 1. We need to determine the bias terms (which determines where the ReLU inflection point from 0 to linear occurs) and how to weight each ReLU. The idea is to set the weights iteratively so that the slope changes in the new sample's direction.\n",
        "\n",
        "First, we generate our \"training data\" from a sine function using `torch.sine` function.\n",
        "\n",
        "```python\n",
        ">>> import torch\n",
        ">>> torch.manual_seed(2021)\n",
        "<torch._C.Generator object at 0x7f8734c83830>\n",
        ">>> a = torch.randn(5)\n",
        ">>> print(a)\n",
        "tensor([ 2.2871,  0.6413, -0.8615, -0.3649, -0.6931])\n",
        ">>> torch.sin(a)\n",
        "tensor([ 0.7542,  0.5983, -0.7588, -0.3569, -0.6389])\n",
        "```\n",
        "\n",
        "These are the points we will use to learn how to approximate the function. We have 10 training data points so we will have 9 ReLUs (we don't need a ReLU for the last data point as we don't have anything to the right of it to model). \n",
        "\n",
        "We first need to figure out the bias term for each ReLU and compute the activation of each ReLU where:\n",
        "\n",
        "\\begin{equation}\n",
        "  y(x) = \\text{max}(0, x+b)\n",
        "\\end{equation}\n",
        "\n",
        "We then need to figure out the correct weights on each ReLU so the linear combination approximates the desired function."
      ]
    },
    {
      "cell_type": "code",
      "execution_count": 41,
      "metadata": {
        "execution": {},
        "id": "QXjagoD7km0G",
        "outputId": "2da1a27f-7218-4930-f834-5cc2cba41bce",
        "colab": {
          "base_uri": "https://localhost:8080/",
          "height": 430
        }
      },
      "outputs": [
        {
          "output_type": "display_data",
          "data": {
            "text/plain": [
              "<Figure size 576x432 with 2 Axes>"
            ],
            "image/png": "[encoded data removed]"
          },
          "metadata": {
            "image/png": {
              "width": 558,
              "height": 414
            },
            "needs_background": "light"
          }
        }
      ],
      "source": [
        "def approximate_function(x_train, y_train):\n",
        "  \"\"\"\n",
        "  Function to compute and combine ReLU activations\n",
        "\n",
        "  Args:\n",
        "    x_train: torch.tensor\n",
        "      Training data\n",
        "    y_train: torch.tensor\n",
        "      Ground truth labels corresponding to training data\n",
        "\n",
        "  Returns:\n",
        "    relu_acts: torch.tensor\n",
        "      Computed ReLU activations for each point along the x axis (x)\n",
        "    y_hat: torch.tensor\n",
        "      Estimated labels/class predictions\n",
        "      Weighted sum of ReLU activations for every point along x axis\n",
        "    x: torch.tensor\n",
        "      x-axis points\n",
        "  \"\"\"\n",
        "  ####################################################################\n",
        "  # Fill in missing code below (...),\n",
        "  # then remove or comment the line below to test your function\n",
        "  #raise NotImplementedError(\"Complete approximate_function!\")\n",
        "  ####################################################################\n",
        "\n",
        "  # Number of relus\n",
        "  n_relus = x_train.shape[0] - 1\n",
        "\n",
        "  # x axis points (more than x train)\n",
        "  x = torch.linspace(torch.min(x_train), torch.max(x_train), 1000)\n",
        "\n",
        "  ## COMPUTE RELU ACTIVATIONS\n",
        "\n",
        "  # First determine what bias terms should be for each of `n_relus` ReLUs\n",
        "  b = -x_train[:-1]\n",
        "\n",
        "  # Compute ReLU activations for each point along the x axis (x)\n",
        "  relu_acts = torch.zeros((n_relus, x.shape[0]))\n",
        "\n",
        "  for i_relu in range(n_relus):\n",
        "    relu_acts[i_relu, :] = torch.relu(x + b[i_relu])\n",
        "\n",
        "  ## COMBINE RELU ACTIVATIONS\n",
        "\n",
        "  # Set up weights for weighted sum of ReLUs\n",
        "  combination_weights = torch.zeros((n_relus, ))\n",
        "\n",
        "  # Figure out weights on each ReLU\n",
        "  prev_slope = 0\n",
        "  for i in range(n_relus):\n",
        "    delta_x = x_train[i+1] - x_train[i]\n",
        "    slope = (y_train[i+1] - y_train[i]) / delta_x\n",
        "    combination_weights[i] = slope-prev_slope\n",
        "    prev_slope = slope\n",
        "\n",
        "  # Get output of weighted sum of ReLU activations for every point along x axis\n",
        "  y_hat =  combination_weights @ relu_acts\n",
        "\n",
        "  return y_hat, relu_acts, x\n",
        "\n",
        "# Add event to airtable\n",
        "atform.add_event('Coding Exercise 1: Function approximation with ReLU')\n",
        "\n",
        "\n",
        "# Make training data from sine function\n",
        "N_train = 10\n",
        "x_train = torch.linspace(0, 2*np.pi, N_train).view(-1, 1)\n",
        "y_train = torch.sin(x_train)\n",
        "\n",
        "## Uncomment the lines below to test your function approximation\n",
        "y_hat, relu_acts, x = approximate_function(x_train, y_train)\n",
        "plot_function_approximation(x, relu_acts, y_hat)"
      ]
    },
    {
      "cell_type": "code",
      "source": [
        "x_train"
      ],
      "metadata": {
        "id": "mTNjusmXuHPR",
        "outputId": "476e4129-086e-4797-c46e-49ea8261b5c5",
        "colab": {
          "base_uri": "https://localhost:8080/"
        }
      },
      "execution_count": 42,
      "outputs": [
        {
          "output_type": "execute_result",
          "data": {
            "text/plain": [
              "tensor([[0.0000],\n",
              "        [0.6981],\n",
              "        [1.3963],\n",
              "        [2.0944],\n",
              "        [2.7925],\n",
              "        [3.4907],\n",
              "        [4.1888],\n",
              "        [4.8869],\n",
              "        [5.5851],\n",
              "        [6.2832]])"
            ]
          },
          "metadata": {},
          "execution_count": 42
        }
      ]
    },
    {
      "cell_type": "markdown",
      "metadata": {
        "execution": {},
        "id": "XzQxOO5Wkm0G"
      },
      "source": [
        "[*Click for solution*](https://github.com/NeuromatchAcademy/course-content-dl/tree/main//tutorials/W1D3_MultiLayerPerceptrons/solutions/W1D3_Tutorial1_Solution_92f538b5.py)\n",
        "\n",
        "*Example output:*\n",
        "\n",
        "<img alt='Solution hint' align='left' width=1120.0 height=832.0 src=https://raw.githubusercontent.com/NeuromatchAcademy/course-content-dl/main/tutorials/W1D3_MultiLayerPerceptrons/static/W1D3_Tutorial1_Solution_92f538b5_0.png>\n",
        "\n"
      ]
    },
    {
      "cell_type": "markdown",
      "metadata": {
        "execution": {},
        "id": "c0gT4ksSkm0G"
      },
      "source": [
        "As you see in the top panel, we obtain 10 shifted ReLUs with the same slope. These are the basis functions that MLP uses to span the functional space, i.e., MLP finds a linear combination of these ReLUs."
      ]
    },
    {
      "cell_type": "markdown",
      "metadata": {
        "execution": {},
        "id": "KXyVixyZkm0H"
      },
      "source": [
        "---\n",
        "# Section 2: MLPs in Pytorch\n",
        "\n",
        "*Time estimate: ~1hr and 20 mins*"
      ]
    },
    {
      "cell_type": "code",
      "execution_count": 43,
      "metadata": {
        "cellView": "form",
        "execution": {},
        "id": "j7zqUSn2km0H",
        "outputId": "ab6b8e68-6cdc-4fed-fec5-e50ff9ff9299",
        "colab": {
          "base_uri": "https://localhost:8080/",
          "height": 581,
          "referenced_widgets": [
            "417a87061e8c465e83599f6c5d8a59f3",
            "b259702cc1d84ead9abbd427bd4d3a92",
            "70115b62425e4c888c3352c004c92e87",
            "4187160367a146e9b22ab6329405e930",
            "e188b6172d374678a8073219953507c7",
            "ed168b4107204914853b0ea6c27d81b0"
          ]
        }
      },
      "outputs": [
        {
          "output_type": "display_data",
          "data": {
            "text/plain": [
              "Tab(children=(Output(), Output()), _titles={'0': 'Youtube', '1': 'Bilibili'})"
            ],
            "application/vnd.jupyter.widget-view+json": {
              "version_major": 2,
              "version_minor": 0,
              "model_id": "417a87061e8c465e83599f6c5d8a59f3"
            }
          },
          "metadata": {}
        }
      ],
      "source": [
        "# @title Video 2: Building MLPs in PyTorch\n",
        "from ipywidgets import widgets\n",
        "\n",
        "out2 = widgets.Output()\n",
        "with out2:\n",
        "  from IPython.display import IFrame\n",
        "  class BiliVideo(IFrame):\n",
        "    def __init__(self, id, page=1, width=400, height=300, **kwargs):\n",
        "      self.id=id\n",
        "      src = \"https://player.bilibili.com/player.html?bvid={0}&page={1}\".format(id, page)\n",
        "      super(BiliVideo, self).__init__(src, width, height, **kwargs)\n",
        "\n",
        "  video = BiliVideo(id=f\"BV1zh411z7LY\", width=854, height=480, fs=1)\n",
        "  print(\"Video available at https://www.bilibili.com/video/{0}\".format(video.id))\n",
        "  display(video)\n",
        "\n",
        "out1 = widgets.Output()\n",
        "with out1:\n",
        "  from IPython.display import YouTubeVideo\n",
        "  video = YouTubeVideo(id=f\"XtwLnaYJ7uc\", width=854, height=480, fs=1, rel=0)\n",
        "  print(\"Video available at https://youtube.com/watch?v=\" + video.id)\n",
        "  display(video)\n",
        "\n",
        "out = widgets.Tab([out1, out2])\n",
        "out.set_title(0, 'Youtube')\n",
        "out.set_title(1, 'Bilibili')\n",
        "\n",
        "# add event to airtable\n",
        "atform.add_event('Video 2: Building MLPs in PyTorch')\n",
        "\n",
        "display(out)"
      ]
    },
    {
      "cell_type": "markdown",
      "metadata": {
        "execution": {},
        "id": "rcpSOnHVkm0H"
      },
      "source": [
        "In the previous segment, we implemented a function to approximate any smooth function using MLPs. We saw that using Lipschitz continuity; We can prove that our approximation is mathematically correct. MLPs are fascinating, but before we get into the details on designing them, let's familiarize ourselves with some basic terminology of MLPs - layer, neuron, depth, width, weight, bias, and activation function. Armed with these ideas, we can now design an MLP given its input, hidden layers, and output size."
      ]
    },
    {
      "cell_type": "markdown",
      "metadata": {
        "execution": {},
        "id": "5-umRmL2km0H"
      },
      "source": [
        "## Coding Exercise 2: Implement a general-purpose MLP in Pytorch\n",
        "The objective is to design an MLP with these properties:\n",
        "* Works with any input (1D, 2D, etc.)\n",
        "* Construct any number of given hidden layers using `nn.Sequential()` and `add_module()` function\n",
        "* Use the same given activation function (i.e., [Leaky ReLU](https://pytorch.org/docs/stable/generated/torch.nn.LeakyReLU.html)) in all hidden layers\n",
        "\n",
        "**Leaky ReLU** is described by the following mathematical formula:\n",
        "\n",
        "\\begin{align}\n",
        "\\text{LeakyReLU}(x) &= \\text{max}(0,x) + \\text{negative_slope} \\cdot \\text{min}(0, x) \\\\\n",
        "&=\n",
        "\\left\\{\n",
        "  \\begin{array}{ll}\n",
        "  x & ,\\; \\text{if} \\; x \\ge 0 \\\\\n",
        "  \\text{negative_slope} \\cdot x & ,\\;  \\text{otherwise}\n",
        "  \\end{array}\n",
        "\\right.\n",
        "\\end{align}"
      ]
    },
    {
      "cell_type": "code",
      "execution_count": 44,
      "metadata": {
        "execution": {},
        "id": "PmpzoWR-km0I"
      },
      "outputs": [],
      "source": [
        "class Net(nn.Module):\n",
        "  \"\"\"\n",
        "  Initialize MLP Network\n",
        "  \"\"\"\n",
        "\n",
        "  def __init__(self, actv, input_feature_num, hidden_unit_nums, output_feature_num):\n",
        "    \"\"\"\n",
        "    Initialize MLP Network parameters\n",
        "\n",
        "    Args:\n",
        "      actv: string\n",
        "        Activation function\n",
        "      input_feature_num: int\n",
        "        Number of input features\n",
        "      hidden_unit_nums: int\n",
        "        Number of units in the hidden layer\n",
        "      output_feature_num: int\n",
        "        Number of output features\n",
        "\n",
        "    Returns:\n",
        "      Nothing\n",
        "    \"\"\"\n",
        "    super(Net, self).__init__()\n",
        "    self.input_feature_num = input_feature_num # Save the input size for reshaping later\n",
        "    self.mlp = nn.Sequential() # Initialize layers of MLP\n",
        "\n",
        "    in_num = input_feature_num # Initialize the temporary input feature to each layer\n",
        "    for i in range(len(hidden_unit_nums)): # Loop over layers and create each one\n",
        "\n",
        "      ####################################################################\n",
        "      # Fill in missing code below (...),\n",
        "      # Then remove or comment the line below to test your function\n",
        "      raise NotImplementedError(\"Create MLP Layer\")\n",
        "      ####################################################################\n",
        "\n",
        "      out_num = hidden_unit_nums[i] # Assign the current layer hidden unit from list\n",
        "      layer = ... # Use nn.Linear to define the layer\n",
        "      in_num = out_num # Assign next layer input using current layer output\n",
        "      self.mlp.add_module('Linear_%d'%i, layer) # Append layer to the model with a name\n",
        "\n",
        "      actv_layer = eval('nn.%s'%actv) # Assign activation function (eval allows us to instantiate object from string)\n",
        "      self.mlp.add_module('Activation_%d'%i, actv_layer) # Append activation to the model with a name\n",
        "\n",
        "    out_layer = nn.Linear(in_num, output_feature_num) # Create final layer\n",
        "    self.mlp.add_module('Output_Linear', out_layer) # Append the final layer\n",
        "\n",
        "  def forward(self, x):\n",
        "    \"\"\"\n",
        "    Simulate forward pass of MLP Network\n",
        "\n",
        "    Args:\n",
        "      x: torch.tensor\n",
        "        Input data\n",
        "\n",
        "    Returns:\n",
        "      logits: Instance of MLP\n",
        "        Forward pass of MLP\n",
        "    \"\"\"\n",
        "    # Reshape inputs to (batch_size, input_feature_num)\n",
        "    # Just in case the input vector is not 2D, like an image!\n",
        "    x = x.view(-1, self.input_feature_num)\n",
        "\n",
        "    ####################################################################\n",
        "    # Fill in missing code below (...),\n",
        "    # then remove or comment the line below to test your function\n",
        "    raise NotImplementedError(\"Run MLP model\")\n",
        "    ####################################################################\n",
        "\n",
        "    logits = ... # Forward pass of MLP\n",
        "    return logits\n",
        "\n",
        "# Add event to airtable\n",
        "atform.add_event('Coding Exercise 2: Implement a general-purpose MLP in Pytorch')\n",
        "\n",
        "\n",
        "input = torch.zeros((100, 2))\n",
        "## Uncomment below to create network and test it on input\n",
        "# net = Net(actv='LeakyReLU(0.1)', input_feature_num=2, hidden_unit_nums=[100, 10, 5], output_feature_num=1).to(DEVICE)\n",
        "# y = net(input.to(DEVICE))\n",
        "# print(f'The output shape is {y.shape} for an input of shape {input.shape}')"
      ]
    },
    {
      "cell_type": "code",
      "source": [
        "class Net(nn.Module):\n",
        "  \"\"\"\n",
        "  Initialize MLP Network\n",
        "  \"\"\"\n",
        "\n",
        "  def __init__(self, actv, input_feature_num, hidden_unit_nums, output_feature_num):\n",
        "    \"\"\"\n",
        "    Initialize MLP Network parameters\n",
        "    Args:\n",
        "      actv: string\n",
        "        Activation function\n",
        "      input_feature_num: int\n",
        "        Number of input features\n",
        "      hidden_unit_nums: int\n",
        "        Number of units in the hidden layer\n",
        "      output_feature_num: int\n",
        "        Number of output features\n",
        "    Returns:\n",
        "      Nothing\n",
        "    \"\"\"\n",
        "    super(Net, self).__init__()\n",
        "    self.input_feature_num = input_feature_num # Save the input size for reshaping later\n",
        "    self.mlp = nn.Sequential() # Initialize layers of MLP\n",
        "\n",
        "    in_num = input_feature_num # Initialize the temporary input feature to each layer\n",
        "    for i in range(len(hidden_unit_nums)): # Loop over layers and create each one\n",
        "\n",
        "      out_num = hidden_unit_nums[i] # Assign the current layer hidden unit from list\n",
        "      layer = nn.Linear(in_num, out_num) # Use nn.Linear to define the layer\n",
        "      in_num = out_num # Assign next layer input using current layer output\n",
        "      self.mlp.add_module('Linear_%d'%i, layer) # Append layer to the model with a name\n",
        "\n",
        "      actv_layer = eval('nn.%s'%actv) # Assign activation function (eval allows us to instantiate object from string)\n",
        "      self.mlp.add_module('Activation_%d'%i, actv_layer) # Append activation to the model with a name\n",
        "\n",
        "    out_layer = nn.Linear(in_num, output_feature_num) # Create final layer\n",
        "    self.mlp.add_module('Output_Linear', out_layer) # Append the final layer\n",
        "\n",
        "  def forward(self, x):\n",
        "    \"\"\"\n",
        "    Simulate forward pass of MLP Network\n",
        "    Args:\n",
        "      x: torch.tensor\n",
        "        Input data\n",
        "    Returns:\n",
        "      logits: Instance of MLP\n",
        "        Forward pass of MLP\n",
        "    \"\"\"\n",
        "    # Reshape inputs to (batch_size, input_feature_num)\n",
        "    # Just in case the input vector is not 2D, like an image!\n",
        "    x = x.view(-1, self.input_feature_num)\n",
        "\n",
        "    logits = self.mlp(x) # Forward pass of MLP\n",
        "    return logits\n",
        "\n",
        "# Add event to airtable\n",
        "atform.add_event('Coding Exercise 2: Implement a general-purpose MLP in Pytorch')\n",
        "\n",
        "\n",
        "input = torch.zeros((100, 2))\n",
        "## Uncomment below to create network and test it on input\n",
        "net = Net(actv='LeakyReLU(0.1)', input_feature_num=2, hidden_unit_nums=[100, 10, 5], output_feature_num=1).to(DEVICE)\n",
        "y = net(input.to(DEVICE))\n",
        "print(f'The output shape is {y.shape} for an input of shape {input.shape}')"
      ],
      "metadata": {
        "id": "2Y1sX3uF2W9u",
        "outputId": "d42f636f-c0c7-4bfd-9aeb-83b6409a0832",
        "colab": {
          "base_uri": "https://localhost:8080/"
        }
      },
      "execution_count": 45,
      "outputs": [
        {
          "output_type": "stream",
          "name": "stdout",
          "text": [
            "The output shape is torch.Size([100, 1]) for an input of shape torch.Size([100, 2])\n"
          ]
        }
      ]
    },
    {
      "cell_type": "markdown",
      "metadata": {
        "execution": {},
        "id": "xIp3qSM0km0I"
      },
      "source": [
        "[*Click for solution*](https://github.com/NeuromatchAcademy/course-content-dl/tree/main//tutorials/W1D3_MultiLayerPerceptrons/solutions/W1D3_Tutorial1_Solution_4a7c4543.py)\n",
        "\n"
      ]
    },
    {
      "cell_type": "markdown",
      "metadata": {
        "execution": {},
        "id": "OXNmim-Vkm0I"
      },
      "source": [
        "```\n",
        "The output shape is torch.Size([100, 1]) for an input of shape torch.Size([100, 2])\n",
        "```"
      ]
    },
    {
      "cell_type": "markdown",
      "metadata": {
        "execution": {},
        "id": "7z_rakWVkm0I"
      },
      "source": [
        "## Section 2.1: Classification with MLPs"
      ]
    },
    {
      "cell_type": "code",
      "execution_count": 46,
      "metadata": {
        "cellView": "form",
        "execution": {},
        "id": "XD7qTlROkm0I",
        "outputId": "4caa1843-54cd-4325-8d30-778d57e58290",
        "colab": {
          "base_uri": "https://localhost:8080/",
          "height": 581,
          "referenced_widgets": [
            "577828991ceb447d991126b73fa1785c",
            "b7ded9575ecf4caea72ffa68c75ad302",
            "4c1e124168af4a398c6c1a012c8fe7e0",
            "3e28d848883349f0afb16888c89f036c",
            "9aaf21d438a1492b869464013b01e365",
            "ca702db601514617862961017cf6a292"
          ]
        }
      },
      "outputs": [
        {
          "output_type": "display_data",
          "data": {
            "text/plain": [
              "Tab(children=(Output(), Output()), _titles={'0': 'Youtube', '1': 'Bilibili'})"
            ],
            "application/vnd.jupyter.widget-view+json": {
              "version_major": 2,
              "version_minor": 0,
              "model_id": "577828991ceb447d991126b73fa1785c"
            }
          },
          "metadata": {}
        }
      ],
      "source": [
        "# @title Video 3: Cross Entropy\n",
        "from ipywidgets import widgets\n",
        "\n",
        "out2 = widgets.Output()\n",
        "with out2:\n",
        "  from IPython.display import IFrame\n",
        "  class BiliVideo(IFrame):\n",
        "    def __init__(self, id, page=1, width=400, height=300, **kwargs):\n",
        "      self.id=id\n",
        "      src = \"https://player.bilibili.com/player.html?bvid={0}&page={1}\".format(id, page)\n",
        "      super(BiliVideo, self).__init__(src, width, height, **kwargs)\n",
        "\n",
        "  video = BiliVideo(id=f\"BV1Ag41177mB\", width=854, height=480, fs=1)\n",
        "  print(\"Video available at https://www.bilibili.com/video/{0}\".format(video.id))\n",
        "  display(video)\n",
        "\n",
        "out1 = widgets.Output()\n",
        "with out1:\n",
        "  from IPython.display import YouTubeVideo\n",
        "  video = YouTubeVideo(id=f\"N8pVCbTlves\", width=854, height=480, fs=1, rel=0)\n",
        "  print(\"Video available at https://youtube.com/watch?v=\" + video.id)\n",
        "  display(video)\n",
        "\n",
        "out = widgets.Tab([out1, out2])\n",
        "out.set_title(0, 'Youtube')\n",
        "out.set_title(1, 'Bilibili')\n",
        "\n",
        "# add event to airtable\n",
        "atform.add_event('Video 3: Cross Entropy')\n",
        "\n",
        "display(out)"
      ]
    },
    {
      "cell_type": "markdown",
      "metadata": {
        "execution": {},
        "id": "4pBJdAtvkm0J"
      },
      "source": [
        "The main loss function we could use out of the box for multi-class classification for `N` samples and `C` number of classes is:\n",
        "* **CrossEntropyLoss**:\n",
        "This criterion expects a batch of predictions `x` with shape `(N, C)` and class index in the range $[0, C-1]$ as the target (label) for each `N` samples, hence a batch of `labels` with shape `(N, )`. There are other optional parameters like class weights and class ignores. Feel free to check the PyTorch documentation [here](https://pytorch.org/docs/stable/generated/torch.nn.CrossEntropyLoss.html) for more detail. Additionally, [here](https://sparrow.dev/cross-entropy-loss-in-pytorch/) you can learn where is appropriate to use the CrossEntropyLoss.\n",
        "\n",
        "To get CrossEntropyLoss of a sample $i$, we could first calculate $-\\log(\\text{softmax(x}))$ and then take the element corresponding to $\\text { labels }_i$ as the loss. However, due to numerical stability, we implement this more stable equivalent form,\n",
        "\n",
        "\\begin{equation}\n",
        "\\operatorname{loss}(x_i, \\text { labels }_i)=-\\log \\left(\\frac{\\exp (x[\\text { labels }_i])}{\\sum_{j} \\exp (x[j])}\\right)=-x_i[\\text { labels }_i]+\\log \\left(\\sum_{j=1}^C \\exp (x_i[j])\\right)\n",
        "\\end{equation}"
      ]
    },
    {
      "cell_type": "markdown",
      "metadata": {
        "execution": {},
        "id": "GPAZn91Bkm0J"
      },
      "source": [
        "### Coding Exercise 2.1: Implement Batch Cross Entropy Loss\n",
        "\n",
        "To recap, since we will be doing batch learning, we'd like a loss function that given:\n",
        "* A batch of predictions `x` with shape `(N, C)` \n",
        "* A batch of `labels` with shape `(N, )` that ranges from `0` to `C-1`\n",
        "\n",
        "Returns the average loss $L$ calculated according to:\n",
        "\n",
        "\\begin{align}\n",
        "loss(x_i, \\text { labels }_i) &= -x_i[\\text { labels }_i]+\\log \\left(\\sum_{j=1}^C \\exp (x_i[j])\\right) \\\\\n",
        "L &= \\frac{1}{N} \\sum_{i=1}^{N}{loss(x_i, \\text { labels }_i)}\n",
        "\\end{align}\n",
        "\n",
        "Steps:\n",
        "\n",
        "1.   Use indexing operation to get predictions of class corresponding to the labels (i.e., $x_i[\\text { labels }_i]$)\n",
        "2.   Compute $loss(x_i, \\text { labels }_i)$ vector (`losses`) using `torch.log()` and `torch.exp()` without Loops!\n",
        "3. Return the average of the loss vector"
      ]
    },
    {
      "cell_type": "code",
      "execution_count": 47,
      "metadata": {
        "execution": {},
        "id": "cq92mqf7km0J"
      },
      "outputs": [],
      "source": [
        "def cross_entropy_loss(x, labels):\n",
        "  \"\"\"\n",
        "  Helper function to compute cross entropy loss\n",
        "\n",
        "  Args:\n",
        "    x: torch.tensor\n",
        "      Model predictions we'd like to evaluate using labels\n",
        "    labels: torch.tensor\n",
        "      Ground truth\n",
        "\n",
        "  Returns:\n",
        "    avg_loss: float\n",
        "      Average of the loss vector\n",
        "  \"\"\"\n",
        "  x_of_labels = torch.zeros(len(labels))\n",
        "  ####################################################################\n",
        "  # Fill in missing code below (...),\n",
        "  # then remove or comment the line below to test your function\n",
        "  raise NotImplementedError(\"Cross Entropy Loss\")\n",
        "  ####################################################################\n",
        "  # 1. Prediction for each class corresponding to the label\n",
        "  for i, label in enumerate(labels):\n",
        "    x_of_labels[i] = x[i, label]\n",
        "  # 2. Loss vector for the batch\n",
        "  losses = ...\n",
        "  # 3. Return the average of the loss vector\n",
        "  avg_loss = ...\n",
        "\n",
        "  return avg_loss\n",
        "\n",
        "# Add event to airtable\n",
        "atform.add_event('Coding Exercise 2.1: Implement Batch Cross Entropy Loss')\n",
        "\n",
        "\n",
        "labels = torch.tensor([0, 1])\n",
        "x = torch.tensor([[10.0, 1.0, -1.0, -20.0],  # Correctly classified\n",
        "                  [10.0, 10.0, 2.0, -10.0]])  # Not correctly classified\n",
        "CE = nn.CrossEntropyLoss()\n",
        "pytorch_loss = CE(x, labels).item()\n",
        "## Uncomment below to test your function\n",
        "# our_loss = cross_entropy_loss(x, labels).item()\n",
        "# print(f'Our CE loss: {our_loss:0.8f}, Pytorch CE loss: {pytorch_loss:0.8f}')\n",
        "# print(f'Difference: {np.abs(our_loss - pytorch_loss):0.8f}')"
      ]
    },
    {
      "cell_type": "markdown",
      "metadata": {
        "execution": {},
        "id": "07RhWi04km0J"
      },
      "source": [
        "[*Click for solution*](https://github.com/NeuromatchAcademy/course-content-dl/tree/main//tutorials/W1D3_MultiLayerPerceptrons/solutions/W1D3_Tutorial1_Solution_0cbf43cb.py)\n",
        "\n"
      ]
    },
    {
      "cell_type": "markdown",
      "metadata": {
        "execution": {},
        "id": "uhiXwX39km0J"
      },
      "source": [
        "```\n",
        "Our CE loss: 0.34672737, Pytorch CE loss: 0.34672749\n",
        "Difference: 0.00000012\n",
        "```"
      ]
    },
    {
      "cell_type": "markdown",
      "metadata": {
        "execution": {},
        "id": "AJdA4DHgkm0J"
      },
      "source": [
        "## Section 2.2: Spiral Classification Dataset\n",
        "Before we could start optimizing these loss functions, we need a dataset!\n",
        "\n",
        "Let's turn this fancy-looking equation into a classification dataset"
      ]
    },
    {
      "cell_type": "markdown",
      "metadata": {
        "execution": {},
        "id": "-12HA_KYkm0K"
      },
      "source": [
        "\\begin{equation}\n",
        "\\begin{array}{c}\n",
        "X_{k}(t)=t\\left(\\begin{array}{c}\n",
        "\\sin \\left[\\frac{2 \\pi}{K}\\left(2 t+k-1\\right)\\right]+\\mathcal{N}\\left(0, \\sigma\\right) \\\\\n",
        "\\cos \\left[\\frac{2 \\pi}{K}\\left(2 t+k-1\\right)\\right]+\\mathcal{N}\\left(0, \\sigma\\right) \n",
        "\\end{array}\\right)\n",
        "\\end{array}, \\quad 0 \\leq t \\leq 1, \\quad k=1, \\ldots, K\n",
        "\\end{equation}"
      ]
    },
    {
      "cell_type": "code",
      "execution_count": 48,
      "metadata": {
        "execution": {},
        "id": "D3fzCJMekm0K",
        "outputId": "a6847e11-a968-4c3c-b8a7-cd69ba6446c3",
        "colab": {
          "base_uri": "https://localhost:8080/",
          "height": 446
        }
      },
      "outputs": [
        {
          "output_type": "stream",
          "name": "stdout",
          "text": [
            "Random seed 2021 has been set.\n"
          ]
        },
        {
          "output_type": "display_data",
          "data": {
            "text/plain": [
              "<Figure size 576x432 with 1 Axes>"
            ],
            "image/png": "[encoded data removed]"
          },
          "metadata": {
            "image/png": {
              "width": 558,
              "height": 413
            },
            "needs_background": "light"
          }
        }
      ],
      "source": [
        "def create_spiral_dataset(K, sigma, N):\n",
        "  \"\"\"\n",
        "  Function to simulate spiral dataset\n",
        "\n",
        "  Args:\n",
        "    K: int\n",
        "      Number of classes\n",
        "    sigma: float\n",
        "      Standard deviation\n",
        "    N: int\n",
        "      Number of data points\n",
        "\n",
        "  Returns:\n",
        "    X: torch.tensor\n",
        "      Spiral data\n",
        "    y: torch.tensor\n",
        "      Corresponding ground truth\n",
        "  \"\"\"\n",
        "\n",
        "  # Initialize t, X, y\n",
        "  t = torch.linspace(0, 1, N)\n",
        "  X = torch.zeros(K*N, 2)\n",
        "  y = torch.zeros(K*N)\n",
        "\n",
        "  # Create data\n",
        "  for k in range(K):\n",
        "    X[k*N:(k+1)*N, 0] = t*(torch.sin(2*np.pi/K*(2*t+k)) + sigma*torch.randn(N))\n",
        "    X[k*N:(k+1)*N, 1] = t*(torch.cos(2*np.pi/K*(2*t+k)) + sigma*torch.randn(N))\n",
        "    y[k*N:(k+1)*N] = k\n",
        "\n",
        "  return X, y\n",
        "\n",
        "\n",
        "# Set parameters\n",
        "K = 4\n",
        "sigma = 0.16\n",
        "N = 1000\n",
        "\n",
        "set_seed(seed=SEED)\n",
        "X, y = create_spiral_dataset(K, sigma, N)\n",
        "plt.scatter(X[:, 0], X[:, 1], c = y)\n",
        "plt.show()"
      ]
    },
    {
      "cell_type": "markdown",
      "metadata": {
        "execution": {},
        "id": "6peHflsJkm0K"
      },
      "source": [
        "## Section 2.3: Training and Evaluation"
      ]
    },
    {
      "cell_type": "code",
      "execution_count": 49,
      "metadata": {
        "cellView": "form",
        "execution": {},
        "id": "ItONFU0-km0K",
        "outputId": "ddc20449-fea8-42e8-e285-361aad9999b9",
        "colab": {
          "base_uri": "https://localhost:8080/",
          "height": 581,
          "referenced_widgets": [
            "2bca23765732415a97eb393dc966bf48",
            "0dba66f0985947e2817c871836aa260c",
            "c648fb43193c465c9d1e10b7bb37b79d",
            "5b3c3df63a13422c837809418283aab2",
            "6805dc97c443441c8e3583b1f4abea75",
            "3d380e694b254d6ba95bfaf5c1428b3d"
          ]
        }
      },
      "outputs": [
        {
          "output_type": "display_data",
          "data": {
            "text/plain": [
              "Tab(children=(Output(), Output()), _titles={'0': 'Youtube', '1': 'Bilibili'})"
            ],
            "application/vnd.jupyter.widget-view+json": {
              "version_major": 2,
              "version_minor": 0,
              "model_id": "2bca23765732415a97eb393dc966bf48"
            }
          },
          "metadata": {}
        }
      ],
      "source": [
        "# @title Video 4: Training and Evaluating an MLP\n",
        "from ipywidgets import widgets\n",
        "\n",
        "out2 = widgets.Output()\n",
        "with out2:\n",
        "  from IPython.display import IFrame\n",
        "  class BiliVideo(IFrame):\n",
        "    def __init__(self, id, page=1, width=400, height=300, **kwargs):\n",
        "      self.id=id\n",
        "      src = \"https://player.bilibili.com/player.html?bvid={0}&page={1}\".format(id, page)\n",
        "      super(BiliVideo, self).__init__(src, width, height, **kwargs)\n",
        "\n",
        "  video = BiliVideo(id=f\"BV1QV411p7mF\", width=854, height=480, fs=1)\n",
        "  print(\"Video available at https://www.bilibili.com/video/{0}\".format(video.id))\n",
        "  display(video)\n",
        "\n",
        "out1 = widgets.Output()\n",
        "with out1:\n",
        "  from IPython.display import YouTubeVideo\n",
        "  video = YouTubeVideo(id=f\"DfXZhRfBEqQ\", width=854, height=480, fs=1, rel=0)\n",
        "  print(\"Video available at https://youtube.com/watch?v=\" + video.id)\n",
        "  display(video)\n",
        "\n",
        "out = widgets.Tab([out1, out2])\n",
        "out.set_title(0, 'Youtube')\n",
        "out.set_title(1, 'Bilibili')\n",
        "\n",
        "# add event to airtable\n",
        "atform.add_event('Video 4: Training and Evaluating an MLP')\n",
        "\n",
        "display(out)"
      ]
    },
    {
      "cell_type": "markdown",
      "metadata": {
        "execution": {},
        "id": "JNNyq1mqkm0K"
      },
      "source": [
        "### Coding Exercise 2.3: Implement it for a classfication task\n",
        "Now that we have the spiral dataset and a loss function, it's your turn to implement a simple train/test split for training and validation.\n",
        "\n",
        "Steps to follow: \n",
        "  * Dataset shuffle\n",
        "  * Train/Test split (20% for test)\n",
        "  * Dataloader definition\n",
        "  * Training and Evaluation"
      ]
    },
    {
      "cell_type": "code",
      "execution_count": 50,
      "metadata": {
        "execution": {},
        "id": "L7hVHHWAkm0L"
      },
      "outputs": [],
      "source": [
        "def shuffle_and_split_data(X, y, seed):\n",
        "  \"\"\"\n",
        "  Helper function to shuffle and split incoming data\n",
        "\n",
        "  Args:\n",
        "    X: torch.tensor\n",
        "      Input data\n",
        "    y: torch.tensor\n",
        "      Corresponding target variables\n",
        "    seed: int\n",
        "      Set seed for reproducibility\n",
        "\n",
        "  Returns:\n",
        "    X_test: torch.tensor\n",
        "      Test data [20% of X]\n",
        "    y_test: torch.tensor\n",
        "      Labels corresponding to above mentioned test data\n",
        "    X_train: torch.tensor\n",
        "      Train data [80% of X]\n",
        "    y_train: torch.tensor\n",
        "      Labels corresponding to above mentioned train data\n",
        "  \"\"\"\n",
        "  torch.manual_seed(seed)\n",
        "  # Number of samples\n",
        "  N = X.shape[0]\n",
        "  ####################################################################\n",
        "  # Fill in missing code below (...),\n",
        "  # then remove or comment the line below to test your function\n",
        "  raise NotImplementedError(\"Shuffle & split data\")\n",
        "  ####################################################################\n",
        "  # Shuffle data\n",
        "  shuffled_indices = ...   # Get indices to shuffle data, could use torch.randperm\n",
        "  X = X[shuffled_indices]\n",
        "  y = y[shuffled_indices]\n",
        "\n",
        "  # Split data into train/test\n",
        "  test_size = ...    # Assign test datset size using 20% of samples\n",
        "  X_test = X[:test_size]\n",
        "  y_test = y[:test_size]\n",
        "  X_train = X[test_size:]\n",
        "  y_train = y[test_size:]\n",
        "\n",
        "  return X_test, y_test, X_train, y_train\n",
        "\n",
        "# Add event to airtable\n",
        "atform.add_event('Coding Exercise 2.3: Implement for a classification task')\n",
        "\n",
        "\n",
        "## Uncomment below to test your function\n",
        "# X_test, y_test, X_train, y_train = shuffle_and_split_data(X, y, seed=SEED)\n",
        "# plt.scatter(X_test[:, 0], X_test[:, 1], c=y_test)\n",
        "# plt.title('Test data')\n",
        "# plt.show()"
      ]
    },
    {
      "cell_type": "markdown",
      "metadata": {
        "execution": {},
        "id": "pxOdAOBfkm0L"
      },
      "source": [
        "[*Click for solution*](https://github.com/NeuromatchAcademy/course-content-dl/tree/main//tutorials/W1D3_MultiLayerPerceptrons/solutions/W1D3_Tutorial1_Solution_2ea709f4.py)\n",
        "\n",
        "*Example output:*\n",
        "\n",
        "<img alt='Solution hint' align='left' width=1120.0 height=832.0 src=https://raw.githubusercontent.com/NeuromatchAcademy/course-content-dl/main/tutorials/W1D3_MultiLayerPerceptrons/static/W1D3_Tutorial1_Solution_2ea709f4_0.png>\n",
        "\n"
      ]
    },
    {
      "cell_type": "markdown",
      "metadata": {
        "execution": {},
        "id": "__v6YPLykm0L"
      },
      "source": [
        "And we need to make a Pytorch data loader out of it. Data loading in PyTorch can be separated in 2 parts:\n",
        "* Data must be wrapped on a Dataset parent class where the methods __getitem__ and __len__ must be overrided. Note that, at this point, the data is not loaded on memory. PyTorch will only load what is needed to the memory. Here `TensorDataset` does this for us directly.\n",
        "* Use a Dataloader that will actually read the data in batches and put into memory. Also, the option of `num_workers > 0` allows multithreading, which prepares multiple batches in the queue to speed things up."
      ]
    },
    {
      "cell_type": "code",
      "execution_count": 51,
      "metadata": {
        "execution": {},
        "id": "ujd4XkKfkm0L",
        "outputId": "9b4a4ed2-ef89-44d0-f788-39ae4f4ced3a",
        "colab": {
          "base_uri": "https://localhost:8080/",
          "height": 234
        }
      },
      "outputs": [
        {
          "output_type": "error",
          "ename": "NameError",
          "evalue": "ignored",
          "traceback": [
            "\u001b[0;31m---------------------------------------------------------------------------\u001b[0m",
            "\u001b[0;31mNameError\u001b[0m                                 Traceback (most recent call last)",
            "\u001b[0;32m<ipython-input-51-3e075db0632c>\u001b[0m in \u001b[0;36m<module>\u001b[0;34m()\u001b[0m\n\u001b[1;32m      3\u001b[0m \u001b[0;34m\u001b[0m\u001b[0m\n\u001b[1;32m      4\u001b[0m \u001b[0mbatch_size\u001b[0m \u001b[0;34m=\u001b[0m \u001b[0;36m128\u001b[0m\u001b[0;34m\u001b[0m\u001b[0;34m\u001b[0m\u001b[0m\n\u001b[0;32m----> 5\u001b[0;31m \u001b[0mtest_data\u001b[0m \u001b[0;34m=\u001b[0m \u001b[0mTensorDataset\u001b[0m\u001b[0;34m(\u001b[0m\u001b[0mX_test\u001b[0m\u001b[0;34m,\u001b[0m \u001b[0my_test\u001b[0m\u001b[0;34m)\u001b[0m\u001b[0;34m\u001b[0m\u001b[0;34m\u001b[0m\u001b[0m\n\u001b[0m\u001b[1;32m      6\u001b[0m test_loader = DataLoader(test_data, batch_size=batch_size,\n\u001b[1;32m      7\u001b[0m                          \u001b[0mshuffle\u001b[0m\u001b[0;34m=\u001b[0m\u001b[0;32mFalse\u001b[0m\u001b[0;34m,\u001b[0m \u001b[0mnum_workers\u001b[0m\u001b[0;34m=\u001b[0m\u001b[0;36m2\u001b[0m\u001b[0;34m,\u001b[0m\u001b[0;34m\u001b[0m\u001b[0;34m\u001b[0m\u001b[0m\n",
            "\u001b[0;31mNameError\u001b[0m: name 'X_test' is not defined"
          ]
        }
      ],
      "source": [
        "g_seed = torch.Generator()\n",
        "g_seed.manual_seed(SEED)\n",
        "\n",
        "batch_size = 128\n",
        "test_data = TensorDataset(X_test, y_test)\n",
        "test_loader = DataLoader(test_data, batch_size=batch_size,\n",
        "                         shuffle=False, num_workers=2,\n",
        "                         worker_init_fn=seed_worker,\n",
        "                         generator=g_seed)\n",
        "\n",
        "train_data = TensorDataset(X_train, y_train)\n",
        "train_loader = DataLoader(train_data, batch_size=batch_size, drop_last=True,\n",
        "                          shuffle=True, num_workers=2,\n",
        "                          worker_init_fn=seed_worker,\n",
        "                          generator=g_seed)"
      ]
    },
    {
      "cell_type": "markdown",
      "metadata": {
        "execution": {},
        "id": "fYljl86jkm0L"
      },
      "source": [
        "Let's write a general-purpose training and evaluation code and keep it in our pocket for next tutorial as well. So make sure you review it to see what it does.\n",
        "\n",
        "Note that `model.train()` tells your model that you are training the model. So layers like dropout, batch norm etc. which behave different on the train and test procedures know what is going on and hence can behave accordingly. And to turn off training mode we set `model.eval()`."
      ]
    },
    {
      "cell_type": "code",
      "execution_count": null,
      "metadata": {
        "execution": {},
        "id": "0N4vNuXZkm0L"
      },
      "outputs": [],
      "source": [
        "def train_test_classification(net, criterion, optimizer, train_loader,\n",
        "                              test_loader, num_epochs=1, verbose=True,\n",
        "                              training_plot=False, device='cpu'):\n",
        "  \"\"\"\n",
        "  Accumulate training loss/Evaluate performance\n",
        "\n",
        "  Args:\n",
        "    net: instance of Net class\n",
        "      Describes the model with ReLU activation, batch size 128\n",
        "    criterion: torch.nn type\n",
        "      Criterion combines LogSoftmax and NLLLoss in one single class.\n",
        "    optimizer: torch.optim type\n",
        "      Implements Adam algorithm.\n",
        "    train_loader: torch.utils.data type\n",
        "      Combines the train dataset and sampler, and provides an iterable over the given dataset.\n",
        "    test_loader: torch.utils.data type\n",
        "      Combines the test dataset and sampler, and provides an iterable over the given dataset.\n",
        "    num_epochs: int\n",
        "      Number of epochs [default: 1]\n",
        "    verbose: boolean\n",
        "      If True, print statistics\n",
        "    training_plot=False\n",
        "      If True, display training plot\n",
        "    device: string\n",
        "      CUDA/GPU if available, CPU otherwise\n",
        "\n",
        "  Returns:\n",
        "    Nothing\n",
        "  \"\"\"\n",
        "  net.train()\n",
        "  training_losses = []\n",
        "  for epoch in tqdm(range(num_epochs)):  # Loop over the dataset multiple times\n",
        "    running_loss = 0.0\n",
        "    for i, data in enumerate(train_loader, 0):\n",
        "      # Get the inputs; data is a list of [inputs, labels]\n",
        "      inputs, labels = data\n",
        "      inputs = inputs.to(device).float()\n",
        "      labels = labels.to(device).long()\n",
        "\n",
        "      # Zero the parameter gradients\n",
        "      optimizer.zero_grad()\n",
        "\n",
        "      # forward + backward + optimize\n",
        "      outputs = net(inputs)\n",
        "\n",
        "      loss = criterion(outputs, labels)\n",
        "      loss.backward()\n",
        "      optimizer.step()\n",
        "\n",
        "      # Print statistics\n",
        "      if verbose:\n",
        "        training_losses += [loss.item()]\n",
        "\n",
        "  net.eval()\n",
        "\n",
        "  def test(data_loader):\n",
        "    \"\"\"\n",
        "    Function to gauge network performance\n",
        "\n",
        "    Args:\n",
        "      data_loader: torch.utils.data type\n",
        "      Combines the test dataset and sampler, and provides an iterable over the given dataset.\n",
        "\n",
        "    Returns:\n",
        "      acc: float\n",
        "        Performance of the network\n",
        "      total: int\n",
        "        Number of datapoints in the dataloader\n",
        "    \"\"\"\n",
        "    correct = 0\n",
        "    total = 0\n",
        "    for data in data_loader:\n",
        "      inputs, labels = data\n",
        "      inputs = inputs.to(device).float()\n",
        "      labels = labels.to(device).long()\n",
        "\n",
        "      outputs = net(inputs)\n",
        "      _, predicted = torch.max(outputs, 1)\n",
        "      total += labels.size(0)\n",
        "      correct += (predicted == labels).sum().item()\n",
        "\n",
        "    acc = 100 * correct / total\n",
        "    return total, acc\n",
        "\n",
        "  train_total, train_acc = test(train_loader)\n",
        "  test_total, test_acc = test(test_loader)\n",
        "\n",
        "  if verbose:\n",
        "    print(f\"Accuracy on the {train_total} training samples: {train_acc:0.2f}\")\n",
        "    print(f\"Accuracy on the {test_total} testing samples: {test_acc:0.2f}\")\n",
        "\n",
        "  if training_plot:\n",
        "    plt.plot(training_losses)\n",
        "    plt.xlabel('Batch')\n",
        "    plt.ylabel('Training loss')\n",
        "    plt.show()\n",
        "\n",
        "  return train_acc, test_acc"
      ]
    },
    {
      "cell_type": "markdown",
      "metadata": {
        "execution": {},
        "id": "KHM2KPgJkm0M"
      },
      "source": [
        "### Think! 2.3.1: What's the point of `.eval()` and `.train()`?\n",
        "\n",
        "Is it necessary to use `net.train()` and `net.eval()` for our MLP model? why?"
      ]
    },
    {
      "cell_type": "code",
      "execution_count": null,
      "metadata": {
        "cellView": "form",
        "execution": {},
        "id": "FrKw4SgRkm0M"
      },
      "outputs": [],
      "source": [
        "# @title Student Response\n",
        "from ipywidgets import widgets\n",
        "\n",
        "\n",
        "text=widgets.Textarea(\n",
        "   value='Type your answer here and click on `Submit!`',\n",
        "   placeholder='Type something',\n",
        "   description='',\n",
        "   disabled=False\n",
        ")\n",
        "\n",
        "button = widgets.Button(description=\"Submit!\")\n",
        "\n",
        "display(text,button)\n",
        "\n",
        "def on_button_clicked(b):\n",
        "   atform.add_answer('q1', text.value)\n",
        "   print(\"Submission successful!\")\n",
        "\n",
        "\n",
        "button.on_click(on_button_clicked)"
      ]
    },
    {
      "cell_type": "markdown",
      "metadata": {
        "execution": {},
        "id": "FTyLx2ZUkm0M"
      },
      "source": [
        "[*Click for solution*](https://github.com/NeuromatchAcademy/course-content-dl/tree/main//tutorials/W1D3_MultiLayerPerceptrons/solutions/W1D3_Tutorial1_Solution_70e48a17.py)\n",
        "\n"
      ]
    },
    {
      "cell_type": "markdown",
      "metadata": {
        "execution": {},
        "id": "tZLsNIyJkm0M"
      },
      "source": [
        "Now let's put everything together and train your first deep-ish model!"
      ]
    },
    {
      "cell_type": "code",
      "execution_count": null,
      "metadata": {
        "execution": {},
        "id": "P7eHaW1tkm0M"
      },
      "outputs": [],
      "source": [
        "set_seed(SEED)\n",
        "net = Net('ReLU()', X_train.shape[1], [128], K).to(DEVICE)\n",
        "criterion = nn.CrossEntropyLoss()\n",
        "optimizer = optim.Adam(net.parameters(), lr=1e-3)\n",
        "num_epochs = 100\n",
        "\n",
        "_, _ = train_test_classification(net, criterion, optimizer, train_loader,\n",
        "                                 test_loader, num_epochs=num_epochs,\n",
        "                                 training_plot=True, device=DEVICE)"
      ]
    },
    {
      "cell_type": "markdown",
      "metadata": {
        "execution": {},
        "id": "PNc4GP0Qkm0M"
      },
      "source": [
        "And finally, let's visualize the learned decision-map. We know you're probably running out of time, so we won't make you write code now! But make sure you have reviewed it since we'll start with another visualization technique next time."
      ]
    },
    {
      "cell_type": "code",
      "execution_count": null,
      "metadata": {
        "execution": {},
        "id": "e3u1Smshkm0N"
      },
      "outputs": [],
      "source": [
        "def sample_grid(M=500, x_max=2.0):\n",
        "  \"\"\"\n",
        "  Helper function to simulate sample meshgrid\n",
        "\n",
        "  Args:\n",
        "    M: int\n",
        "      Size of the constructed tensor with meshgrid\n",
        "    x_max: float\n",
        "      Defines range for the set of points\n",
        "\n",
        "  Returns:\n",
        "    X_all: torch.tensor\n",
        "      Concatenated meshgrid tensor\n",
        "  \"\"\"\n",
        "  ii, jj = torch.meshgrid(torch.linspace(-x_max, x_max, M),\n",
        "                          torch.linspace(-x_max, x_max, M))\n",
        "  X_all = torch.cat([ii.unsqueeze(-1),\n",
        "                     jj.unsqueeze(-1)],\n",
        "                     dim=-1).view(-1, 2)\n",
        "  return X_all\n",
        "\n",
        "\n",
        "def plot_decision_map(X_all, y_pred, X_test, y_test,\n",
        "                      M=500, x_max=2.0, eps=1e-3):\n",
        "  \"\"\"\n",
        "  Helper function to plot decision map\n",
        "\n",
        "  Args:\n",
        "    X_all: torch.tensor\n",
        "      Concatenated meshgrid tensor\n",
        "    y_pred: torch.tensor\n",
        "      Labels predicted by the network\n",
        "    X_test: torch.tensor\n",
        "      Test data\n",
        "    y_test: torch.tensor\n",
        "      Labels of the test data\n",
        "    M: int\n",
        "      Size of the constructed tensor with meshgrid\n",
        "    x_max: float\n",
        "      Defines range for the set of points\n",
        "    eps: float\n",
        "      Decision threshold\n",
        "\n",
        "  Returns:\n",
        "    Nothing\n",
        "  \"\"\"\n",
        "  decision_map = torch.argmax(y_pred, dim=1)\n",
        "\n",
        "  for i in range(len(X_test)):\n",
        "    indices = (X_all[:, 0] - X_test[i, 0])**2 + (X_all[:, 1] - X_test[i, 1])**2 < eps\n",
        "    decision_map[indices] = (K + y_test[i]).long()\n",
        "\n",
        "  decision_map = decision_map.view(M, M)\n",
        "  plt.imshow(decision_map, extent=[-x_max, x_max, -x_max, x_max], cmap='jet')\n",
        "  plt.show()"
      ]
    },
    {
      "cell_type": "code",
      "execution_count": null,
      "metadata": {
        "execution": {},
        "id": "gp4qEexBkm0N"
      },
      "outputs": [],
      "source": [
        "X_all = sample_grid()\n",
        "y_pred = net(X_all)\n",
        "plot_decision_map(X_all, y_pred, X_test, y_test)"
      ]
    },
    {
      "cell_type": "markdown",
      "metadata": {
        "execution": {},
        "id": "XJffNWVdkm0N"
      },
      "source": [
        "### Think! 2.3.2: Does it generalize well?\n",
        "Do you think this model is performing well outside its training distribution? Why?"
      ]
    },
    {
      "cell_type": "code",
      "execution_count": null,
      "metadata": {
        "cellView": "form",
        "execution": {},
        "id": "64ZZ-49lkm0N"
      },
      "outputs": [],
      "source": [
        "# @title Student Response\n",
        "from ipywidgets import widgets\n",
        "\n",
        "\n",
        "text=widgets.Textarea(\n",
        "   value='Type your answer here and click on `Submit!`',\n",
        "   placeholder='Type something',\n",
        "   description='',\n",
        "   disabled=False\n",
        ")\n",
        "\n",
        "button = widgets.Button(description=\"Submit!\")\n",
        "\n",
        "display(text,button)\n",
        "\n",
        "def on_button_clicked(b):\n",
        "   atform.add_answer('q2' , text.value)\n",
        "   print(\"Submission successful!\")\n",
        "\n",
        "\n",
        "button.on_click(on_button_clicked)"
      ]
    },
    {
      "cell_type": "markdown",
      "metadata": {
        "execution": {},
        "id": "EGS-E19akm0N"
      },
      "source": [
        "[*Click for solution*](https://github.com/NeuromatchAcademy/course-content-dl/tree/main//tutorials/W1D3_MultiLayerPerceptrons/solutions/W1D3_Tutorial1_Solution_47ad29c3.py)\n",
        "\n"
      ]
    },
    {
      "cell_type": "markdown",
      "metadata": {
        "execution": {},
        "id": "VrScn89qkm0O"
      },
      "source": [
        "What would be your suggestions to increase models ability to generalize? Think about it and discuss with your pod."
      ]
    },
    {
      "cell_type": "markdown",
      "metadata": {
        "execution": {},
        "id": "RCAnH3SBkm0O"
      },
      "source": [
        "[*Click for solution*](https://github.com/NeuromatchAcademy/course-content-dl/tree/main//tutorials/W1D3_MultiLayerPerceptrons/solutions/W1D3_Tutorial1_Solution_c71914b5.py)\n",
        "\n"
      ]
    },
    {
      "cell_type": "markdown",
      "metadata": {
        "execution": {},
        "id": "CfzT9_fUkm0O"
      },
      "source": [
        "---\n",
        "# Summary\n",
        "\n",
        "In this tutorial, we have explored the Multi-leayer Perceptrons (MLPs). More specifically, we have discussed the similarities between artificial and biological neural networks (for more information see the Bonus section). we have also learned the Universal Approximation Theorem and implemented MLPs in PyTorch."
      ]
    },
    {
      "cell_type": "code",
      "execution_count": null,
      "metadata": {
        "cellView": "form",
        "execution": {},
        "id": "0K5p5uRskm0O"
      },
      "outputs": [],
      "source": [
        "# @title Airtable Submission Link\n",
        "from IPython import display as IPydisplay\n",
        "IPydisplay.HTML(\n",
        "   f\"\"\"\n",
        " <div>\n",
        "   <a href= \"{atform.url()}\" target=\"_blank\">\n",
        "   <img src=\"https://github.com/NeuromatchAcademy/course-content-dl/blob/main/tutorials/static/AirtableSubmissionButton.png?raw=1\"\n",
        " alt=\"button link to Airtable\" style=\"width:410px\"></a>\n",
        "   </div>\"\"\" )"
      ]
    },
    {
      "cell_type": "markdown",
      "metadata": {
        "execution": {},
        "id": "rZiQHTe2km0O"
      },
      "source": [
        "---\n",
        "# Bonus: Neuron Physiology and Motivation to Deep Learning\n",
        "\n",
        "This section will motivate one of the most popular nonlinearities in deep learning, the ReLU nonlinearity, by starting from the biophysics of neurons and obtaining the ReLU nonlinearity through a sequence of approximations. We will also show that neuronal biophysics sets a time scale for signal propagation speed through the brain. This time scale implies that neural circuits underlying fast perceptual and motor processing in the brain may not be excessively deep."
      ]
    },
    {
      "cell_type": "code",
      "execution_count": null,
      "metadata": {
        "cellView": "form",
        "execution": {},
        "id": "zH4MsLfakm0O"
      },
      "outputs": [],
      "source": [
        "# @title Video 5: Biological to Artificial Neurons\n",
        "from ipywidgets import widgets\n",
        "\n",
        "out2 = widgets.Output()\n",
        "with out2:\n",
        "  from IPython.display import IFrame\n",
        "  class BiliVideo(IFrame):\n",
        "    def __init__(self, id, page=1, width=400, height=300, **kwargs):\n",
        "      self.id=id\n",
        "      src = \"https://player.bilibili.com/player.html?bvid={0}&page={1}\".format(id, page)\n",
        "      super(BiliVideo, self).__init__(src, width, height, **kwargs)\n",
        "\n",
        "  video = BiliVideo(id=f\"BV1mf4y157vf\", width=854, height=480, fs=1)\n",
        "  print(\"Video available at https://www.bilibili.com/video/{0}\".format(video.id))\n",
        "  display(video)\n",
        "\n",
        "out1 = widgets.Output()\n",
        "with out1:\n",
        "  from IPython.display import YouTubeVideo\n",
        "  video = YouTubeVideo(id=f\"ELAbflymSLo\", width=854, height=480, fs=1, rel=0)\n",
        "  print(\"Video available at https://youtube.com/watch?v=\" + video.id)\n",
        "  display(video)\n",
        "\n",
        "out = widgets.Tab([out1, out2])\n",
        "out.set_title(0, 'Youtube')\n",
        "out.set_title(1, 'Bilibili')\n",
        "\n",
        "# add event to airtable\n",
        "atform.add_event('Video 5: Biological to Artificial Neurons')\n",
        "\n",
        "display(out)"
      ]
    },
    {
      "cell_type": "markdown",
      "metadata": {
        "execution": {},
        "id": "uLTAw9k4km0O"
      },
      "source": [
        "## Leaky Integrate-and-fire (LIF) neuronal model\n",
        "\n",
        "The basic idea of LIF neuron was proposed in 1907 by Louis Édouard Lapicque, long before we understood the electrophysiology of a neuron (see a translation of [Lapicque's paper](https://pubmed.ncbi.nlm.nih.gov/17968583/) ). More details of the model can be found in the book [**Theoretical neuroscience**](http://www.gatsby.ucl.ac.uk/~dayan/book/) by Peter Dayan and Laurence F. Abbott.\n",
        "\n",
        "The model dynamics is defined with the following formula,\n",
        "\n",
        "\\begin{equation}\n",
        "\\frac{d V_m}{d t}=\\left\\{\\begin{array}{cc}\n",
        "\\frac{1}{C_m}\\left(-\\frac{V_m}{R_m} + I \\right) & t>t_{rest} \\\\\n",
        "0 & \\text { otherwise }\n",
        "\\end{array}\\right.\n",
        "\\end{equation}\n",
        "\n",
        "\n",
        "Note that $V_{m}$, $C_{m}$, and $R_{m}$ are the membrane voltage, capacitance, and resitance of the neuron, respectively, so the $-\\frac{V_{m}}{R_{m}}$ denotes the leakage current. When $I$ is sufficiently strong such that $V_{m}$ reaches a certain threshold value $V_{\\rm th}$, it momentarily spikes and then $V_{m}$ is reset to $V_{\\rm reset}< V_{\\rm th}$, and voltage stays at $V_{\\rm reset}$ for $\\tau_{\\rm ref}$ ms, mimicking the refractoriness of the neuron during an action potential (note that $V_{\\rm reset}$ and $\\tau_{\\rm ref}$ is assumed to be zero in the lecture):\n",
        "\n",
        "\n",
        "\\begin{eqnarray}\n",
        "V_{m}(t)=V_{\\rm reset} \\text{ for } t\\in(t_{\\text{sp}}, t_{\\text{sp}} + \\tau_{\\text{ref}}]\n",
        "\\end{eqnarray}\n",
        "\n",
        "\n",
        "where $t_{\\rm sp}$ is the spike time when $V_{m}(t)$ just exceeded $V_{\\rm th}$.\n",
        "\n",
        "Thus, the LIF model captures the fact that a neuron:\n",
        "- Performs spatial and temporal integration of synaptic inputs \n",
        "- Generates a spike when the voltage reaches a certain threshold\n",
        "- Goes refractory during the action potential\n",
        "- Has a leaky membrane \n",
        "\n",
        "For in-depth content on computational models of neurons, follow the [NMA](https://www.neuromatchacademy.org/) tutorial 1 of *Biological Neuron Models*. Specifically, for NMA-CN 2021 follow this [Tutorial](https://github.com/NeuromatchAcademy/course-content/blob/master/tutorials/W2D3_BiologicalNeuronModels/W2D3_Tutorial1.ipynb)."
      ]
    },
    {
      "cell_type": "markdown",
      "metadata": {
        "execution": {},
        "id": "P7R2jLE8km0P"
      },
      "source": [
        "## Simulating an LIF Neuron\n",
        "\n",
        "In the cell below is given a function for LIF neuron model with it's arguments described.\n",
        "\n",
        "Note that we will use Euler's method to make a numerical approximation to a derivative. Hence we will use the following implementation of the model dynamics,\n",
        "\n",
        "\\begin{equation}\n",
        "V_m^{[n]}=\\left\\{\\begin{array}{cc}\n",
        "V_m^{[n-1]} + \\frac{1}{C_m}\\left(-\\frac{V_m^{[n-1]}}{R_m}+I \\right) \\Delta t & t>t_{r e s t} \\\\\n",
        "0 & \\text { otherwise }\n",
        "\\end{array}\\right.\n",
        "\\end{equation}\n",
        "\n",
        "where the superscript $[\\cdot]$ denotes the time point."
      ]
    },
    {
      "cell_type": "code",
      "execution_count": null,
      "metadata": {
        "execution": {},
        "id": "H2-rPz8wkm0P"
      },
      "outputs": [],
      "source": [
        "def run_LIF(I, T=50, dt=0.1, tau_ref=10,\n",
        "            Rm=1, Cm=10, Vth=1, V_spike=0.5):\n",
        "  \"\"\"\n",
        "  Simulate the LIF dynamics with external input current\n",
        "\n",
        "  Args:\n",
        "    I          : int\n",
        "      Input current (mA)\n",
        "    T          : int\n",
        "      Total time to simulate (msec)\n",
        "    dt         : float\n",
        "      Simulation of time step (msec)\n",
        "    tau_ref    : int\n",
        "      Refractory period (msec)\n",
        "    Rm         : int\n",
        "      Resistance (kOhm)\n",
        "    Cm         : int\n",
        "      Capacitance (uF)\n",
        "    Vth        : int\n",
        "      Spike threshold (V)\n",
        "    V_spike    : float\n",
        "      Spike delta (V)\n",
        "\n",
        "  Returns:\n",
        "    time       : list\n",
        "      Time points\n",
        "    Vm         : list\n",
        "      Tracking membrane potentials\n",
        "  \"\"\"\n",
        "\n",
        "  # Set up array of time steps\n",
        "  time = torch.arange(0, T + dt, dt)\n",
        "\n",
        "  # Set up array for tracking Vm\n",
        "  Vm = torch.zeros(len(time))\n",
        "\n",
        "  # Iterate over each time step\n",
        "  t_rest = 0\n",
        "  for i, t in enumerate(time):\n",
        "\n",
        "    # If t is after refractory period\n",
        "    if t > t_rest:\n",
        "      Vm[i] = Vm[i-1] + 1/Cm*(-Vm[i-1]/Rm + I)  * dt\n",
        "\n",
        "    # If Vm is over the threshold\n",
        "    if Vm[i] >= Vth:\n",
        "\n",
        "      # Increase volatage by change due to spike\n",
        "      Vm[i] += V_spike\n",
        "\n",
        "      # Set up new refactory period\n",
        "      t_rest = t + tau_ref\n",
        "\n",
        "  return time, Vm\n",
        "\n",
        "\n",
        "sim_time, Vm = run_LIF(1.5)\n",
        "# Plot the membrane voltage across time\n",
        "plt.plot(sim_time, Vm)\n",
        "plt.title('LIF Neuron Output')\n",
        "plt.ylabel('Membrane Potential (V)')\n",
        "plt.xlabel('Time (msec)')\n",
        "plt.show()"
      ]
    },
    {
      "cell_type": "markdown",
      "metadata": {
        "execution": {},
        "id": "V1a66aKhkm0P"
      },
      "source": [
        "### Interactive Demo: Neuron's transfer function explorer for different $R_m$ and $\\tau_{ref}$\n",
        "We know that real neurons communicate by modulating the spike count meaning that more input current causes a neuron to spike more often. Therefore, to find an input-output relationship, it makes sense to characterize their spike count as a function of input current. This is called the neuron's input-output transfer function. Let's plot the neuron's transfer function and see how it changes with respect to the **membrane resistance** and **refractory time**? "
      ]
    },
    {
      "cell_type": "code",
      "execution_count": null,
      "metadata": {
        "cellView": "form",
        "execution": {},
        "id": "GKfoV3QAkm0P"
      },
      "outputs": [],
      "source": [
        "# @title\n",
        "\n",
        "# @markdown Make sure you execute this cell to enable the widget!\n",
        "my_layout = widgets.Layout()\n",
        "\n",
        "@widgets.interact(Rm=widgets.FloatSlider(1., min=1, max=100.,\n",
        "                                         step=0.1, layout=my_layout),\n",
        "                  tau_ref=widgets.FloatSlider(1., min=1, max=100.,\n",
        "                                            step=0.1, layout=my_layout)\n",
        "                  )\n",
        "\n",
        "\n",
        "def plot_IF_curve(Rm, tau_ref):\n",
        "  \"\"\"\n",
        "  Helper function to plot frequency-current curve\n",
        "\n",
        "  Args:\n",
        "    Rm         : int\n",
        "      Resistance (kOhm)\n",
        "    tau_ref    : int\n",
        "      Refractory period (msec)\n",
        "\n",
        "  Returns:\n",
        "    Nothing\n",
        "  \"\"\"\n",
        "  T = 1000  # Total time to simulate (msec)\n",
        "  dt = 1  # Simulation time step (msec)\n",
        "  Vth = 1  # Spike threshold (V)\n",
        "  Is_max = 2\n",
        "  Is = torch.linspace(0, Is_max, 10)\n",
        "  spike_counts = []\n",
        "  for I in Is:\n",
        "    _, Vm = run_LIF(I, T=T, dt=dt, Vth=Vth, Rm=Rm, tau_ref=tau_ref)\n",
        "    spike_counts += [torch.sum(Vm > Vth)]\n",
        "\n",
        "  plt.plot(Is, spike_counts)\n",
        "  plt.title('LIF Neuron: Transfer Function')\n",
        "  plt.ylabel('Spike count')\n",
        "  plt.xlabel('I (mA)')\n",
        "  plt.xlim(0, Is_max)\n",
        "  plt.ylim(0, 80)\n",
        "  plt.show()"
      ]
    },
    {
      "cell_type": "markdown",
      "metadata": {
        "execution": {},
        "id": "PMp0c1P3km0Q"
      },
      "source": [
        "### Think!: Real and Artificial neuron similarities\n",
        "\n",
        "What happens at infinite membrane resistance ($R_m$) and small refactory time ($\\tau_{ref}$)? Why?\n",
        "\n",
        "Take 10 mins to discuss the similarity between a real neuron and an artificial one with your pod."
      ]
    },
    {
      "cell_type": "markdown",
      "metadata": {
        "execution": {},
        "id": "539NZazPkm0Q"
      },
      "source": [
        "[*Click for solution*](https://github.com/NeuromatchAcademy/course-content-dl/tree/main//tutorials/W1D3_MultiLayerPerceptrons/solutions/W1D3_Tutorial1_Solution_23ab5734.py)\n",
        "\n"
      ]
    }
  ],
  "metadata": {
    "colab": {
      "collapsed_sections": [],
      "name": "W1D3_Tutorial1",
      "provenance": [],
      "toc_visible": true,
      "include_colab_link": true
    },
    "kernel": {
      "display_name": "Python 3",
      "language": "python",
      "name": "python3"
    },
    "kernelspec": {
      "display_name": "Python 3",
      "name": "python3"
    },
    "language_info": {
      "codemirror_mode": {
        "name": "ipython",
        "version": 3
      },
      "file_extension": ".py",
      "mimetype": "text/x-python",
      "name": "python",
      "nbconvert_exporter": "python",
      "pygments_lexer": "ipython3",
      "version": "3.7.11"
    },
    "widgets": {
      "application/vnd.jupyter.widget-state+json": {
        "7c06fe52b9ec4d23b884f4238a1b35dc": {
          "model_module": "@jupyter-widgets/controls",
          "model_name": "TabModel",
          "model_module_version": "1.5.0",
          "state": {
            "_dom_classes": [],
            "_model_module": "@jupyter-widgets/controls",
            "_model_module_version": "1.5.0",
            "_model_name": "TabModel",
            "_titles": {
              "0": "Youtube",
              "1": "Bilibili"
            },
            "_view_count": null,
            "_view_module": "@jupyter-widgets/controls",
            "_view_module_version": "1.5.0",
            "_view_name": "TabView",
            "box_style": "",
            "children": [
              "IPY_MODEL_f84f0ffa675f4f878a6917b9171bd1f1",
              "IPY_MODEL_cf3dca68b1d7433bb5c520cda6822a99"
            ],
            "layout": "IPY_MODEL_ee1f9e3ea62746579f54c4e66dd63e95",
            "selected_index": 0
          }
        },
        "f84f0ffa675f4f878a6917b9171bd1f1": {
          "model_module": "@jupyter-widgets/output",
          "model_name": "OutputModel",
          "model_module_version": "1.0.0",
          "state": {
            "_dom_classes": [],
            "_model_module": "@jupyter-widgets/output",
            "_model_module_version": "1.0.0",
            "_model_name": "OutputModel",
            "_view_count": null,
            "_view_module": "@jupyter-widgets/output",
            "_view_module_version": "1.0.0",
            "_view_name": "OutputView",
            "layout": "IPY_MODEL_900297c3d7af46608c354907a337ee08",
            "msg_id": "",
            "outputs": [
              {
                "output_type": "stream",
                "name": "stdout",
                "text": [
                  "Video available at https://youtube.com/watch?v=Gh0KYl7ViAc\n"
                ]
              },
              {
                "output_type": "display_data",
                "data": {
                  "text/plain": "<IPython.lib.display.YouTubeVideo at 0x7f7e9049a510>",
                  "text/html": "\n        <iframe\n            width=\"854\"\n            height=\"480\"\n            src=\"https://www.youtube.com/embed/Gh0KYl7ViAc?fs=1&rel=0\"\n            frameborder=\"0\"\n            allowfullscreen\n        ></iframe>\n        ",
                  "image/jpeg": "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\n"
                },
                "metadata": {}
              }
            ]
          }
        },
        "cf3dca68b1d7433bb5c520cda6822a99": {
          "model_module": "@jupyter-widgets/output",
          "model_name": "OutputModel",
          "model_module_version": "1.0.0",
          "state": {
            "_dom_classes": [],
            "_model_module": "@jupyter-widgets/output",
            "_model_module_version": "1.0.0",
            "_model_name": "OutputModel",
            "_view_count": null,
            "_view_module": "@jupyter-widgets/output",
            "_view_module_version": "1.0.0",
            "_view_name": "OutputView",
            "layout": "IPY_MODEL_b2b87f92246949f49037b077ebc76d22",
            "msg_id": "",
            "outputs": [
              {
                "output_type": "stream",
                "name": "stdout",
                "text": [
                  "Video available at https://www.bilibili.com/video/BV1E3411r7TL\n"
                ]
              },
              {
                "output_type": "display_data",
                "data": {
                  "text/plain": "<__main__.BiliVideo at 0x7f7e90489e90>",
                  "text/html": "\n        <iframe\n            width=\"854\"\n            height=\"480\"\n            src=\"https://player.bilibili.com/player.html?bvid=BV1E3411r7TL&page=1?fs=1\"\n            frameborder=\"0\"\n            allowfullscreen\n        ></iframe>\n        "
                },
                "metadata": {}
              }
            ]
          }
        },
        "ee1f9e3ea62746579f54c4e66dd63e95": {
          "model_module": "@jupyter-widgets/base",
          "model_name": "LayoutModel",
          "model_module_version": "1.2.0",
          "state": {
            "_model_module": "@jupyter-widgets/base",
            "_model_module_version": "1.2.0",
            "_model_name": "LayoutModel",
            "_view_count": null,
            "_view_module": "@jupyter-widgets/base",
            "_view_module_version": "1.2.0",
            "_view_name": "LayoutView",
            "align_content": null,
            "align_items": null,
            "align_self": null,
            "border": null,
            "bottom": null,
            "display": null,
            "flex": null,
            "flex_flow": null,
            "grid_area": null,
            "grid_auto_columns": null,
            "grid_auto_flow": null,
            "grid_auto_rows": null,
            "grid_column": null,
            "grid_gap": null,
            "grid_row": null,
            "grid_template_areas": null,
            "grid_template_columns": null,
            "grid_template_rows": null,
            "height": null,
            "justify_content": null,
            "justify_items": null,
            "left": null,
            "margin": null,
            "max_height": null,
            "max_width": null,
            "min_height": null,
            "min_width": null,
            "object_fit": null,
            "object_position": null,
            "order": null,
            "overflow": null,
            "overflow_x": null,
            "overflow_y": null,
            "padding": null,
            "right": null,
            "top": null,
            "visibility": null,
            "width": null
          }
        },
        "900297c3d7af46608c354907a337ee08": {
          "model_module": "@jupyter-widgets/base",
          "model_name": "LayoutModel",
          "model_module_version": "1.2.0",
          "state": {
            "_model_module": "@jupyter-widgets/base",
            "_model_module_version": "1.2.0",
            "_model_name": "LayoutModel",
            "_view_count": null,
            "_view_module": "@jupyter-widgets/base",
            "_view_module_version": "1.2.0",
            "_view_name": "LayoutView",
            "align_content": null,
            "align_items": null,
            "align_self": null,
            "border": null,
            "bottom": null,
            "display": null,
            "flex": null,
            "flex_flow": null,
            "grid_area": null,
            "grid_auto_columns": null,
            "grid_auto_flow": null,
            "grid_auto_rows": null,
            "grid_column": null,
            "grid_gap": null,
            "grid_row": null,
            "grid_template_areas": null,
            "grid_template_columns": null,
            "grid_template_rows": null,
            "height": null,
            "justify_content": null,
            "justify_items": null,
            "left": null,
            "margin": null,
            "max_height": null,
            "max_width": null,
            "min_height": null,
            "min_width": null,
            "object_fit": null,
            "object_position": null,
            "order": null,
            "overflow": null,
            "overflow_x": null,
            "overflow_y": null,
            "padding": null,
            "right": null,
            "top": null,
            "visibility": null,
            "width": null
          }
        },
        "b2b87f92246949f49037b077ebc76d22": {
          "model_module": "@jupyter-widgets/base",
          "model_name": "LayoutModel",
          "model_module_version": "1.2.0",
          "state": {
            "_model_module": "@jupyter-widgets/base",
            "_model_module_version": "1.2.0",
            "_model_name": "LayoutModel",
            "_view_count": null,
            "_view_module": "@jupyter-widgets/base",
            "_view_module_version": "1.2.0",
            "_view_name": "LayoutView",
            "align_content": null,
            "align_items": null,
            "align_self": null,
            "border": null,
            "bottom": null,
            "display": null,
            "flex": null,
            "flex_flow": null,
            "grid_area": null,
            "grid_auto_columns": null,
            "grid_auto_flow": null,
            "grid_auto_rows": null,
            "grid_column": null,
            "grid_gap": null,
            "grid_row": null,
            "grid_template_areas": null,
            "grid_template_columns": null,
            "grid_template_rows": null,
            "height": null,
            "justify_content": null,
            "justify_items": null,
            "left": null,
            "margin": null,
            "max_height": null,
            "max_width": null,
            "min_height": null,
            "min_width": null,
            "object_fit": null,
            "object_position": null,
            "order": null,
            "overflow": null,
            "overflow_x": null,
            "overflow_y": null,
            "padding": null,
            "right": null,
            "top": null,
            "visibility": null,
            "width": null
          }
        },
        "fe1853f6750d4710a6600db44e76c558": {
          "model_module": "@jupyter-widgets/controls",
          "model_name": "TabModel",
          "model_module_version": "1.5.0",
          "state": {
            "_dom_classes": [],
            "_model_module": "@jupyter-widgets/controls",
            "_model_module_version": "1.5.0",
            "_model_name": "TabModel",
            "_titles": {
              "0": "Youtube",
              "1": "Bilibili"
            },
            "_view_count": null,
            "_view_module": "@jupyter-widgets/controls",
            "_view_module_version": "1.5.0",
            "_view_name": "TabView",
            "box_style": "",
            "children": [
              "IPY_MODEL_0e7eb2afc21b41d2a9fb217c531cd957",
              "IPY_MODEL_e90b9baa4a5549239c00b558a8d47294"
            ],
            "layout": "IPY_MODEL_07b3eaf9df6b4f8ead1544c1162fede1",
            "selected_index": 0
          }
        },
        "0e7eb2afc21b41d2a9fb217c531cd957": {
          "model_module": "@jupyter-widgets/output",
          "model_name": "OutputModel",
          "model_module_version": "1.0.0",
          "state": {
            "_dom_classes": [],
            "_model_module": "@jupyter-widgets/output",
            "_model_module_version": "1.0.0",
            "_model_name": "OutputModel",
            "_view_count": null,
            "_view_module": "@jupyter-widgets/output",
            "_view_module_version": "1.0.0",
            "_view_name": "OutputView",
            "layout": "IPY_MODEL_9c4077af9bbd41f39cc7fae959fd0455",
            "msg_id": "",
            "outputs": [
              {
                "output_type": "stream",
                "name": "stdout",
                "text": [
                  "Video available at https://youtube.com/watch?v=tg8HHKo1aH4\n"
                ]
              },
              {
                "output_type": "display_data",
                "data": {
                  "text/plain": "<IPython.lib.display.YouTubeVideo at 0x7f7e9049ed10>",
                  "text/html": "\n        <iframe\n            width=\"854\"\n            height=\"480\"\n            src=\"https://www.youtube.com/embed/tg8HHKo1aH4?fs=1&rel=0\"\n            frameborder=\"0\"\n            allowfullscreen\n        ></iframe>\n        ",
                  "image/jpeg": "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\n"
                },
                "metadata": {}
              }
            ]
          }
        },
        "e90b9baa4a5549239c00b558a8d47294": {
          "model_module": "@jupyter-widgets/output",
          "model_name": "OutputModel",
          "model_module_version": "1.0.0",
          "state": {
            "_dom_classes": [],
            "_model_module": "@jupyter-widgets/output",
            "_model_module_version": "1.0.0",
            "_model_name": "OutputModel",
            "_view_count": null,
            "_view_module": "@jupyter-widgets/output",
            "_view_module_version": "1.0.0",
            "_view_name": "OutputView",
            "layout": "IPY_MODEL_12f708e269224bae9f601f0d218752ec",
            "msg_id": "",
            "outputs": [
              {
                "output_type": "stream",
                "name": "stdout",
                "text": [
                  "Video available at https://www.bilibili.com/video/BV1SP4y147Uv\n"
                ]
              },
              {
                "output_type": "display_data",
                "data": {
                  "text/plain": "<__main__.BiliVideo at 0x7f7e9049edd0>",
                  "text/html": "\n        <iframe\n            width=\"854\"\n            height=\"480\"\n            src=\"https://player.bilibili.com/player.html?bvid=BV1SP4y147Uv&page=1?fs=1\"\n            frameborder=\"0\"\n            allowfullscreen\n        ></iframe>\n        "
                },
                "metadata": {}
              }
            ]
          }
        },
        "07b3eaf9df6b4f8ead1544c1162fede1": {
          "model_module": "@jupyter-widgets/base",
          "model_name": "LayoutModel",
          "model_module_version": "1.2.0",
          "state": {
            "_model_module": "@jupyter-widgets/base",
            "_model_module_version": "1.2.0",
            "_model_name": "LayoutModel",
            "_view_count": null,
            "_view_module": "@jupyter-widgets/base",
            "_view_module_version": "1.2.0",
            "_view_name": "LayoutView",
            "align_content": null,
            "align_items": null,
            "align_self": null,
            "border": null,
            "bottom": null,
            "display": null,
            "flex": null,
            "flex_flow": null,
            "grid_area": null,
            "grid_auto_columns": null,
            "grid_auto_flow": null,
            "grid_auto_rows": null,
            "grid_column": null,
            "grid_gap": null,
            "grid_row": null,
            "grid_template_areas": null,
            "grid_template_columns": null,
            "grid_template_rows": null,
            "height": null,
            "justify_content": null,
            "justify_items": null,
            "left": null,
            "margin": null,
            "max_height": null,
            "max_width": null,
            "min_height": null,
            "min_width": null,
            "object_fit": null,
            "object_position": null,
            "order": null,
            "overflow": null,
            "overflow_x": null,
            "overflow_y": null,
            "padding": null,
            "right": null,
            "top": null,
            "visibility": null,
            "width": null
          }
        },
        "9c4077af9bbd41f39cc7fae959fd0455": {
          "model_module": "@jupyter-widgets/base",
          "model_name": "LayoutModel",
          "model_module_version": "1.2.0",
          "state": {
            "_model_module": "@jupyter-widgets/base",
            "_model_module_version": "1.2.0",
            "_model_name": "LayoutModel",
            "_view_count": null,
            "_view_module": "@jupyter-widgets/base",
            "_view_module_version": "1.2.0",
            "_view_name": "LayoutView",
            "align_content": null,
            "align_items": null,
            "align_self": null,
            "border": null,
            "bottom": null,
            "display": null,
            "flex": null,
            "flex_flow": null,
            "grid_area": null,
            "grid_auto_columns": null,
            "grid_auto_flow": null,
            "grid_auto_rows": null,
            "grid_column": null,
            "grid_gap": null,
            "grid_row": null,
            "grid_template_areas": null,
            "grid_template_columns": null,
            "grid_template_rows": null,
            "height": null,
            "justify_content": null,
            "justify_items": null,
            "left": null,
            "margin": null,
            "max_height": null,
            "max_width": null,
            "min_height": null,
            "min_width": null,
            "object_fit": null,
            "object_position": null,
            "order": null,
            "overflow": null,
            "overflow_x": null,
            "overflow_y": null,
            "padding": null,
            "right": null,
            "top": null,
            "visibility": null,
            "width": null
          }
        },
        "12f708e269224bae9f601f0d218752ec": {
          "model_module": "@jupyter-widgets/base",
          "model_name": "LayoutModel",
          "model_module_version": "1.2.0",
          "state": {
            "_model_module": "@jupyter-widgets/base",
            "_model_module_version": "1.2.0",
            "_model_name": "LayoutModel",
            "_view_count": null,
            "_view_module": "@jupyter-widgets/base",
            "_view_module_version": "1.2.0",
            "_view_name": "LayoutView",
            "align_content": null,
            "align_items": null,
            "align_self": null,
            "border": null,
            "bottom": null,
            "display": null,
            "flex": null,
            "flex_flow": null,
            "grid_area": null,
            "grid_auto_columns": null,
            "grid_auto_flow": null,
            "grid_auto_rows": null,
            "grid_column": null,
            "grid_gap": null,
            "grid_row": null,
            "grid_template_areas": null,
            "grid_template_columns": null,
            "grid_template_rows": null,
            "height": null,
            "justify_content": null,
            "justify_items": null,
            "left": null,
            "margin": null,
            "max_height": null,
            "max_width": null,
            "min_height": null,
            "min_width": null,
            "object_fit": null,
            "object_position": null,
            "order": null,
            "overflow": null,
            "overflow_x": null,
            "overflow_y": null,
            "padding": null,
            "right": null,
            "top": null,
            "visibility": null,
            "width": null
          }
        },
        "417a87061e8c465e83599f6c5d8a59f3": {
          "model_module": "@jupyter-widgets/controls",
          "model_name": "TabModel",
          "model_module_version": "1.5.0",
          "state": {
            "_dom_classes": [],
            "_model_module": "@jupyter-widgets/controls",
            "_model_module_version": "1.5.0",
            "_model_name": "TabModel",
            "_titles": {
              "0": "Youtube",
              "1": "Bilibili"
            },
            "_view_count": null,
            "_view_module": "@jupyter-widgets/controls",
            "_view_module_version": "1.5.0",
            "_view_name": "TabView",
            "box_style": "",
            "children": [
              "IPY_MODEL_b259702cc1d84ead9abbd427bd4d3a92",
              "IPY_MODEL_70115b62425e4c888c3352c004c92e87"
            ],
            "layout": "IPY_MODEL_4187160367a146e9b22ab6329405e930",
            "selected_index": 0
          }
        },
        "b259702cc1d84ead9abbd427bd4d3a92": {
          "model_module": "@jupyter-widgets/output",
          "model_name": "OutputModel",
          "model_module_version": "1.0.0",
          "state": {
            "_dom_classes": [],
            "_model_module": "@jupyter-widgets/output",
            "_model_module_version": "1.0.0",
            "_model_name": "OutputModel",
            "_view_count": null,
            "_view_module": "@jupyter-widgets/output",
            "_view_module_version": "1.0.0",
            "_view_name": "OutputView",
            "layout": "IPY_MODEL_e188b6172d374678a8073219953507c7",
            "msg_id": "",
            "outputs": [
              {
                "output_type": "stream",
                "name": "stdout",
                "text": [
                  "Video available at https://youtube.com/watch?v=XtwLnaYJ7uc\n"
                ]
              },
              {
                "output_type": "display_data",
                "data": {
                  "text/plain": "<IPython.lib.display.YouTubeVideo at 0x7f7e90520f10>",
                  "text/html": "\n        <iframe\n            width=\"854\"\n            height=\"480\"\n            src=\"https://www.youtube.com/embed/XtwLnaYJ7uc?fs=1&rel=0\"\n            frameborder=\"0\"\n            allowfullscreen\n        ></iframe>\n        ",
                  "image/jpeg": "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\n"
                },
                "metadata": {}
              }
            ]
          }
        },
        "70115b62425e4c888c3352c004c92e87": {
          "model_module": "@jupyter-widgets/output",
          "model_name": "OutputModel",
          "model_module_version": "1.0.0",
          "state": {
            "_dom_classes": [],
            "_model_module": "@jupyter-widgets/output",
            "_model_module_version": "1.0.0",
            "_model_name": "OutputModel",
            "_view_count": null,
            "_view_module": "@jupyter-widgets/output",
            "_view_module_version": "1.0.0",
            "_view_name": "OutputView",
            "layout": "IPY_MODEL_ed168b4107204914853b0ea6c27d81b0",
            "msg_id": "",
            "outputs": [
              {
                "output_type": "stream",
                "name": "stdout",
                "text": [
                  "Video available at https://www.bilibili.com/video/BV1zh411z7LY\n"
                ]
              },
              {
                "output_type": "display_data",
                "data": {
                  "text/plain": "<__main__.BiliVideo at 0x7f7e903f1dd0>",
                  "text/html": "\n        <iframe\n            width=\"854\"\n            height=\"480\"\n            src=\"https://player.bilibili.com/player.html?bvid=BV1zh411z7LY&page=1?fs=1\"\n            frameborder=\"0\"\n            allowfullscreen\n        ></iframe>\n        "
                },
                "metadata": {}
              }
            ]
          }
        },
        "4187160367a146e9b22ab6329405e930": {
          "model_module": "@jupyter-widgets/base",
          "model_name": "LayoutModel",
          "model_module_version": "1.2.0",
          "state": {
            "_model_module": "@jupyter-widgets/base",
            "_model_module_version": "1.2.0",
            "_model_name": "LayoutModel",
            "_view_count": null,
            "_view_module": "@jupyter-widgets/base",
            "_view_module_version": "1.2.0",
            "_view_name": "LayoutView",
            "align_content": null,
            "align_items": null,
            "align_self": null,
            "border": null,
            "bottom": null,
            "display": null,
            "flex": null,
            "flex_flow": null,
            "grid_area": null,
            "grid_auto_columns": null,
            "grid_auto_flow": null,
            "grid_auto_rows": null,
            "grid_column": null,
            "grid_gap": null,
            "grid_row": null,
            "grid_template_areas": null,
            "grid_template_columns": null,
            "grid_template_rows": null,
            "height": null,
            "justify_content": null,
            "justify_items": null,
            "left": null,
            "margin": null,
            "max_height": null,
            "max_width": null,
            "min_height": null,
            "min_width": null,
            "object_fit": null,
            "object_position": null,
            "order": null,
            "overflow": null,
            "overflow_x": null,
            "overflow_y": null,
            "padding": null,
            "right": null,
            "top": null,
            "visibility": null,
            "width": null
          }
        },
        "e188b6172d374678a8073219953507c7": {
          "model_module": "@jupyter-widgets/base",
          "model_name": "LayoutModel",
          "model_module_version": "1.2.0",
          "state": {
            "_model_module": "@jupyter-widgets/base",
            "_model_module_version": "1.2.0",
            "_model_name": "LayoutModel",
            "_view_count": null,
            "_view_module": "@jupyter-widgets/base",
            "_view_module_version": "1.2.0",
            "_view_name": "LayoutView",
            "align_content": null,
            "align_items": null,
            "align_self": null,
            "border": null,
            "bottom": null,
            "display": null,
            "flex": null,
            "flex_flow": null,
            "grid_area": null,
            "grid_auto_columns": null,
            "grid_auto_flow": null,
            "grid_auto_rows": null,
            "grid_column": null,
            "grid_gap": null,
            "grid_row": null,
            "grid_template_areas": null,
            "grid_template_columns": null,
            "grid_template_rows": null,
            "height": null,
            "justify_content": null,
            "justify_items": null,
            "left": null,
            "margin": null,
            "max_height": null,
            "max_width": null,
            "min_height": null,
            "min_width": null,
            "object_fit": null,
            "object_position": null,
            "order": null,
            "overflow": null,
            "overflow_x": null,
            "overflow_y": null,
            "padding": null,
            "right": null,
            "top": null,
            "visibility": null,
            "width": null
          }
        },
        "ed168b4107204914853b0ea6c27d81b0": {
          "model_module": "@jupyter-widgets/base",
          "model_name": "LayoutModel",
          "model_module_version": "1.2.0",
          "state": {
            "_model_module": "@jupyter-widgets/base",
            "_model_module_version": "1.2.0",
            "_model_name": "LayoutModel",
            "_view_count": null,
            "_view_module": "@jupyter-widgets/base",
            "_view_module_version": "1.2.0",
            "_view_name": "LayoutView",
            "align_content": null,
            "align_items": null,
            "align_self": null,
            "border": null,
            "bottom": null,
            "display": null,
            "flex": null,
            "flex_flow": null,
            "grid_area": null,
            "grid_auto_columns": null,
            "grid_auto_flow": null,
            "grid_auto_rows": null,
            "grid_column": null,
            "grid_gap": null,
            "grid_row": null,
            "grid_template_areas": null,
            "grid_template_columns": null,
            "grid_template_rows": null,
            "height": null,
            "justify_content": null,
            "justify_items": null,
            "left": null,
            "margin": null,
            "max_height": null,
            "max_width": null,
            "min_height": null,
            "min_width": null,
            "object_fit": null,
            "object_position": null,
            "order": null,
            "overflow": null,
            "overflow_x": null,
            "overflow_y": null,
            "padding": null,
            "right": null,
            "top": null,
            "visibility": null,
            "width": null
          }
        },
        "577828991ceb447d991126b73fa1785c": {
          "model_module": "@jupyter-widgets/controls",
          "model_name": "TabModel",
          "model_module_version": "1.5.0",
          "state": {
            "_dom_classes": [],
            "_model_module": "@jupyter-widgets/controls",
            "_model_module_version": "1.5.0",
            "_model_name": "TabModel",
            "_titles": {
              "0": "Youtube",
              "1": "Bilibili"
            },
            "_view_count": null,
            "_view_module": "@jupyter-widgets/controls",
            "_view_module_version": "1.5.0",
            "_view_name": "TabView",
            "box_style": "",
            "children": [
              "IPY_MODEL_b7ded9575ecf4caea72ffa68c75ad302",
              "IPY_MODEL_4c1e124168af4a398c6c1a012c8fe7e0"
            ],
            "layout": "IPY_MODEL_3e28d848883349f0afb16888c89f036c",
            "selected_index": 0
          }
        },
        "b7ded9575ecf4caea72ffa68c75ad302": {
          "model_module": "@jupyter-widgets/output",
          "model_name": "OutputModel",
          "model_module_version": "1.0.0",
          "state": {
            "_dom_classes": [],
            "_model_module": "@jupyter-widgets/output",
            "_model_module_version": "1.0.0",
            "_model_name": "OutputModel",
            "_view_count": null,
            "_view_module": "@jupyter-widgets/output",
            "_view_module_version": "1.0.0",
            "_view_name": "OutputView",
            "layout": "IPY_MODEL_9aaf21d438a1492b869464013b01e365",
            "msg_id": "",
            "outputs": [
              {
                "output_type": "stream",
                "name": "stdout",
                "text": [
                  "Video available at https://youtube.com/watch?v=N8pVCbTlves\n"
                ]
              },
              {
                "output_type": "display_data",
                "data": {
                  "text/plain": "<IPython.lib.display.YouTubeVideo at 0x7f7e90395310>",
                  "text/html": "\n        <iframe\n            width=\"854\"\n            height=\"480\"\n            src=\"https://www.youtube.com/embed/N8pVCbTlves?fs=1&rel=0\"\n            frameborder=\"0\"\n            allowfullscreen\n        ></iframe>\n        ",
                  "image/jpeg": "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\n"
                },
                "metadata": {}
              }
            ]
          }
        },
        "4c1e124168af4a398c6c1a012c8fe7e0": {
          "model_module": "@jupyter-widgets/output",
          "model_name": "OutputModel",
          "model_module_version": "1.0.0",
          "state": {
            "_dom_classes": [],
            "_model_module": "@jupyter-widgets/output",
            "_model_module_version": "1.0.0",
            "_model_name": "OutputModel",
            "_view_count": null,
            "_view_module": "@jupyter-widgets/output",
            "_view_module_version": "1.0.0",
            "_view_name": "OutputView",
            "layout": "IPY_MODEL_ca702db601514617862961017cf6a292",
            "msg_id": "",
            "outputs": [
              {
                "output_type": "stream",
                "name": "stdout",
                "text": [
                  "Video available at https://www.bilibili.com/video/BV1Ag41177mB\n"
                ]
              },
              {
                "output_type": "display_data",
                "data": {
                  "text/plain": "<__main__.BiliVideo at 0x7f7e90395710>",
                  "text/html": "\n        <iframe\n            width=\"854\"\n            height=\"480\"\n            src=\"https://player.bilibili.com/player.html?bvid=BV1Ag41177mB&page=1?fs=1\"\n            frameborder=\"0\"\n            allowfullscreen\n        ></iframe>\n        "
                },
                "metadata": {}
              }
            ]
          }
        },
        "3e28d848883349f0afb16888c89f036c": {
          "model_module": "@jupyter-widgets/base",
          "model_name": "LayoutModel",
          "model_module_version": "1.2.0",
          "state": {
            "_model_module": "@jupyter-widgets/base",
            "_model_module_version": "1.2.0",
            "_model_name": "LayoutModel",
            "_view_count": null,
            "_view_module": "@jupyter-widgets/base",
            "_view_module_version": "1.2.0",
            "_view_name": "LayoutView",
            "align_content": null,
            "align_items": null,
            "align_self": null,
            "border": null,
            "bottom": null,
            "display": null,
            "flex": null,
            "flex_flow": null,
            "grid_area": null,
            "grid_auto_columns": null,
            "grid_auto_flow": null,
            "grid_auto_rows": null,
            "grid_column": null,
            "grid_gap": null,
            "grid_row": null,
            "grid_template_areas": null,
            "grid_template_columns": null,
            "grid_template_rows": null,
            "height": null,
            "justify_content": null,
            "justify_items": null,
            "left": null,
            "margin": null,
            "max_height": null,
            "max_width": null,
            "min_height": null,
            "min_width": null,
            "object_fit": null,
            "object_position": null,
            "order": null,
            "overflow": null,
            "overflow_x": null,
            "overflow_y": null,
            "padding": null,
            "right": null,
            "top": null,
            "visibility": null,
            "width": null
          }
        },
        "9aaf21d438a1492b869464013b01e365": {
          "model_module": "@jupyter-widgets/base",
          "model_name": "LayoutModel",
          "model_module_version": "1.2.0",
          "state": {
            "_model_module": "@jupyter-widgets/base",
            "_model_module_version": "1.2.0",
            "_model_name": "LayoutModel",
            "_view_count": null,
            "_view_module": "@jupyter-widgets/base",
            "_view_module_version": "1.2.0",
            "_view_name": "LayoutView",
            "align_content": null,
            "align_items": null,
            "align_self": null,
            "border": null,
            "bottom": null,
            "display": null,
            "flex": null,
            "flex_flow": null,
            "grid_area": null,
            "grid_auto_columns": null,
            "grid_auto_flow": null,
            "grid_auto_rows": null,
            "grid_column": null,
            "grid_gap": null,
            "grid_row": null,
            "grid_template_areas": null,
            "grid_template_columns": null,
            "grid_template_rows": null,
            "height": null,
            "justify_content": null,
            "justify_items": null,
            "left": null,
            "margin": null,
            "max_height": null,
            "max_width": null,
            "min_height": null,
            "min_width": null,
            "object_fit": null,
            "object_position": null,
            "order": null,
            "overflow": null,
            "overflow_x": null,
            "overflow_y": null,
            "padding": null,
            "right": null,
            "top": null,
            "visibility": null,
            "width": null
          }
        },
        "ca702db601514617862961017cf6a292": {
          "model_module": "@jupyter-widgets/base",
          "model_name": "LayoutModel",
          "model_module_version": "1.2.0",
          "state": {
            "_model_module": "@jupyter-widgets/base",
            "_model_module_version": "1.2.0",
            "_model_name": "LayoutModel",
            "_view_count": null,
            "_view_module": "@jupyter-widgets/base",
            "_view_module_version": "1.2.0",
            "_view_name": "LayoutView",
            "align_content": null,
            "align_items": null,
            "align_self": null,
            "border": null,
            "bottom": null,
            "display": null,
            "flex": null,
            "flex_flow": null,
            "grid_area": null,
            "grid_auto_columns": null,
            "grid_auto_flow": null,
            "grid_auto_rows": null,
            "grid_column": null,
            "grid_gap": null,
            "grid_row": null,
            "grid_template_areas": null,
            "grid_template_columns": null,
            "grid_template_rows": null,
            "height": null,
            "justify_content": null,
            "justify_items": null,
            "left": null,
            "margin": null,
            "max_height": null,
            "max_width": null,
            "min_height": null,
            "min_width": null,
            "object_fit": null,
            "object_position": null,
            "order": null,
            "overflow": null,
            "overflow_x": null,
            "overflow_y": null,
            "padding": null,
            "right": null,
            "top": null,
            "visibility": null,
            "width": null
          }
        },
        "2bca23765732415a97eb393dc966bf48": {
          "model_module": "@jupyter-widgets/controls",
          "model_name": "TabModel",
          "model_module_version": "1.5.0",
          "state": {
            "_dom_classes": [],
            "_model_module": "@jupyter-widgets/controls",
            "_model_module_version": "1.5.0",
            "_model_name": "TabModel",
            "_titles": {
              "0": "Youtube",
              "1": "Bilibili"
            },
            "_view_count": null,
            "_view_module": "@jupyter-widgets/controls",
            "_view_module_version": "1.5.0",
            "_view_name": "TabView",
            "box_style": "",
            "children": [
              "IPY_MODEL_0dba66f0985947e2817c871836aa260c",
              "IPY_MODEL_c648fb43193c465c9d1e10b7bb37b79d"
            ],
            "layout": "IPY_MODEL_5b3c3df63a13422c837809418283aab2",
            "selected_index": 0
          }
        },
        "0dba66f0985947e2817c871836aa260c": {
          "model_module": "@jupyter-widgets/output",
          "model_name": "OutputModel",
          "model_module_version": "1.0.0",
          "state": {
            "_dom_classes": [],
            "_model_module": "@jupyter-widgets/output",
            "_model_module_version": "1.0.0",
            "_model_name": "OutputModel",
            "_view_count": null,
            "_view_module": "@jupyter-widgets/output",
            "_view_module_version": "1.0.0",
            "_view_name": "OutputView",
            "layout": "IPY_MODEL_6805dc97c443441c8e3583b1f4abea75",
            "msg_id": "",
            "outputs": [
              {
                "output_type": "stream",
                "name": "stdout",
                "text": [
                  "Video available at https://youtube.com/watch?v=DfXZhRfBEqQ\n"
                ]
              },
              {
                "output_type": "display_data",
                "data": {
                  "text/plain": "<IPython.lib.display.YouTubeVideo at 0x7f7e90358890>",
                  "text/html": "\n        <iframe\n            width=\"854\"\n            height=\"480\"\n            src=\"https://www.youtube.com/embed/DfXZhRfBEqQ?fs=1&rel=0\"\n            frameborder=\"0\"\n            allowfullscreen\n        ></iframe>\n        ",
                  "image/jpeg": "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\n"
                },
                "metadata": {}
              }
            ]
          }
        },
        "c648fb43193c465c9d1e10b7bb37b79d": {
          "model_module": "@jupyter-widgets/output",
          "model_name": "OutputModel",
          "model_module_version": "1.0.0",
          "state": {
            "_dom_classes": [],
            "_model_module": "@jupyter-widgets/output",
            "_model_module_version": "1.0.0",
            "_model_name": "OutputModel",
            "_view_count": null,
            "_view_module": "@jupyter-widgets/output",
            "_view_module_version": "1.0.0",
            "_view_name": "OutputView",
            "layout": "IPY_MODEL_3d380e694b254d6ba95bfaf5c1428b3d",
            "msg_id": "",
            "outputs": [
              {
                "output_type": "stream",
                "name": "stdout",
                "text": [
                  "Video available at https://www.bilibili.com/video/BV1QV411p7mF\n"
                ]
              },
              {
                "output_type": "display_data",
                "data": {
                  "text/plain": "<__main__.BiliVideo at 0x7f7e90358390>",
                  "text/html": "\n        <iframe\n            width=\"854\"\n            height=\"480\"\n            src=\"https://player.bilibili.com/player.html?bvid=BV1QV411p7mF&page=1?fs=1\"\n            frameborder=\"0\"\n            allowfullscreen\n        ></iframe>\n        "
                },
                "metadata": {}
              }
            ]
          }
        },
        "5b3c3df63a13422c837809418283aab2": {
          "model_module": "@jupyter-widgets/base",
          "model_name": "LayoutModel",
          "model_module_version": "1.2.0",
          "state": {
            "_model_module": "@jupyter-widgets/base",
            "_model_module_version": "1.2.0",
            "_model_name": "LayoutModel",
            "_view_count": null,
            "_view_module": "@jupyter-widgets/base",
            "_view_module_version": "1.2.0",
            "_view_name": "LayoutView",
            "align_content": null,
            "align_items": null,
            "align_self": null,
            "border": null,
            "bottom": null,
            "display": null,
            "flex": null,
            "flex_flow": null,
            "grid_area": null,
            "grid_auto_columns": null,
            "grid_auto_flow": null,
            "grid_auto_rows": null,
            "grid_column": null,
            "grid_gap": null,
            "grid_row": null,
            "grid_template_areas": null,
            "grid_template_columns": null,
            "grid_template_rows": null,
            "height": null,
            "justify_content": null,
            "justify_items": null,
            "left": null,
            "margin": null,
            "max_height": null,
            "max_width": null,
            "min_height": null,
            "min_width": null,
            "object_fit": null,
            "object_position": null,
            "order": null,
            "overflow": null,
            "overflow_x": null,
            "overflow_y": null,
            "padding": null,
            "right": null,
            "top": null,
            "visibility": null,
            "width": null
          }
        },
        "6805dc97c443441c8e3583b1f4abea75": {
          "model_module": "@jupyter-widgets/base",
          "model_name": "LayoutModel",
          "model_module_version": "1.2.0",
          "state": {
            "_model_module": "@jupyter-widgets/base",
            "_model_module_version": "1.2.0",
            "_model_name": "LayoutModel",
            "_view_count": null,
            "_view_module": "@jupyter-widgets/base",
            "_view_module_version": "1.2.0",
            "_view_name": "LayoutView",
            "align_content": null,
            "align_items": null,
            "align_self": null,
            "border": null,
            "bottom": null,
            "display": null,
            "flex": null,
            "flex_flow": null,
            "grid_area": null,
            "grid_auto_columns": null,
            "grid_auto_flow": null,
            "grid_auto_rows": null,
            "grid_column": null,
            "grid_gap": null,
            "grid_row": null,
            "grid_template_areas": null,
            "grid_template_columns": null,
            "grid_template_rows": null,
            "height": null,
            "justify_content": null,
            "justify_items": null,
            "left": null,
            "margin": null,
            "max_height": null,
            "max_width": null,
            "min_height": null,
            "min_width": null,
            "object_fit": null,
            "object_position": null,
            "order": null,
            "overflow": null,
            "overflow_x": null,
            "overflow_y": null,
            "padding": null,
            "right": null,
            "top": null,
            "visibility": null,
            "width": null
          }
        },
        "3d380e694b254d6ba95bfaf5c1428b3d": {
          "model_module": "@jupyter-widgets/base",
          "model_name": "LayoutModel",
          "model_module_version": "1.2.0",
          "state": {
            "_model_module": "@jupyter-widgets/base",
            "_model_module_version": "1.2.0",
            "_model_name": "LayoutModel",
            "_view_count": null,
            "_view_module": "@jupyter-widgets/base",
            "_view_module_version": "1.2.0",
            "_view_name": "LayoutView",
            "align_content": null,
            "align_items": null,
            "align_self": null,
            "border": null,
            "bottom": null,
            "display": null,
            "flex": null,
            "flex_flow": null,
            "grid_area": null,
            "grid_auto_columns": null,
            "grid_auto_flow": null,
            "grid_auto_rows": null,
            "grid_column": null,
            "grid_gap": null,
            "grid_row": null,
            "grid_template_areas": null,
            "grid_template_columns": null,
            "grid_template_rows": null,
            "height": null,
            "justify_content": null,
            "justify_items": null,
            "left": null,
            "margin": null,
            "max_height": null,
            "max_width": null,
            "min_height": null,
            "min_width": null,
            "object_fit": null,
            "object_position": null,
            "order": null,
            "overflow": null,
            "overflow_x": null,
            "overflow_y": null,
            "padding": null,
            "right": null,
            "top": null,
            "visibility": null,
            "width": null
          }
        }
      }
    }
  },
  "nbformat": 4,
  "nbformat_minor": 0
}